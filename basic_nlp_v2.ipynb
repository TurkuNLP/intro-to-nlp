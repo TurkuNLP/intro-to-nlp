{
  "cells": [
    {
      "cell_type": "markdown",
      "metadata": {
        "id": "view-in-github",
        "colab_type": "text"
      },
      "source": [
        "<a href=\"https://colab.research.google.com/github/TurkuNLP/intro-to-nlp/blob/master/basic_nlp_v2.ipynb\" target=\"_parent\"><img src=\"https://colab.research.google.com/assets/colab-badge.svg\" alt=\"Open In Colab\"/></a>"
      ]
    },
    {
      "cell_type": "markdown",
      "metadata": {
        "id": "ziutcOnEWFMO"
      },
      "source": [
        "## Text Segmentation\n",
        "\n",
        "* **Segmentation:** Divide bigger units into smaller ones\n",
        "* In many cases text needs to be segmented into sentences and/or words\n",
        "* Why?\n",
        "\n",
        "\n",
        "* **Tokenization / word segmentation:** Segment text into individual tokens\n",
        "* **Sentence splitting / sentence segmentation:** Segment text into individual sentences"
      ]
    },
    {
      "cell_type": "markdown",
      "metadata": {
        "id": "9TXhAZEGWFMQ"
      },
      "source": [
        "```\n",
        "Extremely bad customer service\n",
        "\n",
        "Do not go to this salon, especially if you have to get your hair straightened. They did a very bad job with my hair \n",
        "and were extremely rude when I went back to ask them why it didn't work for my hair. Rude, insensitive, discourteous people!!!!!\n",
        "```\n",
        "(*Text source: https://github.com/UniversalDependencies/UD_English-EWT*)\n",
        "\n",
        "\n",
        "**Tokenized:**\n",
        "```\n",
        "Extremely bad customer service\n",
        "\n",
        "Do not go to this salon , especially if you have to get your hair straightened . They did a very bad job with my hair \n",
        "and were extremely rude when I went back to ask them why it did n't work for my hair . Rude , insensitive , discourteous people !!!!!\n",
        "```\n",
        "\n",
        "**Sentence splitted:**\n",
        "```\n",
        "Extremely bad customer service\n",
        "\n",
        "Do not go to this salon, especially if you have to get your hair straightened.\n",
        "\n",
        "They did a very bad job with my hair and were extremely rude when I went back to ask them why it didn't work for my hair.\n",
        "\n",
        "Rude, insensitive, discourteous people!!!!!\n",
        "```"
      ]
    },
    {
      "cell_type": "markdown",
      "metadata": {
        "id": "E4dd60DpWFMR"
      },
      "source": [
        "### Tokenization: HOW?\n",
        "\n",
        "* **Naive method 1:** Split from whitespace characters"
      ]
    },
    {
      "cell_type": "code",
      "execution_count": 8,
      "metadata": {
        "id": "tdfax4N4WFMR",
        "outputId": "0f520416-6ec5-4731-8323-f51a1926dffd",
        "colab": {
          "base_uri": "https://localhost:8080/"
        }
      },
      "outputs": [
        {
          "output_type": "stream",
          "name": "stdout",
          "text": [
            "Extremely\n",
            "bad\n",
            "customer\n",
            "service\n",
            "Do\n",
            "not\n",
            "go\n",
            "to\n",
            "this\n",
            "salon,\n",
            "especially\n",
            "if\n",
            "you\n",
            "have\n",
            "to\n",
            "get\n",
            "your\n",
            "hair\n",
            "straightened.\n",
            "They\n",
            "did\n",
            "a\n",
            "very\n",
            "bad\n",
            "job\n",
            "with\n",
            "my\n",
            "hair\n",
            "and\n",
            "were\n",
            "extremely\n",
            "rude\n",
            "when\n",
            "I\n",
            "went\n",
            "back\n",
            "to\n",
            "ask\n",
            "them\n",
            "why\n",
            "it\n",
            "didn't\n",
            "work\n",
            "for\n",
            "my\n",
            "hair.\n",
            "Rude,\n",
            "insensitive,\n",
            "discourteous\n",
            "people!!!!!\n"
          ]
        }
      ],
      "source": [
        "text=\"\"\"Extremely bad customer service\n",
        "\n",
        "Do not go to this salon, especially if you have to get your hair straightened. \\\n",
        "They did a very bad job with my hair and were extremely rude when I went back to \\\n",
        "ask them why it didn't work for my hair. Rude, insensitive, discourteous people!!!!!\"\"\"\n",
        "\n",
        "tokenized_text = text.split() # split(): Return a list of the words in the string, using whitespace as the delimiter string.\n",
        "\n",
        "for w in tokenized_text:\n",
        "    print(w)"
      ]
    },
    {
      "cell_type": "markdown",
      "metadata": {
        "id": "cXT_iPR2WFMS"
      },
      "source": [
        "* **Naive method 2:** Split from whitespace characters, take into account punctuation\n",
        "* Regular expressions:\n",
        "    * Define search patters\n",
        "    * Find these patterns from raw text, or find-and-replace if needed\n",
        "* Find all punctuation characters, and replace with whitespace+punctuation character\n",
        "    * *book.* --> *book .*\n",
        "    * *people!!!!!* --> *people !!!!!*\n",
        "    * How about clitics in English? [don't, can't, cannot?]\n",
        "    * 2-(14-hydroxypentadecyl)-4-methyl-5-oxo-2,5-dihydrofuran-3-carboxylic acid ???\n",
        "    * Usually it's not that important how exactly you do it, just be consistent!\n",
        "        * consistent = always do it the same way\n",
        "        * If you download two datasets which are already tokenized, the tokenization may differ and you need to be aware of it!"
      ]
    },
    {
      "cell_type": "code",
      "execution_count": 9,
      "metadata": {
        "id": "b0omWr9QWFMT",
        "outputId": "3307154d-499a-4270-8cc9-8f7f01352ffc",
        "colab": {
          "base_uri": "https://localhost:8080/"
        }
      },
      "outputs": [
        {
          "output_type": "stream",
          "name": "stdout",
          "text": [
            "Extremely bad customer service\n",
            "\n",
            "Do not go to this salon , especially if you have to get your hair straightened . They did a very bad job with my hair and were extremely rude when I went back to ask them why it did n't work for my hair . Rude , insensitive , discourteous people !!!!!\n"
          ]
        }
      ],
      "source": [
        "import re\n",
        "\n",
        "tokenized = re.sub(r'([.,!?]+)', r' \\1', text) # replace . , ! ? with whitespace+character(s), '+' means one or more\n",
        "tokenized = re.sub(r\"(n't)\", r\" \\1\", tokenized) # clitics\n",
        "\n",
        "print(tokenized) # Note: this is still string, apply simple whitespace splitting to get a list of tokens"
      ]
    },
    {
      "cell_type": "markdown",
      "metadata": {
        "id": "WvF1NWsNWFMX"
      },
      "source": [
        "* **Naive method 2** works quite well for English, Finnish, Swedish...\n",
        "    * Approx. 97-99% correct on clean text\n",
        "    * Many tokenizers are just a large number (in the hundreds) regular expressions\n",
        "\n",
        "\n",
        "* How about other languages, does it work for all?\n",
        "\n",
        ".\n",
        "\n",
        ".\n",
        "\n",
        ".\n",
        "\n",
        ".\n",
        "\n",
        ".\n",
        "\n",
        ".\n",
        "\n",
        ".\n",
        "\n",
        ".\n",
        "\n",
        "**Nope! Why not?**\n",
        "\n",
        ".\n",
        "\n",
        ".\n",
        "\n",
        ".\n",
        "\n",
        ".\n",
        "\n",
        ".\n",
        "\n",
        ".\n",
        "\n",
        ".\n",
        "\n",
        "* All languages do not use whitespace or punctuation, or the meaning of those may be different.\n",
        "* Chinese, Thai, Vietnamese\n",
        "\n",
        "![tokenization.png](https://github.com/TurkuNLP/intro-to-nlp/blob/master/figs/tokenization.png?raw=1)"
      ]
    },
    {
      "cell_type": "markdown",
      "metadata": {
        "id": "XfQmIvngWFMY"
      },
      "source": [
        "* **Naive algorithm:**\n",
        "    1) Build a vocabulary for the language\n",
        "    2) Start from the beginning of the text, and find the longest matching word\n",
        "    3) Split the matching word and continue from the next remaining character\n",
        "* *the table down there* --> *thetabledownthere* --> *theta bled own there*\n",
        "    * Does not work well for English, but in Chinese words are usually 2-4 characters long, so the simple algorithm works better\n",
        "    * Where to get the dictionary?\n",
        "    \n",
        "**Tokenization: State-of-the-art**\n",
        "* State-of-the-art = The best existing method currently known\n",
        "* Machine learning\n",
        "    * Collect raw (untokenized) text for the language you are interested in, and manually tokenize it.\n",
        "    * Train a classifier\n",
        "    * The trained classifier can be used to tokenize new text"
      ]
    },
    {
      "cell_type": "markdown",
      "metadata": {
        "id": "5xMDiYq9WFMY"
      },
      "source": [
        "#### Sentence splitting: HOW?\n",
        "\n",
        "* **Naive method 1:** What kind of punctuation characters end the sentence?\n",
        "    * yes: . ! ?\n",
        "    * no: ,\n",
        "* Define a list of sentence-final punctuation, and always split on those.\n",
        "* Problems?\n",
        "\n",
        "![sentence_splitting.png](https://github.com/TurkuNLP/intro-to-nlp/blob/master/figs/sentence_splitting.png?raw=1)\n",
        "\n",
        "\n",
        "* **Solution 1:** Define a list of rules to identify when punctuation does not end a sentence\n",
        "    * List of known abbreviations, list of regular expression to regocnize numbers etc. (*The cost was approx. 1.5 million euros.*)\n",
        "    * How about missing punctuation? Other languages?\n",
        "    \n",
        "**Sentence splitting: State-of-the-art**\n",
        "* Machine learning\n",
        "    * Collect raw text for the language you are interested in, and manually sentence segment it.\n",
        "    * Train a classifier\n",
        "    * The trained classifier can be used to sentence segment new text\n",
        "    \n",
        "## Try UDPipe machine learned tokenizer and sentence splitter"
      ]
    },
    {
      "cell_type": "code",
      "execution_count": 11,
      "metadata": {
        "colab": {
          "base_uri": "https://localhost:8080/"
        },
        "id": "ce6O2NqgWFMY",
        "outputId": "7bb637f9-7c43-45bf-b5fb-db3eb786fe16"
      },
      "outputs": [
        {
          "output_type": "stream",
          "name": "stdout",
          "text": [
            "File ‘en.segmenter.udpipe’ already there; not retrieving.\n",
            "\n",
            "Looking in indexes: https://pypi.org/simple, https://us-python.pkg.dev/colab-wheels/public/simple/\n",
            "Requirement already satisfied: ufal.udpipe in /usr/local/lib/python3.9/dist-packages (1.3.0.1)\n"
          ]
        }
      ],
      "source": [
        "# Let's try to tokenize and sentence split a small dataset with UDPipe machine learned segmenter!\n",
        "# Documentation: https://ufal.mff.cuni.cz/udpipe/users-manual\n",
        "# Training data: \n",
        "# Finnish (intro-to-nlp/Data/fi.segmenter.udpipe): https://github.com/UniversalDependencies/UD_Finnish-TDT v.2.2\n",
        "# English (intro-to-nlp/Data/en.segmenter.udpipe): https://github.com/UniversalDependencies/UD_English-EWT v.2.2\n",
        "# Swedish (intro-to-nlp/Data/sv.segmenter.udpipe): https://github.com/UniversalDependencies/UD_Swedish-Talbanken v.2.2\n",
        "\n",
        "!wget -nc https://github.com/TurkuNLP/intro-to-nlp/raw/master/Data/en.segmenter.udpipe\n",
        "\n",
        "!pip3 install ufal.udpipe\n",
        "\n",
        "import ufal.udpipe as udpipe\n",
        "\n",
        "model = udpipe.Model.load(\"en.segmenter.udpipe\")\n",
        "pipeline = udpipe.Pipeline(model,\"tokenize\",\"none\",\"none\",\"horizontal\") # horizontal: returns one sentence per line, with words separated by a single space\n",
        "\n"
      ]
    },
    {
      "cell_type": "code",
      "source": [
        "document=\"\"\"\n",
        "The North American X-15 is a hypersonic rocket-powered aircraft. It was operated by the United States Air Force and the National Aeronautics and Space Administration as part of the X-plane series of experimental aircraft. The X-15 set speed and altitude records in the 1960s, reaching the edge of outer space and returning with valuable data used in aircraft and spacecraft design. The X-15's highest speed, 4,520 miles per hour (7,274 km/h; 2,021 m/s),[1] was achieved on 3 October 1967,[2] when William J. Knight flew at Mach 6.7 at an altitude of 102,100 feet (31,120 m), or 19.34 miles. This set the official world record for the highest speed ever recorded by a crewed, powered aircraft, which remains unbroken.[3][4]\n",
        "\n",
        "During the X-15 program, 12 pilots flew a combined 199 flights.[1] Of these, 8 pilots flew a combined 13 flights which met the Air Force spaceflight criterion by exceeding the altitude of 50 miles (80 km), thus qualifying these pilots as being astronauts; of those 13 flights, two (flown by the same civilian pilot) met the FAI definition (100 kilometres (62 mi)) of outer space. The 5 Air Force pilots qualified for military astronaut wings immediately, while the 3 civilian pilots were eventually awarded NASA astronaut wings in 2005, 35 years after the last X-15 flight.[5][6]\n",
        "\"\"\"\n",
        "\n",
        "segmented_document = pipeline.process(document)\n",
        "\n",
        "print(segmented_document)"
      ],
      "metadata": {
        "id": "f_b3xiM2cghl",
        "outputId": "ace24adc-f364-4303-de33-9895e54b256b",
        "colab": {
          "base_uri": "https://localhost:8080/"
        }
      },
      "execution_count": 12,
      "outputs": [
        {
          "output_type": "stream",
          "name": "stdout",
          "text": [
            "The North American X - 15 is a hypersonic rocket - powered aircraft .\n",
            "It was operated by the United States Air Force and the National Aeronautics and Space Administration as part of the X - plane series of experimental aircraft .\n",
            "The X - 15 set speed and altitude records in the 1960s , reaching the edge of outer space and returning with valuable data used in aircraft and spacecraft design .\n",
            "The X - 15 's highest speed , 4,520 miles per hour ( 7,274 km/h ; 2,021 m/s ) ,[ 1 ] was achieved on 3 October 1967 , [ 2 ] when William J. Knight flew at Mach 6.7 at an altitude of 102,100 feet ( 31,120 m ) , or 19.34 miles .\n",
            "This set the official world record for the highest speed ever recorded by a crewed , powered aircraft , which remains unbroken .\n",
            "[ 3 ] [ 4 ]\n",
            "During the X - 15 program , 12 pilots flew a combined 199 flights .\n",
            "[ 1 ]\n",
            "Of these , 8 pilots flew a combined 13 flights which met the Air Force spaceflight criterion by exceeding the altitude of 50 miles ( 80 km ) , thus qualifying these pilots as being astronauts ; of those 13 flights , two ( flown by the same civilian pilot ) met the FAI definition ( 100 kilometres ( 62 mi ) ) of outer space .\n",
            "The 5 Air Force pilots qualified for military astronaut wings immediately , while the 3 civilian pilots were eventually awarded NASA astronaut wings in 2005 , 35 years after the last X - 15 flight .\n",
            "[ 5 ] [ 6 ]\n",
            "\n"
          ]
        }
      ]
    },
    {
      "cell_type": "markdown",
      "metadata": {
        "id": "M9BtnHDeWFMZ"
      },
      "source": [
        "## 4. Word frequencies\n",
        "\n",
        "* How many times each word appears in the corpus?\n",
        "* How many unique words the corpus has?\n",
        "    * vocabulary size"
      ]
    },
    {
      "cell_type": "code",
      "execution_count": null,
      "metadata": {
        "id": "KaPTwF3NWFMa",
        "outputId": "00f7ac03-8415-472d-df25-7f85f2f0efc5"
      },
      "outputs": [
        {
          "name": "stdout",
          "output_type": "stream",
          "text": [
            "Most common tokens: [('the', 11464), (',', 10974), ('.', 10515), ('a', 6291), ('and', 6269), ('of', 5723), ('to', 5221), ('is', 4310), ('in', 3421), ('I', 3115), ('it', 3101), ('that', 2723), ('\"', 2633), (\"'s\", 2432), ('this', 2287), ('\\\\', 2250), ('was', 2013), ('-', 1980), ('with', 1812), ('as', 1711)]\n",
            "Vocabulary size: 21939\n"
          ]
        }
      ],
      "source": [
        "from collections import Counter\n",
        "\n",
        "token_counter = Counter()\n",
        "for doc in documents[:1000]: # IMDB documents\n",
        "    tokenized = pipeline.process(doc)\n",
        "    tokens = tokenized.split() # after segmenter, we can do whitespace splitting\n",
        "    token_counter.update(tokens)\n",
        "\n",
        "print(\"Most common tokens:\", token_counter.most_common(20))\n",
        "print(\"Vocabulary size:\", len(token_counter))"
      ]
    },
    {
      "cell_type": "markdown",
      "metadata": {
        "id": "UI4Tme-MWFMb"
      },
      "source": [
        "### Stop words\n",
        "\n",
        "* Commonly used functional words with little semantic meaning\n",
        "* Typically the most frequent words in the corpus\n",
        "* The idea is to densify the data by removing these \"meaningless\" words"
      ]
    },
    {
      "cell_type": "code",
      "execution_count": null,
      "metadata": {
        "id": "cXQF3pzdWFMb",
        "outputId": "a92a53a4-9053-4e2d-e7d7-b653814a1f92"
      },
      "outputs": [
        {
          "name": "stdout",
          "output_type": "stream",
          "text": [
            "Number of tokens: 47\n",
            "Tokens: [(\"'s\", 2432), ('film', 1630), ('movie', 1596), (\"n't\", 1237), ('one', 1004), ('like', 729), (\"'\", 685), ('good', 634), ('would', 527), ('time', 488), ('really', 445), ('even', 430), ('story', 425), ('see', 397), ('could', 383), ('get', 364), ('people', 361), ('much', 345), ('bad', 340), ('well', 334), ('great', 326), ('made', 311), ('first', 310), ('way', 307), ('make', 305), ('also', 299), ('think', 279), ('movies', 278), ('films', 275), ('characters', 275), ('many', 268), ('character', 267), ('show', 266), ('acting', 250), ('ever', 246), ('watch', 241), ('seen', 240), ('plot', 240), ('love', 229), ('never', 225), ('little', 220), ('best', 218), ('say', 217), ('two', 216), ('know', 214), ('life', 213), ('end', 206)]\n"
          ]
        },
        {
          "name": "stderr",
          "output_type": "stream",
          "text": [
            "[nltk_data] Downloading package stopwords to /home/jmnybl/nltk_data...\n",
            "[nltk_data]   Unzipping corpora/stopwords.zip.\n"
          ]
        }
      ],
      "source": [
        "import nltk\n",
        "nltk.download('stopwords') # download the stopwords dataset\n",
        "\n",
        "from nltk.corpus import stopwords\n",
        "\n",
        "# take 150 most common words from the IMDB corpus and filter out stop words and punctuation\n",
        "filtered_tokens = []\n",
        "punctuation_chars = '. , : ( ) ! ? \" = & - ; ... \\\\ '.split() # list of punctuation symbols to ignore\n",
        "for word, count in token_counter.most_common(150):\n",
        "    if word.lower() in stopwords.words(\"english\") or word in punctuation_chars:\n",
        "        continue\n",
        "    filtered_tokens.append((word, count))\n",
        "print(\"Number of tokens:\", len(filtered_tokens))\n",
        "print(\"Tokens:\", filtered_tokens)"
      ]
    },
    {
      "cell_type": "markdown",
      "metadata": {
        "id": "dPqSB58sWFMc"
      },
      "source": [
        "Quotes from the internet search:\n",
        "\n",
        "* *A stop word is a commonly used word (such as “the”, “a”, “an”, “in”) that a search engine has been programmed to ignore.* (geeksforgeeks.org)\n",
        "* *Stop words are words which are filtered out before processing of natural language data (text).* (Wikipedia)\n",
        "\n",
        "**Not necessarily true with modern machine learning techniques!**\n",
        "\n",
        "* Another approach: Do not remove anything but give a higher importance to more meaningful words\n",
        "\n",
        "\n",
        "### tf-idf weighting\n",
        "\n",
        "* TF = term frequency *tf(t, d)*, how many times the term *t* appears in the **document** *d*\n",
        "* DF = document frequency *df(t)*, in how many documents (out of all documents) the term *t* appears\n",
        "* IDF = inverse document frequency, *m/df(t)*, where *m* is the total number of documents in your collection\n",
        "* TF-IDF = **tf(t, d) * idf(t)**\n",
        "    * Usually calculated using logaritmic scale --> tf(t, d) * log(idf(t)) or log(1 + tf(t,d)) * log(idf(t))\n",
        "    \n",
        "| ![log.png](https://github.com/TurkuNLP/intro-to-nlp/blob/master/figs/log.png?raw=1) |\n",
        "|:--:|\n",
        "| *Source: Wikipedia* |\n",
        "    \n",
        "* common in information retrieval, also used in document classification\n",
        "* scale down the impact of tokens that occur very frequently in many documents and are hence empirically less informative than words that occur in a small fraction of the documents\n",
        "\n",
        "### Examples of idf-weights calculated using natural logarithm (ln) and a Finnish corpus\n",
        "\n",
        "![idf.png](https://github.com/TurkuNLP/intro-to-nlp/blob/master/figs/idf.png?raw=1)"
      ]
    },
    {
      "cell_type": "markdown",
      "metadata": {
        "id": "8Rv5xWXSWFMc"
      },
      "source": [
        "## 5. Text Normalization\n",
        "\n",
        "* Remove certain \"randomness\" from the data\n",
        "* Try to reduce uncommon cases\n",
        "* Normalization techniques involve:\n",
        "  * Tokenization\n",
        "  * Punctuation removal\n",
        "  * Capitalization / Lowercasing\n",
        "  * Accent removal\n",
        "  * Stemming / Lemmatization\n",
        "  * ...\n",
        "\n",
        "### Stemming and lemmatization\n",
        "\n",
        "* Densify data by removing inflectional variation\n",
        "\n",
        "* **Stemming:** Determine the word root by removing inflectional affixes \n",
        "    * play, plays, playing, played --> play\n",
        "    * activate, active, activated, activation --> activ\n",
        "    * koira, koiran, koiralla, koirilla --> koir\n",
        "    * koirasta --> koir\n",
        "* Risk of overstemming or understemming: two separate inflected words are stemmed to the same root, or inflections of the same word are stemmed to different roots\n",
        "* Does not take into account the context (lives --> live / life, koirasta --> koira / koiras)\n",
        "\n",
        "\n",
        "* **Lemmatization:** Determine the base (dictionary) form of the word\n",
        "    * play, plays, playing, played --> play\n",
        "    * activate, active, activated, activation --> activate, active, activate, activation\n",
        "    * koira, koiran, koiralla, koirilla --> koira\n",
        "    * koirasta --> koira / koiras\n",
        "* Generally better, but also computationally heavier and more complex method"
      ]
    },
    {
      "cell_type": "code",
      "execution_count": null,
      "metadata": {
        "id": "x2yfKSNkWFMd",
        "outputId": "72fd28bd-d391-4e49-a268-6bb7b5170783"
      },
      "outputs": [
        {
          "name": "stdout",
          "output_type": "stream",
          "text": [
            "with all this stuff go down at the moment with mj i'v start listen to his music, watch the odd documentari here and there, watch the wiz and watch moonwalk again. mayb i just want to get a certain insight into this guy who i thought was realli cool in the eighti just to mayb make up my mind whether he is guilti or innocent. moonwalk is part biography, part featur film which i rememb go to see at the cinema when it was origin released. some of it has subtl messag about mj feel toward the press and also the obvious messag of drug are bad m'kay. visual impress but of cours this is all about michael jackson so unless you remot like mj in anyway then you are go to hate this and find it boring. some may call mj an egotist for consent to the make of this movi but mj and most of his fan would say that he made it for the fan which if true is realli nice of him. the actual featur film bit when it final start is onli on for 20 minut or so exclud the smooth crimin sequenc and joe pesci is convinc as a psychopath all power drug lord. whi he want mj dead so bad is beyond me. becaus mj overheard his plans? nah, joe pesci charact rant that he want peopl to know it is he who is suppli drug etc so i dunno, mayb he just hate mj music. lot of cool thing in this like mj turn into a car and a robot and the whole speed demon sequence. also, the director must have had the patienc of a saint when it came to film the kiddi bad sequenc as usual director hate work with one kid let alon a whole bunch of them perform a complex danc scene. bottom line, this movi is for peopl who like mj on one level or anoth (which i think is most people). if not, then stay away. it doe tri and give off a wholesom messag and iron mj bestest buddi in this movi is a girl! michael jackson is truli one of the most talent peopl ever to grace this planet but is he guilty? well, with all the attent i'v gave this subject....hmmm well i don't know becaus peopl can be differ behind close doors, i know this for a fact. he is either an extrem nice but stupid guy or one of the most sickest liars. i hope he is not the latter.\n"
          ]
        }
      ],
      "source": [
        "from nltk.stem.snowball import SnowballStemmer\n",
        "\n",
        "stemmer = SnowballStemmer(\"english\")\n",
        "\n",
        "print(\" \".join(stemmer.stem(w) for w in documents[0].split()))\n"
      ]
    },
    {
      "cell_type": "code",
      "source": [
        "!pip install trankit transformers"
      ],
      "metadata": {
        "id": "efC_iOA_1Awx",
        "outputId": "3a7661ab-c54f-40e3-e51d-8def38d788b4",
        "colab": {
          "base_uri": "https://localhost:8080/"
        }
      },
      "execution_count": 5,
      "outputs": [
        {
          "output_type": "stream",
          "name": "stdout",
          "text": [
            "Looking in indexes: https://pypi.org/simple, https://us-python.pkg.dev/colab-wheels/public/simple/\n",
            "Requirement already satisfied: trankit in /usr/local/lib/python3.9/dist-packages (1.1.1)\n",
            "Collecting transformers\n",
            "  Downloading transformers-4.26.1-py3-none-any.whl (6.3 MB)\n",
            "\u001b[2K     \u001b[90m━━━━━━━━━━━━━━━━━━━━━━━━━━━━━━━━━━━━━━━━\u001b[0m \u001b[32m6.3/6.3 MB\u001b[0m \u001b[31m42.3 MB/s\u001b[0m eta \u001b[36m0:00:00\u001b[0m\n",
            "\u001b[?25hRequirement already satisfied: sacremoses in /usr/local/lib/python3.9/dist-packages (from trankit) (0.0.53)\n",
            "Requirement already satisfied: langid==1.1.6 in /usr/local/lib/python3.9/dist-packages (from trankit) (1.1.6)\n",
            "Requirement already satisfied: filelock in /usr/local/lib/python3.9/dist-packages (from trankit) (3.9.0)\n",
            "Requirement already satisfied: requests in /usr/local/lib/python3.9/dist-packages (from trankit) (2.25.1)\n",
            "Requirement already satisfied: regex!=2019.12.17 in /usr/local/lib/python3.9/dist-packages (from trankit) (2022.6.2)\n",
            "Requirement already satisfied: packaging in /usr/local/lib/python3.9/dist-packages (from trankit) (23.0)\n",
            "Requirement already satisfied: tokenizers>=0.7.0 in /usr/local/lib/python3.9/dist-packages (from trankit) (0.13.2)\n",
            "Requirement already satisfied: torch>=1.6.0 in /usr/local/lib/python3.9/dist-packages (from trankit) (1.13.1+cu116)\n",
            "Requirement already satisfied: protobuf in /usr/local/lib/python3.9/dist-packages (from trankit) (3.19.6)\n",
            "Requirement already satisfied: sentencepiece in /usr/local/lib/python3.9/dist-packages (from trankit) (0.1.97)\n",
            "Requirement already satisfied: numpy in /usr/local/lib/python3.9/dist-packages (from trankit) (1.22.4)\n",
            "Requirement already satisfied: tqdm>=4.27 in /usr/local/lib/python3.9/dist-packages (from trankit) (4.65.0)\n",
            "Collecting huggingface-hub<1.0,>=0.11.0\n",
            "  Downloading huggingface_hub-0.13.1-py3-none-any.whl (199 kB)\n",
            "\u001b[2K     \u001b[90m━━━━━━━━━━━━━━━━━━━━━━━━━━━━━━━━━━━━━━\u001b[0m \u001b[32m199.2/199.2 KB\u001b[0m \u001b[31m19.1 MB/s\u001b[0m eta \u001b[36m0:00:00\u001b[0m\n",
            "\u001b[?25hRequirement already satisfied: pyyaml>=5.1 in /usr/local/lib/python3.9/dist-packages (from transformers) (6.0)\n",
            "Requirement already satisfied: typing-extensions>=3.7.4.3 in /usr/local/lib/python3.9/dist-packages (from huggingface-hub<1.0,>=0.11.0->transformers) (4.5.0)\n",
            "Requirement already satisfied: chardet<5,>=3.0.2 in /usr/local/lib/python3.9/dist-packages (from requests->trankit) (4.0.0)\n",
            "Requirement already satisfied: idna<3,>=2.5 in /usr/local/lib/python3.9/dist-packages (from requests->trankit) (2.10)\n",
            "Requirement already satisfied: certifi>=2017.4.17 in /usr/local/lib/python3.9/dist-packages (from requests->trankit) (2022.12.7)\n",
            "Requirement already satisfied: urllib3<1.27,>=1.21.1 in /usr/local/lib/python3.9/dist-packages (from requests->trankit) (1.26.14)\n",
            "Requirement already satisfied: six in /usr/local/lib/python3.9/dist-packages (from sacremoses->trankit) (1.15.0)\n",
            "Requirement already satisfied: joblib in /usr/local/lib/python3.9/dist-packages (from sacremoses->trankit) (1.2.0)\n",
            "Requirement already satisfied: click in /usr/local/lib/python3.9/dist-packages (from sacremoses->trankit) (8.1.3)\n",
            "Installing collected packages: huggingface-hub, transformers\n",
            "Successfully installed huggingface-hub-0.13.1 transformers-4.26.1\n"
          ]
        }
      ]
    },
    {
      "cell_type": "code",
      "source": [
        "import trankit\n",
        "p = trankit.Pipeline('english', gpu=False)"
      ],
      "metadata": {
        "id": "VhmIpLVp_y2X",
        "outputId": "1f6eadd7-b1f4-4b41-a303-678b6155d527",
        "colab": {
          "base_uri": "https://localhost:8080/",
          "height": 287,
          "referenced_widgets": [
            "265d0ad39066443b9d67d792d8766c23",
            "137050ae68de4680a38cd748b423479e",
            "571703aabc5c44c28738956eeae7f667",
            "9550b08570a547dd9985b28a6718aabc",
            "20c656d5868245d2b189586b0327b9df",
            "05734d2f0ff242a786f1f2424404bb85",
            "dbf9daf0d1de439ba273a53fe6e513fd",
            "8bf47b0cd4e140b8b0240182db7e4a5b",
            "f1c4dc78cfc94c0e844532cea4e35c08",
            "d3e560cf48d44aaf84567b817a279dbd",
            "acea09c670004136ae380008958d547c",
            "82541a2ac80b484ab24bbbca3d58058f",
            "02c0c538c3084b2ca7fceb2b2930e1d9",
            "37efadc2a6c1415d8b0908f0420861b9",
            "3196bea9ce924c05ac63e10e676a9775",
            "03c38f341a6f462894a1aa3fab8f2e1b",
            "c29d1584c41e41ca9bb1fca60b1bd157",
            "b28b8d8050f84451beafb61e746bfc15",
            "17fad57386ad4bd48079ca0d7ddf4c0f",
            "d2b14dbda7574769bc81d83c0884abfa",
            "f6c61eae55dd4a6ba16b0fc078a15b7c",
            "2afeb5d9c842481aba6e39a28f4848c9",
            "4fae2c130d0e413d881f2917b0810791",
            "7a77306087ec4d328716123e70b3f707",
            "bc53b1efb50d43449d5042b93fb70c1c",
            "1b43031812f84f2ebecf9d9a94b161da",
            "082e8e67de2f48509478d1863c4f9db7",
            "2991af382f244b0d90b19b74deace82a",
            "c661056de1cb4049a573a3c2536a61df",
            "c1c99400bdd04ccb8578f41103ceae34",
            "cc6cf62558b24fa9805d86c6b44dd442",
            "b17f05989dad453db1fb090289cbb1e1",
            "c7b666dc47a54697a1b5980662c245c7"
          ]
        }
      },
      "execution_count": 6,
      "outputs": [
        {
          "output_type": "display_data",
          "data": {
            "text/plain": [
              "Downloading:   0%|          | 0.00/5.07M [00:00<?, ?B/s]"
            ],
            "application/vnd.jupyter.widget-view+json": {
              "version_major": 2,
              "version_minor": 0,
              "model_id": "265d0ad39066443b9d67d792d8766c23"
            }
          },
          "metadata": {}
        },
        {
          "output_type": "stream",
          "name": "stdout",
          "text": [
            "http://nlp.uoregon.edu/download/trankit/v1.0.0/xlm-roberta-base/english.zip\n"
          ]
        },
        {
          "output_type": "stream",
          "name": "stderr",
          "text": [
            "Downloading: 100%|██████████| 47.9M/47.9M [00:01<00:00, 24.2MiB/s]\n"
          ]
        },
        {
          "output_type": "stream",
          "name": "stdout",
          "text": [
            "Loading pretrained XLM-Roberta, this may take a while...\n"
          ]
        },
        {
          "output_type": "display_data",
          "data": {
            "text/plain": [
              "Downloading:   0%|          | 0.00/512 [00:00<?, ?B/s]"
            ],
            "application/vnd.jupyter.widget-view+json": {
              "version_major": 2,
              "version_minor": 0,
              "model_id": "82541a2ac80b484ab24bbbca3d58058f"
            }
          },
          "metadata": {}
        },
        {
          "output_type": "display_data",
          "data": {
            "text/plain": [
              "Downloading:   0%|          | 0.00/1.12G [00:00<?, ?B/s]"
            ],
            "application/vnd.jupyter.widget-view+json": {
              "version_major": 2,
              "version_minor": 0,
              "model_id": "4fae2c130d0e413d881f2917b0810791"
            }
          },
          "metadata": {}
        },
        {
          "output_type": "stream",
          "name": "stdout",
          "text": [
            "Loading tokenizer for english\n",
            "Loading tagger for english\n",
            "Loading lemmatizer for english\n",
            "Loading NER tagger for english\n",
            "==================================================\n",
            "Active language: english\n",
            "==================================================\n"
          ]
        }
      ]
    },
    {
      "cell_type": "code",
      "source": [
        "p(\"This isn't a Finnish text and/or document.\")"
      ],
      "metadata": {
        "id": "YG89BMqX_5mT",
        "outputId": "db40917c-f507-44f5-d017-c0dea229d03a",
        "colab": {
          "base_uri": "https://localhost:8080/"
        }
      },
      "execution_count": 7,
      "outputs": [
        {
          "output_type": "execute_result",
          "data": {
            "text/plain": [
              "{'text': \"This isn't a Finnish text and/or document.\",\n",
              " 'sentences': [{'id': 1,\n",
              "   'text': \"This isn't a Finnish text and/or document.\",\n",
              "   'tokens': [{'id': 1,\n",
              "     'text': 'This',\n",
              "     'upos': 'PRON',\n",
              "     'xpos': 'DT',\n",
              "     'feats': 'Number=Sing|PronType=Dem',\n",
              "     'head': 5,\n",
              "     'deprel': 'nsubj',\n",
              "     'dspan': (0, 4),\n",
              "     'span': (0, 4),\n",
              "     'lemma': 'this',\n",
              "     'ner': 'O'},\n",
              "    {'id': 2,\n",
              "     'text': \"isn't\",\n",
              "     'upos': 'PART',\n",
              "     'xpos': 'RB',\n",
              "     'head': 5,\n",
              "     'deprel': 'advmod',\n",
              "     'dspan': (5, 10),\n",
              "     'span': (5, 10),\n",
              "     'lemma': \"isn't\",\n",
              "     'ner': 'O'},\n",
              "    {'id': 3,\n",
              "     'text': 'a',\n",
              "     'upos': 'DET',\n",
              "     'xpos': 'DT',\n",
              "     'feats': 'Definite=Ind|PronType=Art',\n",
              "     'head': 5,\n",
              "     'deprel': 'det',\n",
              "     'dspan': (11, 12),\n",
              "     'span': (11, 12),\n",
              "     'lemma': 'a',\n",
              "     'ner': 'O'},\n",
              "    {'id': 4,\n",
              "     'text': 'Finnish',\n",
              "     'upos': 'ADJ',\n",
              "     'xpos': 'JJ',\n",
              "     'feats': 'Degree=Pos',\n",
              "     'head': 5,\n",
              "     'deprel': 'amod',\n",
              "     'dspan': (13, 20),\n",
              "     'span': (13, 20),\n",
              "     'lemma': 'finnish',\n",
              "     'ner': 'S-MISC'},\n",
              "    {'id': 5,\n",
              "     'text': 'text',\n",
              "     'upos': 'NOUN',\n",
              "     'xpos': 'NN',\n",
              "     'feats': 'Number=Sing',\n",
              "     'head': 0,\n",
              "     'deprel': 'root',\n",
              "     'dspan': (21, 25),\n",
              "     'span': (21, 25),\n",
              "     'lemma': 'text',\n",
              "     'ner': 'O'},\n",
              "    {'id': 6,\n",
              "     'text': 'and',\n",
              "     'upos': 'CCONJ',\n",
              "     'xpos': 'CC',\n",
              "     'head': 8,\n",
              "     'deprel': 'cc',\n",
              "     'dspan': (26, 29),\n",
              "     'span': (26, 29),\n",
              "     'lemma': 'and',\n",
              "     'ner': 'O'},\n",
              "    {'id': 7,\n",
              "     'text': '/',\n",
              "     'upos': 'PUNCT',\n",
              "     'xpos': ',',\n",
              "     'head': 8,\n",
              "     'deprel': 'cc',\n",
              "     'dspan': (29, 30),\n",
              "     'span': (29, 30),\n",
              "     'lemma': '/',\n",
              "     'ner': 'O'},\n",
              "    {'id': 8,\n",
              "     'text': 'or',\n",
              "     'upos': 'CCONJ',\n",
              "     'xpos': 'CC',\n",
              "     'head': 9,\n",
              "     'deprel': 'cc',\n",
              "     'dspan': (30, 32),\n",
              "     'span': (30, 32),\n",
              "     'lemma': 'or',\n",
              "     'ner': 'O'},\n",
              "    {'id': 9,\n",
              "     'text': 'document',\n",
              "     'upos': 'NOUN',\n",
              "     'xpos': 'NN',\n",
              "     'feats': 'Number=Sing',\n",
              "     'head': 5,\n",
              "     'deprel': 'conj',\n",
              "     'dspan': (33, 41),\n",
              "     'span': (33, 41),\n",
              "     'lemma': 'document',\n",
              "     'ner': 'O'},\n",
              "    {'id': 10,\n",
              "     'text': '.',\n",
              "     'upos': 'PUNCT',\n",
              "     'xpos': '.',\n",
              "     'head': 5,\n",
              "     'deprel': 'punct',\n",
              "     'dspan': (41, 42),\n",
              "     'span': (41, 42),\n",
              "     'lemma': '.',\n",
              "     'ner': 'O'}],\n",
              "   'dspan': (0, 42)}],\n",
              " 'lang': 'english'}"
            ]
          },
          "metadata": {},
          "execution_count": 7
        }
      ]
    }
  ],
  "metadata": {
    "colab": {
      "name": "basic_nlp.ipynb",
      "provenance": [],
      "include_colab_link": true
    },
    "kernelspec": {
      "display_name": "Python 3",
      "language": "python",
      "name": "python3"
    },
    "language_info": {
      "codemirror_mode": {
        "name": "ipython",
        "version": 3
      },
      "file_extension": ".py",
      "mimetype": "text/x-python",
      "name": "python",
      "nbconvert_exporter": "python",
      "pygments_lexer": "ipython3",
      "version": "3.8.5"
    },
    "widgets": {
      "application/vnd.jupyter.widget-state+json": {
        "265d0ad39066443b9d67d792d8766c23": {
          "model_module": "@jupyter-widgets/controls",
          "model_name": "HBoxModel",
          "model_module_version": "1.5.0",
          "state": {
            "_dom_classes": [],
            "_model_module": "@jupyter-widgets/controls",
            "_model_module_version": "1.5.0",
            "_model_name": "HBoxModel",
            "_view_count": null,
            "_view_module": "@jupyter-widgets/controls",
            "_view_module_version": "1.5.0",
            "_view_name": "HBoxView",
            "box_style": "",
            "children": [
              "IPY_MODEL_137050ae68de4680a38cd748b423479e",
              "IPY_MODEL_571703aabc5c44c28738956eeae7f667",
              "IPY_MODEL_9550b08570a547dd9985b28a6718aabc"
            ],
            "layout": "IPY_MODEL_20c656d5868245d2b189586b0327b9df"
          }
        },
        "137050ae68de4680a38cd748b423479e": {
          "model_module": "@jupyter-widgets/controls",
          "model_name": "HTMLModel",
          "model_module_version": "1.5.0",
          "state": {
            "_dom_classes": [],
            "_model_module": "@jupyter-widgets/controls",
            "_model_module_version": "1.5.0",
            "_model_name": "HTMLModel",
            "_view_count": null,
            "_view_module": "@jupyter-widgets/controls",
            "_view_module_version": "1.5.0",
            "_view_name": "HTMLView",
            "description": "",
            "description_tooltip": null,
            "layout": "IPY_MODEL_05734d2f0ff242a786f1f2424404bb85",
            "placeholder": "​",
            "style": "IPY_MODEL_dbf9daf0d1de439ba273a53fe6e513fd",
            "value": "Downloading: 100%"
          }
        },
        "571703aabc5c44c28738956eeae7f667": {
          "model_module": "@jupyter-widgets/controls",
          "model_name": "FloatProgressModel",
          "model_module_version": "1.5.0",
          "state": {
            "_dom_classes": [],
            "_model_module": "@jupyter-widgets/controls",
            "_model_module_version": "1.5.0",
            "_model_name": "FloatProgressModel",
            "_view_count": null,
            "_view_module": "@jupyter-widgets/controls",
            "_view_module_version": "1.5.0",
            "_view_name": "ProgressView",
            "bar_style": "success",
            "description": "",
            "description_tooltip": null,
            "layout": "IPY_MODEL_8bf47b0cd4e140b8b0240182db7e4a5b",
            "max": 5069051,
            "min": 0,
            "orientation": "horizontal",
            "style": "IPY_MODEL_f1c4dc78cfc94c0e844532cea4e35c08",
            "value": 5069051
          }
        },
        "9550b08570a547dd9985b28a6718aabc": {
          "model_module": "@jupyter-widgets/controls",
          "model_name": "HTMLModel",
          "model_module_version": "1.5.0",
          "state": {
            "_dom_classes": [],
            "_model_module": "@jupyter-widgets/controls",
            "_model_module_version": "1.5.0",
            "_model_name": "HTMLModel",
            "_view_count": null,
            "_view_module": "@jupyter-widgets/controls",
            "_view_module_version": "1.5.0",
            "_view_name": "HTMLView",
            "description": "",
            "description_tooltip": null,
            "layout": "IPY_MODEL_d3e560cf48d44aaf84567b817a279dbd",
            "placeholder": "​",
            "style": "IPY_MODEL_acea09c670004136ae380008958d547c",
            "value": " 5.07M/5.07M [00:00&lt;00:00, 21.6MB/s]"
          }
        },
        "20c656d5868245d2b189586b0327b9df": {
          "model_module": "@jupyter-widgets/base",
          "model_name": "LayoutModel",
          "model_module_version": "1.2.0",
          "state": {
            "_model_module": "@jupyter-widgets/base",
            "_model_module_version": "1.2.0",
            "_model_name": "LayoutModel",
            "_view_count": null,
            "_view_module": "@jupyter-widgets/base",
            "_view_module_version": "1.2.0",
            "_view_name": "LayoutView",
            "align_content": null,
            "align_items": null,
            "align_self": null,
            "border": null,
            "bottom": null,
            "display": null,
            "flex": null,
            "flex_flow": null,
            "grid_area": null,
            "grid_auto_columns": null,
            "grid_auto_flow": null,
            "grid_auto_rows": null,
            "grid_column": null,
            "grid_gap": null,
            "grid_row": null,
            "grid_template_areas": null,
            "grid_template_columns": null,
            "grid_template_rows": null,
            "height": null,
            "justify_content": null,
            "justify_items": null,
            "left": null,
            "margin": null,
            "max_height": null,
            "max_width": null,
            "min_height": null,
            "min_width": null,
            "object_fit": null,
            "object_position": null,
            "order": null,
            "overflow": null,
            "overflow_x": null,
            "overflow_y": null,
            "padding": null,
            "right": null,
            "top": null,
            "visibility": null,
            "width": null
          }
        },
        "05734d2f0ff242a786f1f2424404bb85": {
          "model_module": "@jupyter-widgets/base",
          "model_name": "LayoutModel",
          "model_module_version": "1.2.0",
          "state": {
            "_model_module": "@jupyter-widgets/base",
            "_model_module_version": "1.2.0",
            "_model_name": "LayoutModel",
            "_view_count": null,
            "_view_module": "@jupyter-widgets/base",
            "_view_module_version": "1.2.0",
            "_view_name": "LayoutView",
            "align_content": null,
            "align_items": null,
            "align_self": null,
            "border": null,
            "bottom": null,
            "display": null,
            "flex": null,
            "flex_flow": null,
            "grid_area": null,
            "grid_auto_columns": null,
            "grid_auto_flow": null,
            "grid_auto_rows": null,
            "grid_column": null,
            "grid_gap": null,
            "grid_row": null,
            "grid_template_areas": null,
            "grid_template_columns": null,
            "grid_template_rows": null,
            "height": null,
            "justify_content": null,
            "justify_items": null,
            "left": null,
            "margin": null,
            "max_height": null,
            "max_width": null,
            "min_height": null,
            "min_width": null,
            "object_fit": null,
            "object_position": null,
            "order": null,
            "overflow": null,
            "overflow_x": null,
            "overflow_y": null,
            "padding": null,
            "right": null,
            "top": null,
            "visibility": null,
            "width": null
          }
        },
        "dbf9daf0d1de439ba273a53fe6e513fd": {
          "model_module": "@jupyter-widgets/controls",
          "model_name": "DescriptionStyleModel",
          "model_module_version": "1.5.0",
          "state": {
            "_model_module": "@jupyter-widgets/controls",
            "_model_module_version": "1.5.0",
            "_model_name": "DescriptionStyleModel",
            "_view_count": null,
            "_view_module": "@jupyter-widgets/base",
            "_view_module_version": "1.2.0",
            "_view_name": "StyleView",
            "description_width": ""
          }
        },
        "8bf47b0cd4e140b8b0240182db7e4a5b": {
          "model_module": "@jupyter-widgets/base",
          "model_name": "LayoutModel",
          "model_module_version": "1.2.0",
          "state": {
            "_model_module": "@jupyter-widgets/base",
            "_model_module_version": "1.2.0",
            "_model_name": "LayoutModel",
            "_view_count": null,
            "_view_module": "@jupyter-widgets/base",
            "_view_module_version": "1.2.0",
            "_view_name": "LayoutView",
            "align_content": null,
            "align_items": null,
            "align_self": null,
            "border": null,
            "bottom": null,
            "display": null,
            "flex": null,
            "flex_flow": null,
            "grid_area": null,
            "grid_auto_columns": null,
            "grid_auto_flow": null,
            "grid_auto_rows": null,
            "grid_column": null,
            "grid_gap": null,
            "grid_row": null,
            "grid_template_areas": null,
            "grid_template_columns": null,
            "grid_template_rows": null,
            "height": null,
            "justify_content": null,
            "justify_items": null,
            "left": null,
            "margin": null,
            "max_height": null,
            "max_width": null,
            "min_height": null,
            "min_width": null,
            "object_fit": null,
            "object_position": null,
            "order": null,
            "overflow": null,
            "overflow_x": null,
            "overflow_y": null,
            "padding": null,
            "right": null,
            "top": null,
            "visibility": null,
            "width": null
          }
        },
        "f1c4dc78cfc94c0e844532cea4e35c08": {
          "model_module": "@jupyter-widgets/controls",
          "model_name": "ProgressStyleModel",
          "model_module_version": "1.5.0",
          "state": {
            "_model_module": "@jupyter-widgets/controls",
            "_model_module_version": "1.5.0",
            "_model_name": "ProgressStyleModel",
            "_view_count": null,
            "_view_module": "@jupyter-widgets/base",
            "_view_module_version": "1.2.0",
            "_view_name": "StyleView",
            "bar_color": null,
            "description_width": ""
          }
        },
        "d3e560cf48d44aaf84567b817a279dbd": {
          "model_module": "@jupyter-widgets/base",
          "model_name": "LayoutModel",
          "model_module_version": "1.2.0",
          "state": {
            "_model_module": "@jupyter-widgets/base",
            "_model_module_version": "1.2.0",
            "_model_name": "LayoutModel",
            "_view_count": null,
            "_view_module": "@jupyter-widgets/base",
            "_view_module_version": "1.2.0",
            "_view_name": "LayoutView",
            "align_content": null,
            "align_items": null,
            "align_self": null,
            "border": null,
            "bottom": null,
            "display": null,
            "flex": null,
            "flex_flow": null,
            "grid_area": null,
            "grid_auto_columns": null,
            "grid_auto_flow": null,
            "grid_auto_rows": null,
            "grid_column": null,
            "grid_gap": null,
            "grid_row": null,
            "grid_template_areas": null,
            "grid_template_columns": null,
            "grid_template_rows": null,
            "height": null,
            "justify_content": null,
            "justify_items": null,
            "left": null,
            "margin": null,
            "max_height": null,
            "max_width": null,
            "min_height": null,
            "min_width": null,
            "object_fit": null,
            "object_position": null,
            "order": null,
            "overflow": null,
            "overflow_x": null,
            "overflow_y": null,
            "padding": null,
            "right": null,
            "top": null,
            "visibility": null,
            "width": null
          }
        },
        "acea09c670004136ae380008958d547c": {
          "model_module": "@jupyter-widgets/controls",
          "model_name": "DescriptionStyleModel",
          "model_module_version": "1.5.0",
          "state": {
            "_model_module": "@jupyter-widgets/controls",
            "_model_module_version": "1.5.0",
            "_model_name": "DescriptionStyleModel",
            "_view_count": null,
            "_view_module": "@jupyter-widgets/base",
            "_view_module_version": "1.2.0",
            "_view_name": "StyleView",
            "description_width": ""
          }
        },
        "82541a2ac80b484ab24bbbca3d58058f": {
          "model_module": "@jupyter-widgets/controls",
          "model_name": "HBoxModel",
          "model_module_version": "1.5.0",
          "state": {
            "_dom_classes": [],
            "_model_module": "@jupyter-widgets/controls",
            "_model_module_version": "1.5.0",
            "_model_name": "HBoxModel",
            "_view_count": null,
            "_view_module": "@jupyter-widgets/controls",
            "_view_module_version": "1.5.0",
            "_view_name": "HBoxView",
            "box_style": "",
            "children": [
              "IPY_MODEL_02c0c538c3084b2ca7fceb2b2930e1d9",
              "IPY_MODEL_37efadc2a6c1415d8b0908f0420861b9",
              "IPY_MODEL_3196bea9ce924c05ac63e10e676a9775"
            ],
            "layout": "IPY_MODEL_03c38f341a6f462894a1aa3fab8f2e1b"
          }
        },
        "02c0c538c3084b2ca7fceb2b2930e1d9": {
          "model_module": "@jupyter-widgets/controls",
          "model_name": "HTMLModel",
          "model_module_version": "1.5.0",
          "state": {
            "_dom_classes": [],
            "_model_module": "@jupyter-widgets/controls",
            "_model_module_version": "1.5.0",
            "_model_name": "HTMLModel",
            "_view_count": null,
            "_view_module": "@jupyter-widgets/controls",
            "_view_module_version": "1.5.0",
            "_view_name": "HTMLView",
            "description": "",
            "description_tooltip": null,
            "layout": "IPY_MODEL_c29d1584c41e41ca9bb1fca60b1bd157",
            "placeholder": "​",
            "style": "IPY_MODEL_b28b8d8050f84451beafb61e746bfc15",
            "value": "Downloading: 100%"
          }
        },
        "37efadc2a6c1415d8b0908f0420861b9": {
          "model_module": "@jupyter-widgets/controls",
          "model_name": "FloatProgressModel",
          "model_module_version": "1.5.0",
          "state": {
            "_dom_classes": [],
            "_model_module": "@jupyter-widgets/controls",
            "_model_module_version": "1.5.0",
            "_model_name": "FloatProgressModel",
            "_view_count": null,
            "_view_module": "@jupyter-widgets/controls",
            "_view_module_version": "1.5.0",
            "_view_name": "ProgressView",
            "bar_style": "success",
            "description": "",
            "description_tooltip": null,
            "layout": "IPY_MODEL_17fad57386ad4bd48079ca0d7ddf4c0f",
            "max": 512,
            "min": 0,
            "orientation": "horizontal",
            "style": "IPY_MODEL_d2b14dbda7574769bc81d83c0884abfa",
            "value": 512
          }
        },
        "3196bea9ce924c05ac63e10e676a9775": {
          "model_module": "@jupyter-widgets/controls",
          "model_name": "HTMLModel",
          "model_module_version": "1.5.0",
          "state": {
            "_dom_classes": [],
            "_model_module": "@jupyter-widgets/controls",
            "_model_module_version": "1.5.0",
            "_model_name": "HTMLModel",
            "_view_count": null,
            "_view_module": "@jupyter-widgets/controls",
            "_view_module_version": "1.5.0",
            "_view_name": "HTMLView",
            "description": "",
            "description_tooltip": null,
            "layout": "IPY_MODEL_f6c61eae55dd4a6ba16b0fc078a15b7c",
            "placeholder": "​",
            "style": "IPY_MODEL_2afeb5d9c842481aba6e39a28f4848c9",
            "value": " 512/512 [00:00&lt;00:00, 10.7kB/s]"
          }
        },
        "03c38f341a6f462894a1aa3fab8f2e1b": {
          "model_module": "@jupyter-widgets/base",
          "model_name": "LayoutModel",
          "model_module_version": "1.2.0",
          "state": {
            "_model_module": "@jupyter-widgets/base",
            "_model_module_version": "1.2.0",
            "_model_name": "LayoutModel",
            "_view_count": null,
            "_view_module": "@jupyter-widgets/base",
            "_view_module_version": "1.2.0",
            "_view_name": "LayoutView",
            "align_content": null,
            "align_items": null,
            "align_self": null,
            "border": null,
            "bottom": null,
            "display": null,
            "flex": null,
            "flex_flow": null,
            "grid_area": null,
            "grid_auto_columns": null,
            "grid_auto_flow": null,
            "grid_auto_rows": null,
            "grid_column": null,
            "grid_gap": null,
            "grid_row": null,
            "grid_template_areas": null,
            "grid_template_columns": null,
            "grid_template_rows": null,
            "height": null,
            "justify_content": null,
            "justify_items": null,
            "left": null,
            "margin": null,
            "max_height": null,
            "max_width": null,
            "min_height": null,
            "min_width": null,
            "object_fit": null,
            "object_position": null,
            "order": null,
            "overflow": null,
            "overflow_x": null,
            "overflow_y": null,
            "padding": null,
            "right": null,
            "top": null,
            "visibility": null,
            "width": null
          }
        },
        "c29d1584c41e41ca9bb1fca60b1bd157": {
          "model_module": "@jupyter-widgets/base",
          "model_name": "LayoutModel",
          "model_module_version": "1.2.0",
          "state": {
            "_model_module": "@jupyter-widgets/base",
            "_model_module_version": "1.2.0",
            "_model_name": "LayoutModel",
            "_view_count": null,
            "_view_module": "@jupyter-widgets/base",
            "_view_module_version": "1.2.0",
            "_view_name": "LayoutView",
            "align_content": null,
            "align_items": null,
            "align_self": null,
            "border": null,
            "bottom": null,
            "display": null,
            "flex": null,
            "flex_flow": null,
            "grid_area": null,
            "grid_auto_columns": null,
            "grid_auto_flow": null,
            "grid_auto_rows": null,
            "grid_column": null,
            "grid_gap": null,
            "grid_row": null,
            "grid_template_areas": null,
            "grid_template_columns": null,
            "grid_template_rows": null,
            "height": null,
            "justify_content": null,
            "justify_items": null,
            "left": null,
            "margin": null,
            "max_height": null,
            "max_width": null,
            "min_height": null,
            "min_width": null,
            "object_fit": null,
            "object_position": null,
            "order": null,
            "overflow": null,
            "overflow_x": null,
            "overflow_y": null,
            "padding": null,
            "right": null,
            "top": null,
            "visibility": null,
            "width": null
          }
        },
        "b28b8d8050f84451beafb61e746bfc15": {
          "model_module": "@jupyter-widgets/controls",
          "model_name": "DescriptionStyleModel",
          "model_module_version": "1.5.0",
          "state": {
            "_model_module": "@jupyter-widgets/controls",
            "_model_module_version": "1.5.0",
            "_model_name": "DescriptionStyleModel",
            "_view_count": null,
            "_view_module": "@jupyter-widgets/base",
            "_view_module_version": "1.2.0",
            "_view_name": "StyleView",
            "description_width": ""
          }
        },
        "17fad57386ad4bd48079ca0d7ddf4c0f": {
          "model_module": "@jupyter-widgets/base",
          "model_name": "LayoutModel",
          "model_module_version": "1.2.0",
          "state": {
            "_model_module": "@jupyter-widgets/base",
            "_model_module_version": "1.2.0",
            "_model_name": "LayoutModel",
            "_view_count": null,
            "_view_module": "@jupyter-widgets/base",
            "_view_module_version": "1.2.0",
            "_view_name": "LayoutView",
            "align_content": null,
            "align_items": null,
            "align_self": null,
            "border": null,
            "bottom": null,
            "display": null,
            "flex": null,
            "flex_flow": null,
            "grid_area": null,
            "grid_auto_columns": null,
            "grid_auto_flow": null,
            "grid_auto_rows": null,
            "grid_column": null,
            "grid_gap": null,
            "grid_row": null,
            "grid_template_areas": null,
            "grid_template_columns": null,
            "grid_template_rows": null,
            "height": null,
            "justify_content": null,
            "justify_items": null,
            "left": null,
            "margin": null,
            "max_height": null,
            "max_width": null,
            "min_height": null,
            "min_width": null,
            "object_fit": null,
            "object_position": null,
            "order": null,
            "overflow": null,
            "overflow_x": null,
            "overflow_y": null,
            "padding": null,
            "right": null,
            "top": null,
            "visibility": null,
            "width": null
          }
        },
        "d2b14dbda7574769bc81d83c0884abfa": {
          "model_module": "@jupyter-widgets/controls",
          "model_name": "ProgressStyleModel",
          "model_module_version": "1.5.0",
          "state": {
            "_model_module": "@jupyter-widgets/controls",
            "_model_module_version": "1.5.0",
            "_model_name": "ProgressStyleModel",
            "_view_count": null,
            "_view_module": "@jupyter-widgets/base",
            "_view_module_version": "1.2.0",
            "_view_name": "StyleView",
            "bar_color": null,
            "description_width": ""
          }
        },
        "f6c61eae55dd4a6ba16b0fc078a15b7c": {
          "model_module": "@jupyter-widgets/base",
          "model_name": "LayoutModel",
          "model_module_version": "1.2.0",
          "state": {
            "_model_module": "@jupyter-widgets/base",
            "_model_module_version": "1.2.0",
            "_model_name": "LayoutModel",
            "_view_count": null,
            "_view_module": "@jupyter-widgets/base",
            "_view_module_version": "1.2.0",
            "_view_name": "LayoutView",
            "align_content": null,
            "align_items": null,
            "align_self": null,
            "border": null,
            "bottom": null,
            "display": null,
            "flex": null,
            "flex_flow": null,
            "grid_area": null,
            "grid_auto_columns": null,
            "grid_auto_flow": null,
            "grid_auto_rows": null,
            "grid_column": null,
            "grid_gap": null,
            "grid_row": null,
            "grid_template_areas": null,
            "grid_template_columns": null,
            "grid_template_rows": null,
            "height": null,
            "justify_content": null,
            "justify_items": null,
            "left": null,
            "margin": null,
            "max_height": null,
            "max_width": null,
            "min_height": null,
            "min_width": null,
            "object_fit": null,
            "object_position": null,
            "order": null,
            "overflow": null,
            "overflow_x": null,
            "overflow_y": null,
            "padding": null,
            "right": null,
            "top": null,
            "visibility": null,
            "width": null
          }
        },
        "2afeb5d9c842481aba6e39a28f4848c9": {
          "model_module": "@jupyter-widgets/controls",
          "model_name": "DescriptionStyleModel",
          "model_module_version": "1.5.0",
          "state": {
            "_model_module": "@jupyter-widgets/controls",
            "_model_module_version": "1.5.0",
            "_model_name": "DescriptionStyleModel",
            "_view_count": null,
            "_view_module": "@jupyter-widgets/base",
            "_view_module_version": "1.2.0",
            "_view_name": "StyleView",
            "description_width": ""
          }
        },
        "4fae2c130d0e413d881f2917b0810791": {
          "model_module": "@jupyter-widgets/controls",
          "model_name": "HBoxModel",
          "model_module_version": "1.5.0",
          "state": {
            "_dom_classes": [],
            "_model_module": "@jupyter-widgets/controls",
            "_model_module_version": "1.5.0",
            "_model_name": "HBoxModel",
            "_view_count": null,
            "_view_module": "@jupyter-widgets/controls",
            "_view_module_version": "1.5.0",
            "_view_name": "HBoxView",
            "box_style": "",
            "children": [
              "IPY_MODEL_7a77306087ec4d328716123e70b3f707",
              "IPY_MODEL_bc53b1efb50d43449d5042b93fb70c1c",
              "IPY_MODEL_1b43031812f84f2ebecf9d9a94b161da"
            ],
            "layout": "IPY_MODEL_082e8e67de2f48509478d1863c4f9db7"
          }
        },
        "7a77306087ec4d328716123e70b3f707": {
          "model_module": "@jupyter-widgets/controls",
          "model_name": "HTMLModel",
          "model_module_version": "1.5.0",
          "state": {
            "_dom_classes": [],
            "_model_module": "@jupyter-widgets/controls",
            "_model_module_version": "1.5.0",
            "_model_name": "HTMLModel",
            "_view_count": null,
            "_view_module": "@jupyter-widgets/controls",
            "_view_module_version": "1.5.0",
            "_view_name": "HTMLView",
            "description": "",
            "description_tooltip": null,
            "layout": "IPY_MODEL_2991af382f244b0d90b19b74deace82a",
            "placeholder": "​",
            "style": "IPY_MODEL_c661056de1cb4049a573a3c2536a61df",
            "value": "Downloading: 100%"
          }
        },
        "bc53b1efb50d43449d5042b93fb70c1c": {
          "model_module": "@jupyter-widgets/controls",
          "model_name": "FloatProgressModel",
          "model_module_version": "1.5.0",
          "state": {
            "_dom_classes": [],
            "_model_module": "@jupyter-widgets/controls",
            "_model_module_version": "1.5.0",
            "_model_name": "FloatProgressModel",
            "_view_count": null,
            "_view_module": "@jupyter-widgets/controls",
            "_view_module_version": "1.5.0",
            "_view_name": "ProgressView",
            "bar_style": "success",
            "description": "",
            "description_tooltip": null,
            "layout": "IPY_MODEL_c1c99400bdd04ccb8578f41103ceae34",
            "max": 1115590446,
            "min": 0,
            "orientation": "horizontal",
            "style": "IPY_MODEL_cc6cf62558b24fa9805d86c6b44dd442",
            "value": 1115590446
          }
        },
        "1b43031812f84f2ebecf9d9a94b161da": {
          "model_module": "@jupyter-widgets/controls",
          "model_name": "HTMLModel",
          "model_module_version": "1.5.0",
          "state": {
            "_dom_classes": [],
            "_model_module": "@jupyter-widgets/controls",
            "_model_module_version": "1.5.0",
            "_model_name": "HTMLModel",
            "_view_count": null,
            "_view_module": "@jupyter-widgets/controls",
            "_view_module_version": "1.5.0",
            "_view_name": "HTMLView",
            "description": "",
            "description_tooltip": null,
            "layout": "IPY_MODEL_b17f05989dad453db1fb090289cbb1e1",
            "placeholder": "​",
            "style": "IPY_MODEL_c7b666dc47a54697a1b5980662c245c7",
            "value": " 1.12G/1.12G [00:32&lt;00:00, 44.1MB/s]"
          }
        },
        "082e8e67de2f48509478d1863c4f9db7": {
          "model_module": "@jupyter-widgets/base",
          "model_name": "LayoutModel",
          "model_module_version": "1.2.0",
          "state": {
            "_model_module": "@jupyter-widgets/base",
            "_model_module_version": "1.2.0",
            "_model_name": "LayoutModel",
            "_view_count": null,
            "_view_module": "@jupyter-widgets/base",
            "_view_module_version": "1.2.0",
            "_view_name": "LayoutView",
            "align_content": null,
            "align_items": null,
            "align_self": null,
            "border": null,
            "bottom": null,
            "display": null,
            "flex": null,
            "flex_flow": null,
            "grid_area": null,
            "grid_auto_columns": null,
            "grid_auto_flow": null,
            "grid_auto_rows": null,
            "grid_column": null,
            "grid_gap": null,
            "grid_row": null,
            "grid_template_areas": null,
            "grid_template_columns": null,
            "grid_template_rows": null,
            "height": null,
            "justify_content": null,
            "justify_items": null,
            "left": null,
            "margin": null,
            "max_height": null,
            "max_width": null,
            "min_height": null,
            "min_width": null,
            "object_fit": null,
            "object_position": null,
            "order": null,
            "overflow": null,
            "overflow_x": null,
            "overflow_y": null,
            "padding": null,
            "right": null,
            "top": null,
            "visibility": null,
            "width": null
          }
        },
        "2991af382f244b0d90b19b74deace82a": {
          "model_module": "@jupyter-widgets/base",
          "model_name": "LayoutModel",
          "model_module_version": "1.2.0",
          "state": {
            "_model_module": "@jupyter-widgets/base",
            "_model_module_version": "1.2.0",
            "_model_name": "LayoutModel",
            "_view_count": null,
            "_view_module": "@jupyter-widgets/base",
            "_view_module_version": "1.2.0",
            "_view_name": "LayoutView",
            "align_content": null,
            "align_items": null,
            "align_self": null,
            "border": null,
            "bottom": null,
            "display": null,
            "flex": null,
            "flex_flow": null,
            "grid_area": null,
            "grid_auto_columns": null,
            "grid_auto_flow": null,
            "grid_auto_rows": null,
            "grid_column": null,
            "grid_gap": null,
            "grid_row": null,
            "grid_template_areas": null,
            "grid_template_columns": null,
            "grid_template_rows": null,
            "height": null,
            "justify_content": null,
            "justify_items": null,
            "left": null,
            "margin": null,
            "max_height": null,
            "max_width": null,
            "min_height": null,
            "min_width": null,
            "object_fit": null,
            "object_position": null,
            "order": null,
            "overflow": null,
            "overflow_x": null,
            "overflow_y": null,
            "padding": null,
            "right": null,
            "top": null,
            "visibility": null,
            "width": null
          }
        },
        "c661056de1cb4049a573a3c2536a61df": {
          "model_module": "@jupyter-widgets/controls",
          "model_name": "DescriptionStyleModel",
          "model_module_version": "1.5.0",
          "state": {
            "_model_module": "@jupyter-widgets/controls",
            "_model_module_version": "1.5.0",
            "_model_name": "DescriptionStyleModel",
            "_view_count": null,
            "_view_module": "@jupyter-widgets/base",
            "_view_module_version": "1.2.0",
            "_view_name": "StyleView",
            "description_width": ""
          }
        },
        "c1c99400bdd04ccb8578f41103ceae34": {
          "model_module": "@jupyter-widgets/base",
          "model_name": "LayoutModel",
          "model_module_version": "1.2.0",
          "state": {
            "_model_module": "@jupyter-widgets/base",
            "_model_module_version": "1.2.0",
            "_model_name": "LayoutModel",
            "_view_count": null,
            "_view_module": "@jupyter-widgets/base",
            "_view_module_version": "1.2.0",
            "_view_name": "LayoutView",
            "align_content": null,
            "align_items": null,
            "align_self": null,
            "border": null,
            "bottom": null,
            "display": null,
            "flex": null,
            "flex_flow": null,
            "grid_area": null,
            "grid_auto_columns": null,
            "grid_auto_flow": null,
            "grid_auto_rows": null,
            "grid_column": null,
            "grid_gap": null,
            "grid_row": null,
            "grid_template_areas": null,
            "grid_template_columns": null,
            "grid_template_rows": null,
            "height": null,
            "justify_content": null,
            "justify_items": null,
            "left": null,
            "margin": null,
            "max_height": null,
            "max_width": null,
            "min_height": null,
            "min_width": null,
            "object_fit": null,
            "object_position": null,
            "order": null,
            "overflow": null,
            "overflow_x": null,
            "overflow_y": null,
            "padding": null,
            "right": null,
            "top": null,
            "visibility": null,
            "width": null
          }
        },
        "cc6cf62558b24fa9805d86c6b44dd442": {
          "model_module": "@jupyter-widgets/controls",
          "model_name": "ProgressStyleModel",
          "model_module_version": "1.5.0",
          "state": {
            "_model_module": "@jupyter-widgets/controls",
            "_model_module_version": "1.5.0",
            "_model_name": "ProgressStyleModel",
            "_view_count": null,
            "_view_module": "@jupyter-widgets/base",
            "_view_module_version": "1.2.0",
            "_view_name": "StyleView",
            "bar_color": null,
            "description_width": ""
          }
        },
        "b17f05989dad453db1fb090289cbb1e1": {
          "model_module": "@jupyter-widgets/base",
          "model_name": "LayoutModel",
          "model_module_version": "1.2.0",
          "state": {
            "_model_module": "@jupyter-widgets/base",
            "_model_module_version": "1.2.0",
            "_model_name": "LayoutModel",
            "_view_count": null,
            "_view_module": "@jupyter-widgets/base",
            "_view_module_version": "1.2.0",
            "_view_name": "LayoutView",
            "align_content": null,
            "align_items": null,
            "align_self": null,
            "border": null,
            "bottom": null,
            "display": null,
            "flex": null,
            "flex_flow": null,
            "grid_area": null,
            "grid_auto_columns": null,
            "grid_auto_flow": null,
            "grid_auto_rows": null,
            "grid_column": null,
            "grid_gap": null,
            "grid_row": null,
            "grid_template_areas": null,
            "grid_template_columns": null,
            "grid_template_rows": null,
            "height": null,
            "justify_content": null,
            "justify_items": null,
            "left": null,
            "margin": null,
            "max_height": null,
            "max_width": null,
            "min_height": null,
            "min_width": null,
            "object_fit": null,
            "object_position": null,
            "order": null,
            "overflow": null,
            "overflow_x": null,
            "overflow_y": null,
            "padding": null,
            "right": null,
            "top": null,
            "visibility": null,
            "width": null
          }
        },
        "c7b666dc47a54697a1b5980662c245c7": {
          "model_module": "@jupyter-widgets/controls",
          "model_name": "DescriptionStyleModel",
          "model_module_version": "1.5.0",
          "state": {
            "_model_module": "@jupyter-widgets/controls",
            "_model_module_version": "1.5.0",
            "_model_name": "DescriptionStyleModel",
            "_view_count": null,
            "_view_module": "@jupyter-widgets/base",
            "_view_module_version": "1.2.0",
            "_view_name": "StyleView",
            "description_width": ""
          }
        }
      }
    }
  },
  "nbformat": 4,
  "nbformat_minor": 0
}