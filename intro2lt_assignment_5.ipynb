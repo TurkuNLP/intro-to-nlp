{
  "nbformat": 4,
  "nbformat_minor": 0,
  "metadata": {
    "colab": {
      "name": "intro2lt_assignment_5.ipynb",
      "provenance": [],
      "collapsed_sections": [],
      "include_colab_link": true
    },
    "kernelspec": {
      "name": "python3",
      "display_name": "Python 3"
    },
    "language_info": {
      "name": "python"
    }
  },
  "cells": [
    {
      "cell_type": "markdown",
      "metadata": {
        "id": "view-in-github",
        "colab_type": "text"
      },
      "source": [
        "<a href=\"https://colab.research.google.com/github/TurkuNLP/intro-to-nlp/blob/master/intro2lt_assignment_5.ipynb\" target=\"_parent\"><img src=\"https://colab.research.google.com/assets/colab-badge.svg\" alt=\"Open In Colab\"/></a>"
      ]
    },
    {
      "cell_type": "markdown",
      "source": [
        "<h3>Introduction</h3>\n",
        "\n",
        "This notebook is the template for **project assignment 5**. The tasks in this assignment are no longer compulsory as they will not be part of your final project. However, you are encouraged to do them as they will familiarize you with the lecture materials. Please base your submission on this template. Further information on submission is at the end of the notebook.\n",
        "\n",
        "In this assignment, we will follow the sequence labeling course material and use the CoNLL-03 dataset. There are two optional tasks\n",
        "\n",
        "*  Named entity recognition (NER)\n",
        "*  Part-of-speech (POS) tagging on a language of your choice\n",
        "\n",
        "We provide textual guidelines for the tasks and your task is to turn these instructions into code. In many cases, there are many ways a task can be achieved. Our tips and instructions are for beginning coders, and if you know what you are doing, you can choose whatever methods that you are comfortable with. Please ask for help in case you run into issues.\n",
        "\n",
        "### Contributions\n",
        "\n",
        "In case the assignment is completed as **group work**, list all students and their contributions here.\n",
        "\n",
        "* Names:\n",
        "* Contributions: "
      ],
      "metadata": {
        "id": "3mvdzdpexOZu"
      }
    },
    {
      "cell_type": "markdown",
      "source": [
        "<h2>Question 1</h2> \n",
        "\n",
        "**Named entity recognition (NER)**: Refer to [the course material on sequence tagging](https://colab.research.google.com/github/TurkuNLP/intro-to-nlp/blob/master/sequence_labelling.ipynb), which trains a POS tagger. Download and load [the CoNLL-03 data](https://github.com/davidsbatista/NER-datasets/tree/dcb6c7439a7de43abc2448bad5b1d81a47f26c0d/CONLL2003). Instead of a POS tagger, train an NER model. How does the model perform? What do you think about its performance? If you have the time, try to find what are the most common named entities?"
      ],
      "metadata": {
        "id": "DNZ3yCmG1z7s"
      }
    },
    {
      "cell_type": "code",
      "source": [
        "# Your code for question 1 goes here, divided to as many cells as you like"
      ],
      "metadata": {
        "id": "PuYaWdzhb485"
      },
      "execution_count": null,
      "outputs": []
    },
    {
      "cell_type": "markdown",
      "source": [
        "<h1> Question 2</h1>\n",
        "\n",
        "**POS tagger for a language of your choice**: In the sequence tagging notebook linked in Question 1, a POS tagger for English was trained. [Universal Dependencies (UD)](https://universaldependencies.org/) contains treebanks, including POS tags, for over 100 languages. Go to the UD website and familiarize yourself with this resource. Pick a language of your choice and build a POS tagger for it. Note that the format of this data differs from the CoNLL-03 data we use in the previous question, so you will need to write your own code for reading in this data."
      ],
      "metadata": {
        "id": "EJgwlHOYvdtW"
      }
    },
    {
      "cell_type": "code",
      "source": [
        "# You code for question 2 goes here, divided to as many cells as you like"
      ],
      "metadata": {
        "id": "k0fRtIeOHIuB"
      },
      "execution_count": null,
      "outputs": []
    },
    {
      "cell_type": "markdown",
      "source": [
        "<h3>Submission information</h3>\n",
        "\n",
        "**Please submit a .ipynb or .pdf version of the notebook to Moodle.** You can obtain pdf on Colab through File > Print > Save to pdf, but you can also submit an .ipynb (note: we won't execute the code). Please check that the submission is of reasonable quality representing your effort. E.g. all the cells are executed and their outputs are visible (this holds for both .pdf and .ipynb)"
      ],
      "metadata": {
        "id": "mb47GSKrEOdL"
      }
    }
  ]
}