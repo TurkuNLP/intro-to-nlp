{
  "nbformat": 4,
  "nbformat_minor": 0,
  "metadata": {
    "colab": {
      "name": "intro2lt_assignment_6.ipynb",
      "provenance": [],
      "collapsed_sections": [],
      "include_colab_link": true
    },
    "kernelspec": {
      "name": "python3",
      "display_name": "Python 3"
    },
    "language_info": {
      "name": "python"
    }
  },
  "cells": [
    {
      "cell_type": "markdown",
      "metadata": {
        "id": "view-in-github",
        "colab_type": "text"
      },
      "source": [
        "<a href=\"https://colab.research.google.com/github/TurkuNLP/intro-to-nlp/blob/master/intro2lt_assignment_6.ipynb\" target=\"_parent\"><img src=\"https://colab.research.google.com/assets/colab-badge.svg\" alt=\"Open In Colab\"/></a>"
      ]
    },
    {
      "cell_type": "markdown",
      "source": [
        "<h3>Introduction</h3>\n",
        "\n",
        "This notebook is the template for **project assignment 6**. The tasks in this assignment are no longer compulsory as they will not be part of your final project. However, you are encouraged to do them as they will familiarize you with the lecture materials. Please base your submission on this template. Further information on submission is at the end of the notebook.\n",
        "\n",
        "In this assignment, we will follow the clustering course material.\n",
        "\n",
        "### Contributions\n",
        "\n",
        "In case the assignment is completed as **group work**, list all students and their contributions here.\n",
        "\n",
        "* Names:\n",
        "* Contributions: "
      ],
      "metadata": {
        "id": "3mvdzdpexOZu"
      }
    },
    {
      "cell_type": "markdown",
      "source": [
        "<h2>Question 1</h2> \n",
        "\n",
        "**K-means clustering**: Refer to the course material on clustering (Topic 5). The first half of the related notebook demonstrates a simple application of the K-means clustering algorithm on a collection of text documents.\n",
        "\n",
        "Your only task will be to apply the K-means clustering to the sentiment data sentences and get an intuitive feel for what can be expected from such an algorithm. This will mean loading the data in the usual way, and then running the clustering algorithm and observing the outcome. Does it seem to make any sense to you?\n",
        "\n",
        "In addition to the code already available to you, if you have the time and interest you can also:\n",
        "\n",
        "\n",
        "1.   Print prototype sentences for each cluster based on the cluster centres available in the k-means output (the code only prints top keywords right now)\n",
        "2.   Measure to what extent the clusters align with the class labels associated with the sentences. Are there clusters with a clear bias towards positive/negative examples? If there are not, what does it tell us?\n",
        "\n"
      ],
      "metadata": {
        "id": "DNZ3yCmG1z7s"
      }
    },
    {
      "cell_type": "code",
      "source": [
        "# Your code for question 1 goes here, divided to as many cells as you like"
      ],
      "metadata": {
        "id": "PuYaWdzhb485"
      },
      "execution_count": null,
      "outputs": []
    },
    {
      "cell_type": "markdown",
      "source": [
        "<h3>Submission information</h3>\n",
        "\n",
        "**Please submit a .ipynb version of the notebook to Moodle.** Please check that the submission is of reasonable quality representing your effort. E.g. all the cells are executed and their outputs are visible. You can of course also submit a pdf document especially if you use other environment than colab/jupyter."
      ],
      "metadata": {
        "id": "mb47GSKrEOdL"
      }
    }
  ]
}