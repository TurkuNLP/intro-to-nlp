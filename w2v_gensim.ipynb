{
  "nbformat": 4,
  "nbformat_minor": 0,
  "metadata": {
    "colab": {
      "provenance": [],
      "authorship_tag": "ABX9TyNs12j2NXU8e81784t/GUhN",
      "include_colab_link": true
    },
    "kernelspec": {
      "name": "python3",
      "display_name": "Python 3"
    },
    "language_info": {
      "name": "python"
    }
  },
  "cells": [
    {
      "cell_type": "markdown",
      "metadata": {
        "id": "view-in-github",
        "colab_type": "text"
      },
      "source": [
        "<a href=\"https://colab.research.google.com/github/TurkuNLP/intro-to-nlp/blob/master/w2v_gensim.ipynb\" target=\"_parent\"><img src=\"https://colab.research.google.com/assets/colab-badge.svg\" alt=\"Open In Colab\"/></a>"
      ]
    },
    {
      "cell_type": "markdown",
      "source": [
        "# Gensim\n",
        "\n",
        "* A useful library specifically for dealing with static word embeddings: their training and loading\n",
        "* https://radimrehurek.com/gensim/auto_examples/index.html#documentation\n",
        "* For our purposes, this is really easy to use"
      ],
      "metadata": {
        "id": "AeYKb5I5bAeJ"
      }
    },
    {
      "cell_type": "markdown",
      "source": [
        "# Embedding repositories\n",
        "\n",
        "* Gensim's own: https://github.com/RaRe-Technologies/gensim-data\n",
        "* NLPL vectors: http://vectors.nlpl.eu/repository/"
      ],
      "metadata": {
        "id": "quXoC9kYdEDT"
      }
    },
    {
      "cell_type": "code",
      "execution_count": 1,
      "metadata": {
        "id": "c3-FPp5MZjAS"
      },
      "outputs": [],
      "source": [
        "import gensim"
      ]
    },
    {
      "cell_type": "code",
      "source": [
        "# I found this link in the NLPL repository\n",
        "# It refers to English model trained on the Gigaword corpus of news\n",
        "\n",
        "!wget http://vectors.nlpl.eu/repository/20/12.zip\n",
        "!unzip 12.zip"
      ],
      "metadata": {
        "colab": {
          "base_uri": "https://localhost:8080/"
        },
        "id": "QRbTPYZGZuiJ",
        "outputId": "c1b2edb7-8cfb-4095-8a22-982a775ca6be"
      },
      "execution_count": 2,
      "outputs": [
        {
          "output_type": "stream",
          "name": "stdout",
          "text": [
            "--2023-04-11 08:21:04--  http://vectors.nlpl.eu/repository/20/12.zip\n",
            "Resolving vectors.nlpl.eu (vectors.nlpl.eu)... 129.240.189.181\n",
            "Connecting to vectors.nlpl.eu (vectors.nlpl.eu)|129.240.189.181|:80... connected.\n",
            "HTTP request sent, awaiting response... 200 OK\n",
            "Length: 613577258 (585M) [application/zip]\n",
            "Saving to: ‘12.zip’\n",
            "\n",
            "12.zip              100%[===================>] 585.15M  24.9MB/s    in 25s     \n",
            "\n",
            "2023-04-11 08:21:30 (23.8 MB/s) - ‘12.zip’ saved [613577258/613577258]\n",
            "\n",
            "Archive:  12.zip\n",
            "  inflating: meta.json               \n",
            "  inflating: model.bin               \n",
            "  inflating: model.txt               \n",
            "  inflating: README                  \n"
          ]
        }
      ]
    },
    {
      "cell_type": "code",
      "source": [
        "# This is how you load the trained embeddings\n",
        "\n",
        "from gensim.models import KeyedVectors\n",
        "\n",
        "wv_emb=KeyedVectors.load_word2vec_format(\"model.bin\", binary=True)"
      ],
      "metadata": {
        "id": "4DbFt1VOaDCu"
      },
      "execution_count": 13,
      "outputs": []
    },
    {
      "cell_type": "markdown",
      "source": [
        "`KeyedVectors` documentation is here: https://radimrehurek.com/gensim/models/keyedvectors.html"
      ],
      "metadata": {
        "id": "mEsD37OxeP2C"
      }
    },
    {
      "cell_type": "code",
      "source": [
        "result = wv_emb.similar_by_word('cat')\n",
        "for most_similar_key, similarity in result[:10]:\n",
        "    print(f\"{most_similar_key}: {similarity:.4f}\")"
      ],
      "metadata": {
        "colab": {
          "base_uri": "https://localhost:8080/"
        },
        "id": "Cj3NTzYdabiS",
        "outputId": "99f262c8-7f51-4c7c-f4eb-b4b56f8247c6"
      },
      "execution_count": 16,
      "outputs": [
        {
          "output_type": "stream",
          "name": "stdout",
          "text": [
            "dog: 0.8098\n",
            "cats: 0.7977\n",
            "mutt: 0.7505\n",
            "kitten: 0.7471\n",
            "feline: 0.7438\n",
            "puppy: 0.7252\n",
            "felines: 0.7251\n",
            "raccoon: 0.7183\n",
            "pooch: 0.7116\n",
            "dachshund: 0.7018\n"
          ]
        }
      ]
    }
  ]
}