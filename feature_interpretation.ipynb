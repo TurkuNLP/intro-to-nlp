{
  "cells": [
    {
      "cell_type": "markdown",
      "metadata": {
        "id": "view-in-github",
        "colab_type": "text"
      },
      "source": [
        "<a href=\"https://colab.research.google.com/github/TurkuNLP/intro-to-nlp/blob/master/feature_interpretation.ipynb\" target=\"_parent\"><img src=\"https://colab.research.google.com/assets/colab-badge.svg\" alt=\"Open In Colab\"/></a>"
      ]
    },
    {
      "cell_type": "markdown",
      "metadata": {
        "id": "74IeVzu0W5Ab"
      },
      "source": [
        "# Elementary feature interpretation\n",
        "\n",
        "* Linear classifier learns a weight for every feature\n",
        "* This weight (to a degree) correlates with the importance of this feature\n",
        "* Study the attributes of a trained `LinearSVC` here https://scikit-learn.org/stable/modules/generated/sklearn.svm.LinearSVC.html\n",
        "* `coef_` seems to be the right choice    "
      ]
    },
    {
      "cell_type": "code",
      "execution_count": 1,
      "metadata": {
        "id": "hmAi2ltYW5At",
        "outputId": "5006d1ed-54bf-410b-af95-543ad6abc40b",
        "colab": {
          "base_uri": "https://localhost:8080/"
        }
      },
      "outputs": [
        {
          "output_type": "stream",
          "name": "stdout",
          "text": [
            "classifier weights: [[-0.00343283 -0.00817389 -0.00037749 ...  0.00018346 -0.00084389\n",
            "  -0.00075165]]\n",
            "their shape (1, 68204)\n"
          ]
        }
      ],
      "source": [
        "#Load the previously saved model\n",
        "import pickle\n",
        "import sklearn\n",
        "with open(\"saved_model.pickle\",\"rb\") as f:\n",
        "    classifier,vectorizer=pickle.load(f)\n",
        "    \n",
        "print(\"classifier weights:\",classifier.coef_)\n",
        "print(\"their shape\",classifier.coef_.shape)"
      ]
    },
    {
      "cell_type": "markdown",
      "metadata": {
        "id": "JI7H5BEuW5BF"
      },
      "source": [
        "* We will need to know which weight corresponds to which feature\n",
        "* The vectorizer has this information\n",
        "* Study the attributes here: https://scikit-learn.org/stable/modules/generated/sklearn.feature_extraction.text.CountVectorizer.html\n",
        "* `vocabulary` seems to be the right choice"
      ]
    },
    {
      "cell_type": "code",
      "execution_count": 2,
      "metadata": {
        "id": "DGbDDwiNW5BG",
        "outputId": "8bf57ef6-db32-4790-e1fc-c7ecf894ca82",
        "colab": {
          "base_uri": "https://localhost:8080/"
        }
      },
      "outputs": [
        {
          "output_type": "stream",
          "name": "stdout",
          "text": [
            "[('bit', 6791), ('conflicted', 12835), ('over', 43419), ('this', 60688), ('the', 60488), ('show', 54581), ('is', 31674), ('on', 42785), ('one', 42798), ('hand', 27104), ('awful', 4796), ('acting', 1475), ('terrible', 60310), ('even', 20777), ('when', 66303), ('we', 65954), ('get', 24981), ('actual', 1507), ('name', 40920), ('actors', 1501), ('like', 35405), ('brad', 7931), ('pitt', 45717), ('and', 2956), ('bill', 6650), ('moseley', 40122), ('in', 30188), ('episode', 20308), ('dialogue', 16631), ('moronic', 40063)] ...\n"
          ]
        }
      ],
      "source": [
        "# print(vectorizer.vocabulary_) # beware! large print\n",
        "print(list(vectorizer.vocabulary_.items())[:30],\"...\")"
      ]
    },
    {
      "cell_type": "markdown",
      "metadata": {
        "id": "NFK-A9DDW5BL"
      },
      "source": [
        "* The vocabulary is a dictionary: feature -> index\n",
        "* We will need it the other way, i.e. we will need to ask using an index, and get the feature"
      ]
    },
    {
      "cell_type": "code",
      "execution_count": 3,
      "metadata": {
        "id": "VX3teetDW5BM"
      },
      "outputs": [],
      "source": [
        "#Reverse the dictionary\n",
        "index2feature={}\n",
        "for feature,idx in vectorizer.vocabulary_.items():\n",
        "    assert idx not in index2feature #This really should hold\n",
        "    index2feature[idx]=feature\n",
        "#Now we can query index2feature to get the feature names as we need"
      ]
    },
    {
      "cell_type": "markdown",
      "metadata": {
        "id": "-07DBnmzW5BN"
      },
      "source": [
        "* We need now to sort the classifier weights\n",
        "* ...and keep the information about which features (indices) they correspond to\n",
        "* So a simple `sort()` does not cut it, we would not keep the indices"
      ]
    },
    {
      "cell_type": "code",
      "execution_count": 4,
      "metadata": {
        "id": "6IurpToHW5BS",
        "outputId": "26512943-0415-4012-aca7-57a57576043d",
        "colab": {
          "base_uri": "https://localhost:8080/"
        }
      },
      "outputs": [
        {
          "output_type": "stream",
          "name": "stdout",
          "text": [
            "worst\n",
            "bad\n",
            "waste\n",
            "awful\n",
            "boring\n",
            "poor\n",
            "terrible\n",
            "nothing\n",
            "worse\n",
            "dull\n",
            "stupid\n",
            "unfortunately\n",
            "poorly\n",
            "no\n",
            "script\n",
            "horrible\n",
            "minutes\n",
            "instead\n",
            "ridiculous\n",
            "avoid\n",
            "supposed\n",
            "annoying\n",
            "money\n",
            "fails\n",
            "mess\n",
            "save\n",
            "disappointing\n",
            "plot\n",
            "disappointment\n",
            "lame\n",
            "----------------------------------------------------\n",
            "great\n",
            "excellent\n",
            "best\n",
            "perfect\n",
            "wonderful\n",
            "loved\n",
            "amazing\n",
            "love\n",
            "fun\n",
            "enjoyed\n",
            "today\n",
            "favorite\n",
            "highly\n",
            "definitely\n",
            "well\n",
            "liked\n",
            "beautiful\n",
            "bit\n",
            "superb\n",
            "fantastic\n",
            "job\n",
            "still\n",
            "enjoyable\n",
            "both\n",
            "brilliant\n",
            "very\n",
            "shows\n",
            "simple\n",
            "enjoy\n",
            "always\n"
          ]
        }
      ],
      "source": [
        "# Solution 1:\n",
        "\n",
        "# make a list of (weight, index), sort it\n",
        "lst=[]\n",
        "for idx,weight in enumerate(classifier.coef_[0]):\n",
        "    lst.append((weight,idx))\n",
        "lst.sort() #sort\n",
        "\n",
        "#Print first few and last few\n",
        "for weight,idx in lst[:30]: #first 30 (ie lowest weight)\n",
        "    print(index2feature[idx])\n",
        "print(\"----------------------------------------------------\")\n",
        "#Take the last 30 (lst[-30:]) but these now come from weakest to strongest\n",
        "#so reverse the list using [::-1]\n",
        "for weight,idx in lst[-30:][::-1]:\n",
        "    print(index2feature[idx])\n"
      ]
    },
    {
      "cell_type": "code",
      "execution_count": 5,
      "metadata": {
        "id": "ttvn-BrEW5BV",
        "outputId": "2f55a7a7-e339-4aa8-e4f0-6d85ed919500",
        "colab": {
          "base_uri": "https://localhost:8080/"
        }
      },
      "outputs": [
        {
          "output_type": "stream",
          "name": "stdout",
          "text": [
            "[67179  5003 65830 ...  6401 20952 26102]\n",
            "worst\n",
            "bad\n",
            "waste\n",
            "awful\n",
            "boring\n",
            "poor\n",
            "terrible\n",
            "nothing\n",
            "worse\n",
            "dull\n",
            "stupid\n",
            "unfortunately\n",
            "poorly\n",
            "no\n",
            "script\n",
            "horrible\n",
            "minutes\n",
            "instead\n",
            "ridiculous\n",
            "avoid\n",
            "supposed\n",
            "annoying\n",
            "money\n",
            "fails\n",
            "mess\n",
            "save\n",
            "disappointing\n",
            "plot\n",
            "disappointment\n",
            "lame\n",
            "-------------------------------\n",
            "great\n",
            "excellent\n",
            "best\n",
            "perfect\n",
            "wonderful\n",
            "loved\n",
            "amazing\n",
            "love\n",
            "fun\n",
            "enjoyed\n",
            "today\n",
            "favorite\n",
            "highly\n",
            "definitely\n",
            "well\n",
            "liked\n",
            "beautiful\n",
            "bit\n",
            "superb\n",
            "fantastic\n",
            "job\n",
            "still\n",
            "enjoyable\n",
            "both\n",
            "brilliant\n",
            "very\n",
            "shows\n",
            "simple\n",
            "enjoy\n",
            "always\n"
          ]
        }
      ],
      "source": [
        "# Solution #2\n",
        "# Numpy can help us\n",
        "# argsort gives a sequence of indices that sort an array\n",
        "import numpy\n",
        "\n",
        "indices=numpy.argsort(classifier.coef_[0])\n",
        "print(indices)\n",
        "for idx in indices[:30]:\n",
        "    print(index2feature[idx])\n",
        "print(\"-------------------------------\")\n",
        "for idx in indices[::-1][:30]: #you can also do it the other way round, reverse, then pick\n",
        "    print(index2feature[idx])"
      ]
    },
    {
      "cell_type": "markdown",
      "metadata": {
        "id": "1muPhwOCW5BZ"
      },
      "source": [
        "* This seems to work like charm!\n",
        "* We can sample the features across the range to get some further idea\n",
        "* let's take every 100th feature"
      ]
    },
    {
      "cell_type": "code",
      "execution_count": 6,
      "metadata": {
        "id": "wBHtlZyOW5Bj",
        "outputId": "19dfe15d-1506-4421-c3ca-2f5c5e2902c5",
        "colab": {
          "base_uri": "https://localhost:8080/"
        }
      },
      "outputs": [
        {
          "output_type": "stream",
          "name": "stdout",
          "text": [
            "worst, then, watching, cop, thats, yeah, charisma, bits, clone, 13th, hire, horrendous, josh, wife, huston, eyeballs, limp, evidence, vignettes, inducing, models, ostensibly, statements, untalented, tested, catchy, flowers, jefferson, islam, marital, genitals, reb, ramtha, veiled, cheery, centuries, sorta, forte, misleading, fistfight, sending, structure, oath, mikes, oversized, dude, reasonably, elise, facsimile, jason, katy, dimly, yards, rey, inbred, bea, hinds, ng, jung, spousal, ect, addressing, documents, continuation, grizzled, cleese, roxanne, lembach, equals, fluttery, dowdy, mabel, scathing, lillian, plugging, stem, trifled, alias, paganism, florey, thumbtanic, wrathful, agency, kellerman, grover, murderous, beaty, transplantation, emphatic, segonzac, hysterically, rance, wagging, tredge, gizmo, ploy, poolguy, abercrombie, azkaban, kops, manslaughter, gypsy, distractingly, birthplace, artefact, omg, barwood, nue, faw, fixates, certificate, closeted, evenly, zaz, athenean, aaliyah, kilogram, shroyer, malebranche, trail, monosyllabic, instructed, centenary, abhorrence, crankcase, goddamn, _as, wedlock, entirity, 571, dolts, sequelae, vaunted, daryll, symmetric, cathedral, grandstand, neworleans, crucified, marnac, berghe, besco, craptacular, kershaw, cybil, congorilla, quire, impatiently, converges, reclining, vin, fiilthy, immemorial, oprah, neous, rumoured, phir, polygram, hubschmid, fanatasies, imperialists, fifty, hr, hyser, middlebrow, sabertooth, bhhaaaad, feeding, spurist, 475, dissuades, yamashita, bulwark, steirs, fulton, bixby, ati, chinned, riffed, infatuated, steretyped, shandling, psychoanalyze, witchdoctor, milanese, hoosegow, messiness, monthy, reenacting, disintegrates, geranium, xxe, genetically, ohgo, greenlighted, akhras, classism, calder, comprehendable, despoiling, rachels, sanitary, hayak, impregnable, reeeeeaally, conquers, wireframe, unturned, koslovska, hindersome, microbiology, unpatriotic, byner, retaliated, lavatory, aahhh, 788, misserably, parapyschologist, jackasses, tugging, barnacle, collaborative, cozy, marat, handlebar, graffiti, luhrmann, hehehehe, guin, parton, spookiest, uncalled, bluff, whaaa, patel, fascinates, sequiter, dumpsters, microsecond, 23d, africans, huggies, decrescendos, traceable, bankability, tweaks, feliz, kyrano, revitalizes, seam, julius, savoring, escargoon, dannielynn, redheaded, enrol, snickers, selfishly, fantasma, rexes, alarik, disovered, sliced, clairvoyance, sketching, entry, upmanship, plasters, cosma, crocs, adjusts, endearments, rtd, devalues, yearns, zealot, imposing, dieter, humm, yah, woot, architectural, rotflmao, peach, volptuous, uno, scooter, parody, transmitting, madam, pookie, esqe, tibetian, zant, sneaked, spoily, dryer, ticklish, shakers, cruelness, recruitment, tailored, obliterating, lungren, stuttered, nastiest, turgenev, magoo, awoken, paraszhanov, paralyzing, wholovesthesun, kô, clavius, regality, bonzos, undramatic, klok, climacteric, meighan, blik, chada, philosophizes, providency, marguis, eek, minidv, breakouts, bluntschli, unwaveringly, whap, easting, horrortitles, canerday, shortchanging, amilee, amalgamated, seiing, djs, scudded, conspiracists, conley, disinherits, crudy, susbtituted, gower, crowell, heinously, hedaya, tamizh, gijón, genuises, jetliner, fetishises, compensatory, sandrelli, finery, firmament, fieldsian, restructured, inked, morphine, kahlua, torkle, eliminates, novello, wildcat, spanglish, differences, breakingly, jaspal, consisted, blindfold, daugther, ottoman, schlettow, resumé, elitism, smouldering, landowner, topsoil, shindler, counsels, nuthouse, raves, mendolita, piazza, lilian, arora, dufy, guidances, pervertish, evangelistic, gratitude, bethsheba, hofeus, baltimoreans, fjernsynsteatret, jur, reposed, surtees, pe, discreet, lusty, situational, papas, harpsichord, tactic, mandates, seydou, hospitalised, tulane, ferried, perrineau, swedlow, warbling, salutary, mused, cycling, demobbed, kinnair, nonchalant, temper, antwerp, tchaikovsky, idia, derives, manilow, pityful, dancey, thornway, cooling, yuks, happpy, choreographic, acquaints, critiquing, joycelyn, homosexuality, brasher, coital, longueurs, schirripa, settee, gomes, percentages, clipping, kumba, luscious, purbbs, lug, haranguing, heeding, doon, metzner, delinquents, liquefying, vaudevillians, hyodo, calhern, diedrich, pandora, repaid, dispensation, extroverts, gouald, slandering, univeral, groucho, mplex, 170, sünden, comity, gelatin, overlooks, tended, retrieving, klansmen, bedsit, vances, cosima, uncredited, ribaldry, patented, gingerdead, pushover, underdone, coerced, cohens, maruja, water, gazooks, complicit, persuasions, helge, kasdan, scarfs, queenly, techno, brewer, sandbox, solomon, groupies, moseys, assessing, putated, foreigners, sanhedrin, muzzled, audery, overextended, fincher, watase, sssr, clement, syllables, masoud, affronts, teething, favortites, arnald, anthologies, emy, disqualify, raunch, communicate, wumaster, correll, backroom, nyc, premiering, greeley, underpinning, namby, divulges, hening, rotld, baltron, hallway, aston, bleibtreu, slayings, rrw, fangirls, fascistic, manifestly, empathised, brusk, beets, hustler, natalia, taandav, alway, fadeout, employs, lindfors, srbljanovic, nab, snazzier, subtracted, sputtered, acrobat, frivolity, oirish, unburied, feathering, confections, growling, butthead, madnes, symbiosis, julie, meta, sleuthing, mylo, esmerelda, inhumanly, herge, unalloyed, doig, skimmed, spacious, shoulder, gorges, roberto, olsson, albania, limitation, distinguishing, indicted, gantry, imp, quatermass, wringer, colin, biblically, vampyros, sutcliffe, rug, accessory, symbolized, plaintiffs, impending, existience, complementary, unleash, interacting, collector, hannah, prevails, accompaniment, disarms, scalpels, gibney, hiralal, yorkers, communicates, impressions, durbin, michael, deathbed, ackland, prices, demeanour, hells, 1934, flashback, gallows, yummy, restaurant, dummy, siblings, thug, sasha, med, jon, serbian, sweetness, capture, desdemona, enter, borrow, sharma, role, storming, stated, perspectives, twist, toned, neve, psychopath, 1926, richardson, korea, deft, illustrates, snippets, dwell, suspend, edges, address, mj, allowing, roman, truth, wielding, stark, blade, ira, web, censorship, lesson, sky, essence, desire, performing, sadness, received, nevertheless, nature, future, perfect, "
          ]
        }
      ],
      "source": [
        "indices=numpy.argsort(classifier.coef_[0])\n",
        "\n",
        "for idx in indices[::100]:\n",
        "    print(index2feature[idx],end=\", \")"
      ]
    },
    {
      "cell_type": "markdown",
      "metadata": {
        "id": "w4UrI3ckW5Bk"
      },
      "source": [
        "* What have we learned?\n",
        "* Most of the features seem to form a mass without a strong correlation with the sentiment\n",
        "* Only the very extremes of the list seem to be strongly sentiment-biased\n",
        "* This can be tested by looking at the distribution of the weights:"
      ]
    },
    {
      "cell_type": "code",
      "execution_count": 7,
      "metadata": {
        "id": "blQmdX6tW5Bo",
        "outputId": "808360d1-1072-4f80-c0cf-2b9fe266f4e2",
        "colab": {
          "base_uri": "https://localhost:8080/",
          "height": 515
        }
      },
      "outputs": [
        {
          "output_type": "display_data",
          "data": {
            "image/png": "[encoded data removed]",
            "text/plain": [
              "<Figure size 432x288 with 1 Axes>"
            ]
          },
          "metadata": {
            "needs_background": "light"
          }
        },
        {
          "output_type": "display_data",
          "data": {
            "image/png": "[encoded data removed]",
            "text/plain": [
              "<Figure size 432x288 with 1 Axes>"
            ]
          },
          "metadata": {
            "needs_background": "light"
          }
        }
      ],
      "source": [
        "import matplotlib.pyplot as plt\n",
        "import numpy as np\n",
        "#widget is interactive but not shown on github\n",
        "#inline is static fig but shown on github\n",
        "#%matplotlib widget\n",
        "%matplotlib inline\n",
        "\n",
        "plt.figure()\n",
        "y = np.sort(classifier.coef_[0])\n",
        "plt.plot(y)\n",
        "plt.show()\n",
        "\n",
        "#let's look at the beginning, see how fast the weights drop\n",
        "plt.figure()\n",
        "y=np.sort(classifier.coef_[0])\n",
        "plt.plot(y[:1000])\n",
        "plt.show()\n"
      ]
    },
    {
      "cell_type": "code",
      "execution_count": null,
      "metadata": {
        "id": "dj2C7E6CW5Bt"
      },
      "outputs": [],
      "source": [
        ""
      ]
    }
  ],
  "metadata": {
    "kernelspec": {
      "display_name": "Python 3",
      "language": "python",
      "name": "python3"
    },
    "language_info": {
      "codemirror_mode": {
        "name": "ipython",
        "version": 3
      },
      "file_extension": ".py",
      "mimetype": "text/x-python",
      "name": "python",
      "nbconvert_exporter": "python",
      "pygments_lexer": "ipython3",
      "version": "3.7.5"
    },
    "colab": {
      "name": "feature_interpretation.ipynb",
      "provenance": [],
      "include_colab_link": true
    }
  },
  "nbformat": 4,
  "nbformat_minor": 0
}