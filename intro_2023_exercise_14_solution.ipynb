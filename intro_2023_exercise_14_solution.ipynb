{
  "nbformat": 4,
  "nbformat_minor": 0,
  "metadata": {
    "colab": {
      "provenance": [],
      "authorship_tag": "ABX9TyM9IBHAE8ZldRJIEHRTacw7",
      "include_colab_link": true
    },
    "kernelspec": {
      "name": "python3",
      "display_name": "Python 3"
    },
    "language_info": {
      "name": "python"
    }
  },
  "cells": [
    {
      "cell_type": "markdown",
      "metadata": {
        "id": "view-in-github",
        "colab_type": "text"
      },
      "source": [
        "<a href=\"https://colab.research.google.com/github/TurkuNLP/intro-to-nlp/blob/master/intro_2023_exercise_14_solution.ipynb\" target=\"_parent\"><img src=\"https://colab.research.google.com/assets/colab-badge.svg\" alt=\"Open In Colab\"/></a>"
      ]
    },
    {
      "cell_type": "markdown",
      "source": [
        "# Example solution to exercise task 14\n",
        "\n",
        "In this exercise, we'll experiment with a few pipelines from the Hugging Face repository. To keep things simple, we'll here just use the default models for each of the pipelines."
      ],
      "metadata": {
        "id": "tIQ1s96UCcJW"
      }
    },
    {
      "cell_type": "markdown",
      "source": [
        "---\n",
        "\n",
        "## Setup"
      ],
      "metadata": {
        "id": "xs4TUkKNG5D7"
      }
    },
    {
      "cell_type": "code",
      "source": [
        "!pip install --quiet transformers"
      ],
      "metadata": {
        "id": "4fUBJmXHCHw-"
      },
      "execution_count": 39,
      "outputs": []
    },
    {
      "cell_type": "code",
      "source": [
        "from transformers import pipeline"
      ],
      "metadata": {
        "id": "ZIHKcqBcHp1I"
      },
      "execution_count": 40,
      "outputs": []
    },
    {
      "cell_type": "markdown",
      "source": [
        "---\n",
        "\n",
        "## Text classification\n",
        "\n",
        "Following the [example](https://huggingface.co/docs/transformers/task_summary#text-classification) pointed to in the exercise, we'll instantiate a sentiment analysis pipeline."
      ],
      "metadata": {
        "id": "XrHu6fYmHYpq"
      }
    },
    {
      "cell_type": "code",
      "source": [
        "pipe = pipeline(task='sentiment-analysis')"
      ],
      "metadata": {
        "colab": {
          "base_uri": "https://localhost:8080/"
        },
        "id": "vI-gBuwyHHCp",
        "outputId": "d8bd6caf-e42e-4056-878b-9c0383ee7ce3"
      },
      "execution_count": 41,
      "outputs": [
        {
          "output_type": "stream",
          "name": "stderr",
          "text": [
            "No model was supplied, defaulted to distilbert-base-uncased-finetuned-sst-2-english and revision af0f99b (https://huggingface.co/distilbert-base-uncased-finetuned-sst-2-english).\n",
            "Using a pipeline without specifying a model name and revision in production is not recommended.\n"
          ]
        }
      ]
    },
    {
      "cell_type": "markdown",
      "source": [
        "Some simple test sentences:"
      ],
      "metadata": {
        "id": "OYDHLjL1IERq"
      }
    },
    {
      "cell_type": "code",
      "source": [
        "sentences = [\n",
        "    \"This movie is absolutely wonderful, I love it!\",\n",
        "    \"That is certainly the worst laptop computer ever made.\",\n",
        "    \"I'm not sure what to think about it, but I guess on balance it's OK\",\n",
        "    \"This is certainly not particularly good.\",\n",
        "    \"I'm feeling quite upbeat today!\"\n",
        "]"
      ],
      "metadata": {
        "id": "hK28LMt0H6Fu"
      },
      "execution_count": 42,
      "outputs": []
    },
    {
      "cell_type": "markdown",
      "source": [
        "We can call the pipeline like so:"
      ],
      "metadata": {
        "id": "R81xaLJTIHmX"
      }
    },
    {
      "cell_type": "code",
      "source": [
        "pipe(sentences[0])"
      ],
      "metadata": {
        "colab": {
          "base_uri": "https://localhost:8080/"
        },
        "id": "1iS4uxzsIJfy",
        "outputId": "fa3c05e3-578a-4d23-ca40-217fbf713962"
      },
      "execution_count": 43,
      "outputs": [
        {
          "output_type": "execute_result",
          "data": {
            "text/plain": [
              "[{'label': 'POSITIVE', 'score': 0.9998733997344971}]"
            ]
          },
          "metadata": {},
          "execution_count": 43
        }
      ]
    },
    {
      "cell_type": "markdown",
      "source": [
        "Let's run that for all of the sentences:"
      ],
      "metadata": {
        "id": "pQg8Ix9TINS6"
      }
    },
    {
      "cell_type": "code",
      "source": [
        "for s in sentences:\n",
        "    print(s, pipe(s))"
      ],
      "metadata": {
        "colab": {
          "base_uri": "https://localhost:8080/"
        },
        "id": "9HcKl5BIIQdm",
        "outputId": "d6d6dde3-10f9-4815-a9e0-0ce17e1fbf96"
      },
      "execution_count": 44,
      "outputs": [
        {
          "output_type": "stream",
          "name": "stdout",
          "text": [
            "This movie is absolutely wonderful, I love it! [{'label': 'POSITIVE', 'score': 0.9998733997344971}]\n",
            "That is certainly the worst laptop computer ever made. [{'label': 'NEGATIVE', 'score': 0.9997958540916443}]\n",
            "I'm not sure what to think about it, but I guess on balance it's OK [{'label': 'POSITIVE', 'score': 0.9997145533561707}]\n",
            "This is certainly not particularly good. [{'label': 'NEGATIVE', 'score': 0.9997963309288025}]\n",
            "I'm feeling quite upbeat today! [{'label': 'POSITIVE', 'score': 0.9998337030410767}]\n"
          ]
        }
      ]
    },
    {
      "cell_type": "markdown",
      "source": [
        "These are all correct."
      ],
      "metadata": {
        "id": "QKl_aleTIX9T"
      }
    },
    {
      "cell_type": "markdown",
      "source": [
        "---\n",
        "\n",
        "## Sequence labeling (NER)\n",
        "\n",
        "We'll follow the same process as above."
      ],
      "metadata": {
        "id": "n3c4Q7pKIeFC"
      }
    },
    {
      "cell_type": "code",
      "source": [
        "pipe = pipeline(task='ner')"
      ],
      "metadata": {
        "colab": {
          "base_uri": "https://localhost:8080/"
        },
        "id": "Dt0hBOUdLKwI",
        "outputId": "8bf8f9b8-bd0d-49b7-a404-9e068721bf06"
      },
      "execution_count": 45,
      "outputs": [
        {
          "output_type": "stream",
          "name": "stderr",
          "text": [
            "No model was supplied, defaulted to dbmdz/bert-large-cased-finetuned-conll03-english and revision f2482bf (https://huggingface.co/dbmdz/bert-large-cased-finetuned-conll03-english).\n",
            "Using a pipeline without specifying a model name and revision in production is not recommended.\n"
          ]
        }
      ]
    },
    {
      "cell_type": "code",
      "source": [
        "sentences = [\n",
        "    \"John went to the store.\",\n",
        "    \"Her name is Jane.\",\n",
        "    \"The president is Joe Biden.\",\n",
        "    \"Is she called Mary?\",\n",
        "    \"John and Jane went home.\",\n",
        "]\n",
        "\n",
        "for s in sentences:\n",
        "    print(s)\n",
        "    for e in pipe(s):\n",
        "      print('   ', e)"
      ],
      "metadata": {
        "colab": {
          "base_uri": "https://localhost:8080/"
        },
        "id": "aP8FmXQyIk3n",
        "outputId": "044768af-9d6e-44d0-e3b2-82783b35edb2"
      },
      "execution_count": 46,
      "outputs": [
        {
          "output_type": "stream",
          "name": "stdout",
          "text": [
            "John went to the store.\n",
            "    {'entity': 'I-PER', 'score': 0.9865002, 'index': 1, 'word': 'John', 'start': 0, 'end': 4}\n",
            "Her name is Jane.\n",
            "    {'entity': 'I-PER', 'score': 0.9979619, 'index': 4, 'word': 'Jane', 'start': 12, 'end': 16}\n",
            "The president is Joe Biden.\n",
            "    {'entity': 'I-PER', 'score': 0.9988011, 'index': 4, 'word': 'Joe', 'start': 17, 'end': 20}\n",
            "    {'entity': 'I-PER', 'score': 0.9982734, 'index': 5, 'word': 'B', 'start': 21, 'end': 22}\n",
            "    {'entity': 'I-PER', 'score': 0.99794954, 'index': 6, 'word': '##iden', 'start': 22, 'end': 26}\n",
            "Is she called Mary?\n",
            "    {'entity': 'I-PER', 'score': 0.99653107, 'index': 4, 'word': 'Mary', 'start': 14, 'end': 18}\n",
            "John and Jane went home.\n",
            "    {'entity': 'I-PER', 'score': 0.9944279, 'index': 1, 'word': 'John', 'start': 0, 'end': 4}\n",
            "    {'entity': 'I-PER', 'score': 0.98774844, 'index': 3, 'word': 'Jane', 'start': 9, 'end': 13}\n"
          ]
        }
      ]
    },
    {
      "cell_type": "markdown",
      "source": [
        "These are again all correct, as one would expect from such simple examples. (Note that `Biden` is split into two tokens, `B` and `##iden`, where `##` denotes continuation. This is a tokenization detail; the prediction is correct.)"
      ],
      "metadata": {
        "id": "Er7sReaaJSih"
      }
    },
    {
      "cell_type": "markdown",
      "source": [
        "---\n",
        "\n",
        "## Question answering\n",
        "\n",
        "We'll proceed similarly as above, asking questions of a fixed document, namely the first paragraph of the [Wikipedia page for Turku](https://en.wikipedia.org/wiki/Turku)."
      ],
      "metadata": {
        "id": "0JQbAS1tJycF"
      }
    },
    {
      "cell_type": "code",
      "source": [
        "pipe = pipeline(task=\"question-answering\")"
      ],
      "metadata": {
        "colab": {
          "base_uri": "https://localhost:8080/"
        },
        "id": "c2Wg14tcLHsm",
        "outputId": "e1fda79d-6d9b-4d58-85d6-1261d84dfeb4"
      },
      "execution_count": 47,
      "outputs": [
        {
          "output_type": "stream",
          "name": "stderr",
          "text": [
            "No model was supplied, defaulted to distilbert-base-cased-distilled-squad and revision 626af31 (https://huggingface.co/distilbert-base-cased-distilled-squad).\n",
            "Using a pipeline without specifying a model name and revision in production is not recommended.\n"
          ]
        }
      ]
    },
    {
      "cell_type": "code",
      "source": [
        "document = \"\"\"Turku is a city and former capital on the southwest coast of Finland at the mouth of the Aura River, in the region of Finland Proper (Varsinais-Suomi) and the former Turku and Pori Province (Turun ja Porin lääni; 1634–1997).\n",
        "The region was originally called Suomi (Finland), which later became the name for the whole country.\n",
        "As of 31 March 2021, the population of Turku was 194,244 making it the sixth largest city in Finland after Helsinki, Espoo, Tampere, Vantaa and Oulu.\n",
        "There were 281,108 inhabitants living in the Turku Central Locality, ranking it as the third largest urban area in Finland after the Capital Region area and Tampere Central Locality.\n",
        "The city is officially bilingual as 5.2 percent of its population identify Swedish as a mother-tongue.\"\"\"\n",
        "\n",
        "questions = [\n",
        "    \"What region of Finland is Turku located in?\",\n",
        "    \"What province is Turku located in?\",\n",
        "    \"What is the population of Turku?\",\n",
        "    \"What was the original name of the Finland Proper region?\",\n",
        "    \"What cities in Finland are larger than Turku?\",\n",
        "]\n",
        "\n",
        "for q in questions:\n",
        "    print(q, pipe(question=q, context=document))"
      ],
      "metadata": {
        "colab": {
          "base_uri": "https://localhost:8080/"
        },
        "id": "ZckVqqDvJ6Pp",
        "outputId": "97d37c0c-4fe6-475b-a6cc-644057748c4c"
      },
      "execution_count": 48,
      "outputs": [
        {
          "output_type": "stream",
          "name": "stdout",
          "text": [
            "What region of Finland is Turku located in? {'score': 0.9126155376434326, 'start': 118, 'end': 132, 'answer': 'Finland Proper'}\n",
            "What province is Turku located in? {'score': 0.6044908165931702, 'start': 176, 'end': 189, 'answer': 'Pori Province'}\n",
            "What is the population of Turku? {'score': 0.9827180504798889, 'start': 375, 'end': 382, 'answer': '194,244'}\n",
            "What was the original name of the Finland Proper region? {'score': 0.7893495559692383, 'start': 258, 'end': 263, 'answer': 'Suomi'}\n",
            "What cities in Finland are larger than Turku? {'score': 0.0007836163858883083, 'start': 433, 'end': 441, 'answer': 'Helsinki'}\n"
          ]
        }
      ]
    },
    {
      "cell_type": "markdown",
      "source": [
        "3/5 correct; not a fantastic showing for such comparatively simple questions."
      ],
      "metadata": {
        "id": "RKo3p-0KL393"
      }
    },
    {
      "cell_type": "markdown",
      "source": [
        "---\n",
        "\n",
        "## Summarization\n",
        "\n",
        "We'll follow the pattern above, again with some paragraphs from wikipedia pages as inputs. "
      ],
      "metadata": {
        "id": "r3lWkOMUMACv"
      }
    },
    {
      "cell_type": "code",
      "source": [
        "pipe = pipeline(task=\"summarization\")"
      ],
      "metadata": {
        "colab": {
          "base_uri": "https://localhost:8080/"
        },
        "id": "tx4jW2fhMJaL",
        "outputId": "193c69b8-06b4-40bf-b334-810bfed07b70"
      },
      "execution_count": 49,
      "outputs": [
        {
          "output_type": "stream",
          "name": "stderr",
          "text": [
            "No model was supplied, defaulted to sshleifer/distilbart-cnn-12-6 and revision a4f8f3e (https://huggingface.co/sshleifer/distilbart-cnn-12-6).\n",
            "Using a pipeline without specifying a model name and revision in production is not recommended.\n"
          ]
        }
      ]
    },
    {
      "cell_type": "code",
      "source": [
        "documents = [\n",
        "    \"Turku is a city and former capital on the southwest coast of Finland at the mouth of the Aura River, in the region of Finland Proper (Varsinais-Suomi) and the former Turku and Pori Province (Turun ja Porin lääni; 1634–1997). The region was originally called Suomi (Finland), which later became the name for the whole country. As of 31 March 2021, the population of Turku was 194,244 making it the sixth largest city in Finland after Helsinki, Espoo, Tampere, Vantaa and Oulu. There were 281,108 inhabitants living in the Turku Central Locality, ranking it as the third largest urban area in Finland after the Capital Region area and Tampere Central Locality. The city is officially bilingual as 5.2 percent of its population identify Swedish as a mother-tongue.\",\n",
        "    \"Finland was first inhabited around 9000 BC after the Last Glacial Period. The Stone Age introduced several different ceramic styles and cultures. The Bronze Age and Iron Age were characterized by contacts with other cultures in Fennoscandia and the Baltic region. From the late 13th century, Finland became a part of Sweden as a consequence of the Northern Crusades. In 1809, as a result of the Finnish War, Finland became part of the Russian Empire as the autonomous Grand Duchy of Finland, during which Finnish art flourished and the idea of independence began to take hold. In 1906, Finland became the first European state to grant universal suffrage, and the first in the world to give all adult citizens the right to run for public office. After the 1917 Russian Revolution, Finland declared independence from Russia. In 1918, the fledgling state was divided by the Finnish Civil War. During World War II, Finland fought the Soviet Union in the Winter War and the Continuation War, and Nazi Germany in the Lapland War. It subsequently lost parts of its territory, but maintained its independence.\",\n",
        "    \"The Age of Enlightenment, the French Revolution and the Napoleonic Wars shaped the continent culturally, politically and economically from the end of the 17th century until the first half of the 19th century. The Industrial Revolution, which began in Great Britain at the end of the 18th century, gave rise to radical economic, cultural and social change in Western Europe and eventually the wider world. Both world wars began and were fought to a great extent in Europe, contributing to a decline in Western European dominance in world affairs by the mid-20th century as the Soviet Union and the United States took prominence. During the Cold War, Europe was divided along the Iron Curtain between NATO in the West and the Warsaw Pact in the East, until the Revolutions of 1989, Fall of the Berlin Wall and the Dissolution of the Soviet Union. The European Union (EU) and the Council of Europe are two important international organizations aiming to represent the European continent on a political level. The Council of Europe was founded in 1948 with the idea of unifying Europe to achieve common goals and prevent future wars. Further European integration by some states led to the formation of the European Union, a separate political entity that lies between a confederation and a federation. The EU originated in Western Europe but has been expanding eastward since the fall of the Soviet Union in 1991. A majority of its members have adopted a common currency, the euro, and a large bloc of countries, the Schengen Area, have abolished internal border and immigration controls.\",\n",
        "]\n",
        "\n",
        "for d in documents:\n",
        "    s = pipe(d)[0]['summary_text']\n",
        "    print(f'Document ({len(d)} chars): {d}')\n",
        "    print(f'Summary  ({len(s)} chars): {s}')\n",
        "    print('---')"
      ],
      "metadata": {
        "colab": {
          "base_uri": "https://localhost:8080/"
        },
        "id": "EueXThn2MOp_",
        "outputId": "499a47a3-a0f6-48a8-8cc8-33e4c2dd1d49"
      },
      "execution_count": 50,
      "outputs": [
        {
          "output_type": "stream",
          "name": "stdout",
          "text": [
            "Document (761 chars): Turku is a city and former capital on the southwest coast of Finland at the mouth of the Aura River, in the region of Finland Proper (Varsinais-Suomi) and the former Turku and Pori Province (Turun ja Porin lääni; 1634–1997). The region was originally called Suomi (Finland), which later became the name for the whole country. As of 31 March 2021, the population of Turku was 194,244 making it the sixth largest city in Finland after Helsinki, Espoo, Tampere, Vantaa and Oulu. There were 281,108 inhabitants living in the Turku Central Locality, ranking it as the third largest urban area in Finland after the Capital Region area and Tampere Central Locality. The city is officially bilingual as 5.2 percent of its population identify Swedish as a mother-tongue.\n",
            "Summary  (309 chars):  As of 31 March 2021, the population of Turku was 194,244 making it the sixth largest city in Finland . The city is officially bilingual as 5.2 percent of its population identify Swedish as a mother-tongue . The region was originally called Suomi (Finland), which later became the name for the whole country .\n",
            "---\n",
            "Document (1101 chars): Finland was first inhabited around 9000 BC after the Last Glacial Period. The Stone Age introduced several different ceramic styles and cultures. The Bronze Age and Iron Age were characterized by contacts with other cultures in Fennoscandia and the Baltic region. From the late 13th century, Finland became a part of Sweden as a consequence of the Northern Crusades. In 1809, as a result of the Finnish War, Finland became part of the Russian Empire as the autonomous Grand Duchy of Finland, during which Finnish art flourished and the idea of independence began to take hold. In 1906, Finland became the first European state to grant universal suffrage, and the first in the world to give all adult citizens the right to run for public office. After the 1917 Russian Revolution, Finland declared independence from Russia. In 1918, the fledgling state was divided by the Finnish Civil War. During World War II, Finland fought the Soviet Union in the Winter War and the Continuation War, and Nazi Germany in the Lapland War. It subsequently lost parts of its territory, but maintained its independence.\n",
            "Summary  (452 chars):  Finland was first inhabited around 9000 BC after the Last Glacial Period . The Bronze Age and Iron Age were characterized by contacts with other cultures in Fennoscandia and the Baltic region . From the late 13th century, Finland became a part of Sweden as a result of the Northern Crusades . Finland became the first European state to grant universal suffrage and the first in the world to give all adult citizens the right to run for public office .\n",
            "---\n",
            "Document (1584 chars): The Age of Enlightenment, the French Revolution and the Napoleonic Wars shaped the continent culturally, politically and economically from the end of the 17th century until the first half of the 19th century. The Industrial Revolution, which began in Great Britain at the end of the 18th century, gave rise to radical economic, cultural and social change in Western Europe and eventually the wider world. Both world wars began and were fought to a great extent in Europe, contributing to a decline in Western European dominance in world affairs by the mid-20th century as the Soviet Union and the United States took prominence. During the Cold War, Europe was divided along the Iron Curtain between NATO in the West and the Warsaw Pact in the East, until the Revolutions of 1989, Fall of the Berlin Wall and the Dissolution of the Soviet Union. The European Union (EU) and the Council of Europe are two important international organizations aiming to represent the European continent on a political level. The Council of Europe was founded in 1948 with the idea of unifying Europe to achieve common goals and prevent future wars. Further European integration by some states led to the formation of the European Union, a separate political entity that lies between a confederation and a federation. The EU originated in Western Europe but has been expanding eastward since the fall of the Soviet Union in 1991. A majority of its members have adopted a common currency, the euro, and a large bloc of countries, the Schengen Area, have abolished internal border and immigration controls.\n",
            "Summary  (612 chars):  The Age of Enlightenment, the French Revolution and the Napoleonic Wars shaped the continent culturally, politically and economically from the end of the 17th century until the first half of the 19th century . During the Cold War, Europe was divided along the Iron Curtain between NATO in the West and the Warsaw Pact in the East . Further European integration by some states led to the formation of the European Union, a separate political entity that lies between a confederation and federation . The EU originated in Western Europe but has been expanding eastward since the fall of the Soviet Union in 1991 .\n",
            "---\n"
          ]
        }
      ]
    },
    {
      "cell_type": "markdown",
      "source": [
        "---\n",
        "\n",
        "## Translation\n",
        "\n",
        "We'll follow the [example](https://huggingface.co/docs/transformers/task_summary#translation) in attempting translation using a multilingual model."
      ],
      "metadata": {
        "id": "_Iy9jSC6NxkR"
      }
    },
    {
      "cell_type": "code",
      "source": [
        "pipe = pipeline(task=\"translation\", model=\"t5-small\")"
      ],
      "metadata": {
        "colab": {
          "base_uri": "https://localhost:8080/"
        },
        "id": "3Jjy06QiOJvQ",
        "outputId": "d0a2b9e0-abfb-4fe1-8806-dd21de0ad4aa"
      },
      "execution_count": 51,
      "outputs": [
        {
          "output_type": "stream",
          "name": "stderr",
          "text": [
            "/usr/local/lib/python3.10/dist-packages/transformers/pipelines/__init__.py:958: UserWarning: \"translation\" task was used, instead of \"translation_XX_to_YY\", defaulting to \"translation_en_to_de\"\n",
            "  warnings.warn(\n"
          ]
        }
      ]
    },
    {
      "cell_type": "code",
      "source": [
        "sentences = [\n",
        "    \"Turku is a city and former capital on the southwest coast of Finland at the mouth of the Aura River.\",\n",
        "    \"The city is officially bilingual as 5.2 percent of its population identify Swedish as a mother-tongue.\",\n",
        "    \"Finland was first inhabited around 9000 BC after the Last Glacial Period.\",\n",
        "]\n",
        "\n",
        "for s in sentences:\n",
        "    t = pipe(prefix + s)[0]['translation_text']\n",
        "    print(s)\n",
        "    print(t)\n",
        "    print('---')"
      ],
      "metadata": {
        "colab": {
          "base_uri": "https://localhost:8080/"
        },
        "id": "dN02WYTXNis2",
        "outputId": "6e0f28a1-1b3a-4488-ac90-a388ca995c73"
      },
      "execution_count": 52,
      "outputs": [
        {
          "output_type": "stream",
          "name": "stdout",
          "text": [
            "Turku is a city and former capital on the southwest coast of Finland at the mouth of the Aura River.\n",
            "Turku ist eine Stadt und ehemalige Hauptstadt an der Südwestküste Finnlands an der Mündung des Flusses Aura.\n",
            "---\n",
            "The city is officially bilingual as 5.2 percent of its population identify Swedish as a mother-tongue.\n",
            "Die Stadt ist offiziell bilingue, da 5,2 % ihrer Bevölkerung Schwedisch als Muttersprache identifizieren.\n",
            "---\n",
            "Finland was first inhabited around 9000 BC after the Last Glacial Period.\n",
            "Finnland wurde zuerst um 9000 v. Chr. nach der letzten Glacial Periode bewohnt.\n",
            "---\n"
          ]
        }
      ]
    }
  ]
}