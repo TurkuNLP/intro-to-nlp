{
  "nbformat": 4,
  "nbformat_minor": 0,
  "metadata": {
    "colab": {
      "provenance": [],
      "authorship_tag": "ABX9TyPZWXdDaUnoh5LQ9IBHqRtW",
      "include_colab_link": true
    },
    "kernelspec": {
      "name": "python3",
      "display_name": "Python 3"
    },
    "language_info": {
      "name": "python"
    }
  },
  "cells": [
    {
      "cell_type": "markdown",
      "metadata": {
        "id": "view-in-github",
        "colab_type": "text"
      },
      "source": [
        "<a href=\"https://colab.research.google.com/github/TurkuNLP/intro-to-nlp/blob/master/intro_2023_exercise_8_solution.ipynb\" target=\"_parent\"><img src=\"https://colab.research.google.com/assets/colab-badge.svg\" alt=\"Open In Colab\"/></a>"
      ]
    },
    {
      "cell_type": "markdown",
      "source": [
        "# Sequence labeling with CRF\n",
        "\n",
        "This notebook provides an example of how to perform sequence labeling with a Conditional Random Field (CRF) model.\n",
        "\n",
        "(This notebook is based on this [notebook for CoNLL 2002 Spanish tagging](https://github.com/TeamHG-Memex/sklearn-crfsuite/blob/master/docs/CoNLL2002.ipynb))"
      ],
      "metadata": {
        "id": "RFGEAWhFZoYy"
      }
    },
    {
      "cell_type": "markdown",
      "source": [
        "---\n",
        "\n",
        "## Setup\n",
        "\n",
        "We'll be using the [sklearn-crfsuite](https://sklearn-crfsuite.readthedocs.io/en/latest/) Python package, which wraps the [CRFsuite](http://www.chokkan.org/software/crfsuite/) CRF implementation.\n",
        "\n",
        "(Specifically, we'll install a fork that fixes a [versioning incompatibility issue](https://github.com/TeamHG-Memex/sklearn-crfsuite/issues/60) with the integration)"
      ],
      "metadata": {
        "id": "Klope-YOaLmm"
      }
    },
    {
      "cell_type": "code",
      "source": [
        "!pip install --quiet git+https://github.com/MeMartijn/updated-sklearn-crfsuite.git#egg=sklearn_crfsuite"
      ],
      "metadata": {
        "colab": {
          "base_uri": "https://localhost:8080/"
        },
        "id": "uhyqgRJHo5Rv",
        "outputId": "dd603221-b50d-40d7-f61a-a927c7c2c1ad"
      },
      "execution_count": 1,
      "outputs": [
        {
          "output_type": "stream",
          "name": "stdout",
          "text": [
            "  Preparing metadata (setup.py) ... \u001b[?25l\u001b[?25hdone\n"
          ]
        }
      ]
    },
    {
      "cell_type": "markdown",
      "source": [
        "To take advantage of the integration of CRFsuite into the [scikit-learn](https://scikit-learn.org/stable/) machine learning library, we'll here be using parts of that library to support data loading and evaluation. (The basic functionality provided by this library is similar to what you could get from the `datasets` and `evaluate` libraries that you should know by now, and there's no need to try to memorize any of the specific details of these libraries.) "
      ],
      "metadata": {
        "id": "5tor3S1madzC"
      }
    },
    {
      "cell_type": "code",
      "execution_count": 2,
      "metadata": {
        "id": "VbMIi8zaojau"
      },
      "outputs": [],
      "source": [
        "from itertools import chain\n",
        "\n",
        "import nltk\n",
        "import sklearn\n",
        "import scipy.stats\n",
        "import sklearn.metrics\n",
        "\n",
        "from nltk.corpus.reader import ConllCorpusReader\n",
        "\n",
        "from sklearn.metrics import make_scorer\n",
        "from sklearn.model_selection import cross_val_score\n",
        "from sklearn.model_selection import RandomizedSearchCV\n",
        "\n",
        "import sklearn_crfsuite\n",
        "from sklearn_crfsuite import scorers\n",
        "from sklearn_crfsuite import metrics\n",
        "from sklearn_crfsuite.utils import flatten"
      ]
    },
    {
      "cell_type": "markdown",
      "source": [
        "---\n",
        "\n",
        "## Load data\n",
        "\n",
        "We'll use the CoNLL'03 English dataset, which you should be familiar with. We've placed the original data on dl.turkunlp.org, and can download with `wget` as usual: "
      ],
      "metadata": {
        "id": "0ctbbmzIbY6t"
      }
    },
    {
      "cell_type": "code",
      "source": [
        "!wget -nc --quiet http://dl.turkunlp.org/TKO_7095_2023/eng.train\n",
        "!wget -nc --quiet http://dl.turkunlp.org/TKO_7095_2023/eng.testa\n",
        "!wget -nc --quiet http://dl.turkunlp.org/TKO_7095_2023/eng.testb"
      ],
      "metadata": {
        "id": "xMHcKOGgb1Em"
      },
      "execution_count": 3,
      "outputs": []
    },
    {
      "cell_type": "markdown",
      "source": [
        "We'll use the NLTK `ConllCorpusReader` to read in the words, parts of speech and named entity \"chunks\""
      ],
      "metadata": {
        "id": "OxzH2EyoelQ4"
      }
    },
    {
      "cell_type": "code",
      "source": [
        "train_data = ConllCorpusReader('', 'eng.train', ['words', 'pos', 'ignore', 'chunk'])\n",
        "devel_data = ConllCorpusReader('', 'eng.testa', ['words', 'pos', 'ignore', 'chunk'])\n",
        "test_data = ConllCorpusReader('', 'eng.testa', ['words', 'pos', 'ignore', 'chunk'])\n",
        "\n",
        "# The comprehension here drops empty sentences used to denote document boundaries \n",
        "train_sentences = [s for s in train_data.iob_sents() if s]\n",
        "devel_sentences = [s for s in devel_data.iob_sents() if s]\n",
        "test_sentences = [s for s in devel_data.iob_sents() if s]"
      ],
      "metadata": {
        "id": "x-3Jt5QRdPuw"
      },
      "execution_count": 4,
      "outputs": []
    },
    {
      "cell_type": "markdown",
      "source": [
        "This reader returns a simple Python list representing the sentences, each of which is represented as a list of tuples of token features (form, POS tag, NE tag).\n",
        "\n",
        "Note that unlike in `datasets`, the data is here in \"human-readable\" string form rather than as integer IDs."
      ],
      "metadata": {
        "id": "KtI0SxUblWeK"
      }
    },
    {
      "cell_type": "code",
      "source": [
        "train_sentences[0]"
      ],
      "metadata": {
        "id": "uVVNBV5yplN5",
        "colab": {
          "base_uri": "https://localhost:8080/"
        },
        "outputId": "a9c7e153-5fc3-4332-da6b-dfc0b6a14a85"
      },
      "execution_count": 5,
      "outputs": [
        {
          "output_type": "execute_result",
          "data": {
            "text/plain": [
              "[('EU', 'NNP', 'I-ORG'),\n",
              " ('rejects', 'VBZ', 'O'),\n",
              " ('German', 'JJ', 'I-MISC'),\n",
              " ('call', 'NN', 'O'),\n",
              " ('to', 'TO', 'O'),\n",
              " ('boycott', 'VB', 'O'),\n",
              " ('British', 'JJ', 'I-MISC'),\n",
              " ('lamb', 'NN', 'O'),\n",
              " ('.', '.', 'O')]"
            ]
          },
          "metadata": {},
          "execution_count": 5
        }
      ]
    },
    {
      "cell_type": "markdown",
      "source": [
        "---\n",
        "\n",
        "## Create features\n",
        "\n",
        "Here a very basic function that returns explicitly defined features for a token"
      ],
      "metadata": {
        "id": "dGrCQrSkh9zS"
      }
    },
    {
      "cell_type": "markdown",
      "source": [
        "```\n",
        "Initial           : micro avg       0.86      0.83      0.84      8603\n",
        "+ token.lower()   : micro avg       0.87      0.84      0.86      8603\n",
        "+ window_size=1   : micro avg       0.90      0.86      0.88      8603\n",
        "+ window_size=2   : micro avg       0.91      0.86      0.88      8603\n",
        "+ BOS and EOS     : micro avg       0.91      0.86      0.88      8603\n",
        "+ token prefixes  : micro avg       0.91      0.87      0.89      8603\n",
        "+ token suffixes  : micro avg       0.91      0.88      0.89      8603\n",
        "+ hyperparams     : micro avg      0.914     0.878     0.896      8603  \n",
        "```"
      ],
      "metadata": {
        "id": "BwNr__mV7bfm"
      }
    },
    {
      "cell_type": "code",
      "source": [
        "def token_features(tokens, index):\n",
        "    features = {\n",
        "        'bias': 1.0,\n",
        "    }\n",
        "\n",
        "    window_size = 2\n",
        "    start = max(0, index-window_size)\n",
        "    end = min(len(tokens)-1, index+window_size)\n",
        "\n",
        "    if start > index-window_size:\n",
        "        features['BOS'] = True\n",
        "    if end < index+window_size:\n",
        "        features['EOS'] = True\n",
        "\n",
        "    for i in range(start, end+1):\n",
        "        o = i - index\n",
        "        token = tokens[i][0]\n",
        "        pos_tag = tokens[i][1]\n",
        "        features.update({\n",
        "            f'token[{o}].text()': token,\n",
        "            f'token[{o}].lower()': token.lower(),       \n",
        "            f'token[{o}].istitle()': token.istitle(),\n",
        "            f'token[{o}].isdigit()': token.isdigit(),\n",
        "            f'pos_tag[{o}]': pos_tag,\n",
        "        })\n",
        "\n",
        "    for i in range(2, 4):\n",
        "        features.update({\n",
        "            f'token[0].text()[:{i}]': tokens[index][0][:i],\n",
        "            f'token[0].text()[{-i}:]': tokens[index][0][-i:],\n",
        "        })\n",
        "\n",
        "    return features"
      ],
      "metadata": {
        "id": "orTF5hBlpo0z"
      },
      "execution_count": 6,
      "outputs": []
    },
    {
      "cell_type": "markdown",
      "source": [
        "Some convenience functions to get features for all tokens in a sentence as well as all labels and all token texts."
      ],
      "metadata": {
        "id": "vggsScuniQ8m"
      }
    },
    {
      "cell_type": "code",
      "source": [
        "def sentence_features(tokens):\n",
        "    return [token_features(tokens, i) for i in range(len(tokens))]\n",
        "\n",
        "def sentence_labels(tokens):\n",
        "    return [label for token, postag, label in tokens]\n",
        "\n",
        "def sentence_tokens(tokens):\n",
        "    return [token for token, postag, label in tokens]"
      ],
      "metadata": {
        "id": "7asTewAKiNDW"
      },
      "execution_count": 7,
      "outputs": []
    },
    {
      "cell_type": "markdown",
      "source": [
        "Check features for a single token"
      ],
      "metadata": {
        "id": "cBjEVBS7l6dR"
      }
    },
    {
      "cell_type": "code",
      "source": [
        "sentence_features(train_sentences[0])[0]"
      ],
      "metadata": {
        "id": "dk5c3rKcqBu0",
        "colab": {
          "base_uri": "https://localhost:8080/"
        },
        "outputId": "13517c86-487e-4994-e91a-79a8d718ddfe"
      },
      "execution_count": 8,
      "outputs": [
        {
          "output_type": "execute_result",
          "data": {
            "text/plain": [
              "{'bias': 1.0,\n",
              " 'BOS': True,\n",
              " 'token[0].text()': 'EU',\n",
              " 'token[0].lower()': 'eu',\n",
              " 'token[0].istitle()': False,\n",
              " 'token[0].isdigit()': False,\n",
              " 'pos_tag[0]': 'NNP',\n",
              " 'token[1].text()': 'rejects',\n",
              " 'token[1].lower()': 'rejects',\n",
              " 'token[1].istitle()': False,\n",
              " 'token[1].isdigit()': False,\n",
              " 'pos_tag[1]': 'VBZ',\n",
              " 'token[2].text()': 'German',\n",
              " 'token[2].lower()': 'german',\n",
              " 'token[2].istitle()': True,\n",
              " 'token[2].isdigit()': False,\n",
              " 'pos_tag[2]': 'JJ',\n",
              " 'token[0].text()[:2]': 'EU',\n",
              " 'token[0].text()[-2:]': 'EU',\n",
              " 'token[0].text()[:3]': 'EU',\n",
              " 'token[0].text()[-3:]': 'EU'}"
            ]
          },
          "metadata": {},
          "execution_count": 8
        }
      ]
    },
    {
      "cell_type": "markdown",
      "source": [
        "Get features and labels for training and development data"
      ],
      "metadata": {
        "id": "qMa3tJbHjThA"
      }
    },
    {
      "cell_type": "code",
      "source": [
        "X_train = [sentence_features(s) for s in train_sentences]\n",
        "y_train = [sentence_labels(s) for s in train_sentences]\n",
        "\n",
        "X_devel = [sentence_features(s) for s in devel_sentences]\n",
        "y_devel = [sentence_labels(s) for s in devel_sentences]"
      ],
      "metadata": {
        "id": "THQte3hTqDbR"
      },
      "execution_count": 9,
      "outputs": []
    },
    {
      "cell_type": "markdown",
      "source": [
        "---\n",
        "\n",
        "## Train and evaluate model\n",
        "\n",
        "Instantiate CRF. For details on the model hyperparameters, see the [CRFsuite documentation](https://www.chokkan.org/software/crfsuite/)."
      ],
      "metadata": {
        "id": "Su2nWOQ6jZUs"
      }
    },
    {
      "cell_type": "code",
      "source": [
        "crf = sklearn_crfsuite.CRF(\n",
        "    algorithm='lbfgs', \n",
        "    c1=0.1, \n",
        "    c2=0.1, \n",
        "    max_iterations=100, \n",
        "    all_possible_transitions=True\n",
        ")"
      ],
      "metadata": {
        "id": "v-Jhj_qkqUzM"
      },
      "execution_count": 10,
      "outputs": []
    },
    {
      "cell_type": "markdown",
      "source": [
        "Train the model"
      ],
      "metadata": {
        "id": "f2vguONKjnLJ"
      }
    },
    {
      "cell_type": "code",
      "source": [
        "crf.fit(X_train, y_train)"
      ],
      "metadata": {
        "id": "ZSUtNbIGjQI-",
        "colab": {
          "base_uri": "https://localhost:8080/",
          "height": 92
        },
        "outputId": "2016bb2e-9c80-4ac2-8053-cd21ac194f82"
      },
      "execution_count": 11,
      "outputs": [
        {
          "output_type": "execute_result",
          "data": {
            "text/plain": [
              "CRF(algorithm='lbfgs', all_possible_transitions=True, c1=0.1, c2=0.1,\n",
              "    max_iterations=100)"
            ],
            "text/html": [
              "<style>#sk-container-id-1 {color: black;background-color: white;}#sk-container-id-1 pre{padding: 0;}#sk-container-id-1 div.sk-toggleable {background-color: white;}#sk-container-id-1 label.sk-toggleable__label {cursor: pointer;display: block;width: 100%;margin-bottom: 0;padding: 0.3em;box-sizing: border-box;text-align: center;}#sk-container-id-1 label.sk-toggleable__label-arrow:before {content: \"▸\";float: left;margin-right: 0.25em;color: #696969;}#sk-container-id-1 label.sk-toggleable__label-arrow:hover:before {color: black;}#sk-container-id-1 div.sk-estimator:hover label.sk-toggleable__label-arrow:before {color: black;}#sk-container-id-1 div.sk-toggleable__content {max-height: 0;max-width: 0;overflow: hidden;text-align: left;background-color: #f0f8ff;}#sk-container-id-1 div.sk-toggleable__content pre {margin: 0.2em;color: black;border-radius: 0.25em;background-color: #f0f8ff;}#sk-container-id-1 input.sk-toggleable__control:checked~div.sk-toggleable__content {max-height: 200px;max-width: 100%;overflow: auto;}#sk-container-id-1 input.sk-toggleable__control:checked~label.sk-toggleable__label-arrow:before {content: \"▾\";}#sk-container-id-1 div.sk-estimator input.sk-toggleable__control:checked~label.sk-toggleable__label {background-color: #d4ebff;}#sk-container-id-1 div.sk-label input.sk-toggleable__control:checked~label.sk-toggleable__label {background-color: #d4ebff;}#sk-container-id-1 input.sk-hidden--visually {border: 0;clip: rect(1px 1px 1px 1px);clip: rect(1px, 1px, 1px, 1px);height: 1px;margin: -1px;overflow: hidden;padding: 0;position: absolute;width: 1px;}#sk-container-id-1 div.sk-estimator {font-family: monospace;background-color: #f0f8ff;border: 1px dotted black;border-radius: 0.25em;box-sizing: border-box;margin-bottom: 0.5em;}#sk-container-id-1 div.sk-estimator:hover {background-color: #d4ebff;}#sk-container-id-1 div.sk-parallel-item::after {content: \"\";width: 100%;border-bottom: 1px solid gray;flex-grow: 1;}#sk-container-id-1 div.sk-label:hover label.sk-toggleable__label {background-color: #d4ebff;}#sk-container-id-1 div.sk-serial::before {content: \"\";position: absolute;border-left: 1px solid gray;box-sizing: border-box;top: 0;bottom: 0;left: 50%;z-index: 0;}#sk-container-id-1 div.sk-serial {display: flex;flex-direction: column;align-items: center;background-color: white;padding-right: 0.2em;padding-left: 0.2em;position: relative;}#sk-container-id-1 div.sk-item {position: relative;z-index: 1;}#sk-container-id-1 div.sk-parallel {display: flex;align-items: stretch;justify-content: center;background-color: white;position: relative;}#sk-container-id-1 div.sk-item::before, #sk-container-id-1 div.sk-parallel-item::before {content: \"\";position: absolute;border-left: 1px solid gray;box-sizing: border-box;top: 0;bottom: 0;left: 50%;z-index: -1;}#sk-container-id-1 div.sk-parallel-item {display: flex;flex-direction: column;z-index: 1;position: relative;background-color: white;}#sk-container-id-1 div.sk-parallel-item:first-child::after {align-self: flex-end;width: 50%;}#sk-container-id-1 div.sk-parallel-item:last-child::after {align-self: flex-start;width: 50%;}#sk-container-id-1 div.sk-parallel-item:only-child::after {width: 0;}#sk-container-id-1 div.sk-dashed-wrapped {border: 1px dashed gray;margin: 0 0.4em 0.5em 0.4em;box-sizing: border-box;padding-bottom: 0.4em;background-color: white;}#sk-container-id-1 div.sk-label label {font-family: monospace;font-weight: bold;display: inline-block;line-height: 1.2em;}#sk-container-id-1 div.sk-label-container {text-align: center;}#sk-container-id-1 div.sk-container {/* jupyter's `normalize.less` sets `[hidden] { display: none; }` but bootstrap.min.css set `[hidden] { display: none !important; }` so we also need the `!important` here to be able to override the default hidden behavior on the sphinx rendered scikit-learn.org. See: https://github.com/scikit-learn/scikit-learn/issues/21755 */display: inline-block !important;position: relative;}#sk-container-id-1 div.sk-text-repr-fallback {display: none;}</style><div id=\"sk-container-id-1\" class=\"sk-top-container\"><div class=\"sk-text-repr-fallback\"><pre>CRF(algorithm=&#x27;lbfgs&#x27;, all_possible_transitions=True, c1=0.1, c2=0.1,\n",
              "    max_iterations=100)</pre><b>In a Jupyter environment, please rerun this cell to show the HTML representation or trust the notebook. <br />On GitHub, the HTML representation is unable to render, please try loading this page with nbviewer.org.</b></div><div class=\"sk-container\" hidden><div class=\"sk-item\"><div class=\"sk-estimator sk-toggleable\"><input class=\"sk-toggleable__control sk-hidden--visually\" id=\"sk-estimator-id-1\" type=\"checkbox\" checked><label for=\"sk-estimator-id-1\" class=\"sk-toggleable__label sk-toggleable__label-arrow\">CRF</label><div class=\"sk-toggleable__content\"><pre>CRF(algorithm=&#x27;lbfgs&#x27;, all_possible_transitions=True, c1=0.1, c2=0.1,\n",
              "    max_iterations=100)</pre></div></div></div></div></div>"
            ]
          },
          "metadata": {},
          "execution_count": 11
        }
      ]
    },
    {
      "cell_type": "markdown",
      "source": [
        "Get set of POS tags for evaluation, excluding the \"Out\" tag `O`"
      ],
      "metadata": {
        "id": "SFIp-jnEjuUi"
      }
    },
    {
      "cell_type": "code",
      "source": [
        "labels = list(crf.classes_)\n",
        "labels.remove('O')\n",
        "labels"
      ],
      "metadata": {
        "id": "xrPY6i55qXaJ",
        "colab": {
          "base_uri": "https://localhost:8080/"
        },
        "outputId": "16e9c990-2532-490a-be96-2ec4c809dc0c"
      },
      "execution_count": 12,
      "outputs": [
        {
          "output_type": "execute_result",
          "data": {
            "text/plain": [
              "['I-ORG', 'I-MISC', 'I-PER', 'I-LOC', 'B-LOC', 'B-MISC', 'B-ORG']"
            ]
          },
          "metadata": {},
          "execution_count": 12
        }
      ]
    },
    {
      "cell_type": "markdown",
      "source": [
        "Predict labels for development set"
      ],
      "metadata": {
        "id": "OBzTAFh4j4bF"
      }
    },
    {
      "cell_type": "code",
      "source": [
        "y_pred = crf.predict(X_devel)"
      ],
      "metadata": {
        "id": "-m0c_Lw8qbNJ"
      },
      "execution_count": 13,
      "outputs": []
    },
    {
      "cell_type": "markdown",
      "source": [
        "Evaluate predictions against gold standard development set labels"
      ],
      "metadata": {
        "id": "cjRLXER_j9mu"
      }
    },
    {
      "cell_type": "code",
      "source": [
        "sorted_labels = sorted(labels, key=lambda name: (name[1:], name[0]))\n",
        "\n",
        "print(sklearn.metrics.classification_report(\n",
        "    flatten(y_devel),\n",
        "    flatten(y_pred),\n",
        "    labels=sorted_labels\n",
        "))"
      ],
      "metadata": {
        "id": "NSEiOFvlqeKL",
        "colab": {
          "base_uri": "https://localhost:8080/"
        },
        "outputId": "8e6cc238-ccaf-4dd6-8e93-3ffecc58a90e"
      },
      "execution_count": 14,
      "outputs": [
        {
          "output_type": "stream",
          "name": "stderr",
          "text": [
            "/usr/local/lib/python3.9/dist-packages/sklearn/metrics/_classification.py:1344: UndefinedMetricWarning: Precision and F-score are ill-defined and being set to 0.0 in labels with no predicted samples. Use `zero_division` parameter to control this behavior.\n",
            "  _warn_prf(average, modifier, msg_start, len(result))\n",
            "/usr/local/lib/python3.9/dist-packages/sklearn/metrics/_classification.py:1344: UndefinedMetricWarning: Recall and F-score are ill-defined and being set to 0.0 in labels with no true samples. Use `zero_division` parameter to control this behavior.\n",
            "  _warn_prf(average, modifier, msg_start, len(result))\n",
            "/usr/local/lib/python3.9/dist-packages/sklearn/metrics/_classification.py:1344: UndefinedMetricWarning: Precision and F-score are ill-defined and being set to 0.0 in labels with no predicted samples. Use `zero_division` parameter to control this behavior.\n",
            "  _warn_prf(average, modifier, msg_start, len(result))\n",
            "/usr/local/lib/python3.9/dist-packages/sklearn/metrics/_classification.py:1344: UndefinedMetricWarning: Recall and F-score are ill-defined and being set to 0.0 in labels with no true samples. Use `zero_division` parameter to control this behavior.\n",
            "  _warn_prf(average, modifier, msg_start, len(result))\n"
          ]
        },
        {
          "output_type": "stream",
          "name": "stdout",
          "text": [
            "              precision    recall  f1-score   support\n",
            "\n",
            "       B-LOC       0.00      0.00      0.00         0\n",
            "       I-LOC       0.92      0.88      0.90      2094\n",
            "      B-MISC       0.00      0.00      0.00         4\n",
            "      I-MISC       0.91      0.83      0.87      1264\n",
            "       B-ORG       0.00      0.00      0.00         0\n",
            "       I-ORG       0.87      0.83      0.85      2092\n",
            "       I-PER       0.93      0.93      0.93      3149\n",
            "\n",
            "   micro avg       0.91      0.88      0.89      8603\n",
            "   macro avg       0.52      0.49      0.51      8603\n",
            "weighted avg       0.91      0.88      0.89      8603\n",
            "\n"
          ]
        },
        {
          "output_type": "stream",
          "name": "stderr",
          "text": [
            "/usr/local/lib/python3.9/dist-packages/sklearn/metrics/_classification.py:1344: UndefinedMetricWarning: Precision and F-score are ill-defined and being set to 0.0 in labels with no predicted samples. Use `zero_division` parameter to control this behavior.\n",
            "  _warn_prf(average, modifier, msg_start, len(result))\n",
            "/usr/local/lib/python3.9/dist-packages/sklearn/metrics/_classification.py:1344: UndefinedMetricWarning: Recall and F-score are ill-defined and being set to 0.0 in labels with no true samples. Use `zero_division` parameter to control this behavior.\n",
            "  _warn_prf(average, modifier, msg_start, len(result))\n"
          ]
        }
      ]
    },
    {
      "cell_type": "markdown",
      "source": [
        "---\n",
        "\n",
        "## Analyze classifier\n",
        "\n",
        "We can look at `transition_features_` to analyze the transition weights learned by the model:"
      ],
      "metadata": {
        "id": "U7dSD_gUobjY"
      }
    },
    {
      "cell_type": "code",
      "source": [
        "from collections import Counter\n",
        "\n",
        "def print_transitions(trans_features):\n",
        "    for (label_from, label_to), weight in trans_features:\n",
        "        print(\"%-6s -> %-7s %0.6f\" % (label_from, label_to, weight))\n",
        "\n",
        "print(\"Most likely transitions:\")\n",
        "print_transitions(Counter(crf.transition_features_).most_common(10))\n",
        "\n",
        "print(\"\\nLeast likely transitions:\")\n",
        "print_transitions(Counter(crf.transition_features_).most_common()[-10:])"
      ],
      "metadata": {
        "id": "bjtNiBFrqhyZ",
        "colab": {
          "base_uri": "https://localhost:8080/"
        },
        "outputId": "59826783-b9b4-4a17-dcdf-593d3b7674cc"
      },
      "execution_count": 15,
      "outputs": [
        {
          "output_type": "stream",
          "name": "stdout",
          "text": [
            "Most likely transitions:\n",
            "I-MISC -> B-MISC  3.727991\n",
            "I-ORG  -> I-ORG   3.661494\n",
            "I-LOC  -> I-LOC   3.314899\n",
            "I-MISC -> I-MISC  3.063793\n",
            "I-PER  -> I-PER   3.044030\n",
            "I-LOC  -> B-LOC   2.936341\n",
            "B-ORG  -> B-ORG   2.813874\n",
            "B-MISC -> I-MISC  2.259211\n",
            "O      -> O       2.077222\n",
            "O      -> I-PER   0.734798\n",
            "\n",
            "Least likely transitions:\n",
            "I-MISC -> I-ORG   -1.980208\n",
            "I-ORG  -> I-MISC  -2.190352\n",
            "I-MISC -> I-LOC   -2.605446\n",
            "I-LOC  -> I-ORG   -2.804579\n",
            "I-PER  -> I-MISC  -2.833085\n",
            "I-PER  -> I-LOC   -3.140030\n",
            "I-LOC  -> I-PER   -3.397410\n",
            "I-ORG  -> I-PER   -3.611332\n",
            "I-PER  -> I-ORG   -3.990547\n",
            "I-ORG  -> I-LOC   -4.026007\n"
          ]
        }
      ]
    },
    {
      "cell_type": "markdown",
      "source": [
        "Similarly, we can look at `state_features_` to look at the probabilities of the explicit features we introduced:"
      ],
      "metadata": {
        "id": "bKYDOb4pol0x"
      }
    },
    {
      "cell_type": "code",
      "source": [
        "def print_state_features(state_features):\n",
        "    for (attr, label), weight in state_features:\n",
        "        print(\"%0.6f %-8s %s\" % (weight, label, attr))    \n",
        "\n",
        "print(\"Top positive:\")\n",
        "print_state_features(Counter(crf.state_features_).most_common(10))\n",
        "\n",
        "print(\"\\nTop negative:\")\n",
        "print_state_features(Counter(crf.state_features_).most_common()[-10:])"
      ],
      "metadata": {
        "colab": {
          "base_uri": "https://localhost:8080/"
        },
        "id": "CeOjznEsm5-G",
        "outputId": "cde85263-da18-4ce5-ed1a-5417f69b0d4b"
      },
      "execution_count": 16,
      "outputs": [
        {
          "output_type": "stream",
          "name": "stdout",
          "text": [
            "Top positive:\n",
            "5.504126 O        token[0].text()[-3:]:day\n",
            "4.715026 I-MISC   pos_tag[0]:$\n",
            "4.225288 I-PER    token[0].text()[:2]:Mc\n",
            "3.850501 O        token[0].text()[:3]:Sep\n",
            "3.712716 I-LOC    token[-1].text():Colo\n",
            "3.712716 I-LOC    token[-1].lower():colo\n",
            "3.704106 O        token[0].text()[:3]:Aug\n",
            "3.622298 I-ORG    token[0].text()[-2:]:EC\n",
            "3.610589 O        bias\n",
            "3.440807 O        token[0].text()[:2]:W1\n",
            "\n",
            "Top negative:\n",
            "-2.604805 I-ORG    token[0].isdigit()\n",
            "-2.621656 B-LOC    bias\n",
            "-2.621730 O        token[0].text()[-2:]:TO\n",
            "-2.642925 O        pos_tag[0]:NNPS\n",
            "-2.656006 B-MISC   bias\n",
            "-2.771128 O        token[0].text()[:2]:Ro\n",
            "-2.938220 O        token[-1].lower():moody\n",
            "-2.947140 O        token[0].text()[-2:]:AN\n",
            "-3.125447 I-LOC    token[1].isdigit()\n",
            "-3.216320 O        token[0].istitle()\n"
          ]
        }
      ]
    },
    {
      "cell_type": "markdown",
      "source": [
        "---\n",
        "\n",
        "## Hyperparameter optimization\n",
        "\n",
        "(This part of the notebook is copied directly from the [notebook for CoNLL 2002 Spanish tagging](https://github.com/TeamHG-Memex/sklearn-crfsuite/blob/master/docs/CoNLL2002.ipynb))"
      ],
      "metadata": {
        "id": "bXQrG3w4To7a"
      }
    },
    {
      "cell_type": "code",
      "source": [
        "%%time\n",
        "\n",
        "# define fixed parameters and parameters to search\n",
        "crf = sklearn_crfsuite.CRF(\n",
        "    algorithm='lbfgs', \n",
        "    max_iterations=100, \n",
        "    all_possible_transitions=True\n",
        ")\n",
        "\n",
        "param_space = {\n",
        "    'c1': scipy.stats.expon(scale=0.5),\n",
        "    'c2': scipy.stats.expon(scale=0.05),\n",
        "}\n",
        "\n",
        "# use the same metric for evaluation\n",
        "f1_scorer = make_scorer(\n",
        "    metrics.flat_f1_score,\n",
        "    average='weighted',\n",
        "    labels=labels\n",
        ")\n",
        "\n",
        "# search\n",
        "rs = RandomizedSearchCV(\n",
        "    crf,\n",
        "    param_space, \n",
        "    cv=3, \n",
        "    verbose=1, \n",
        "    n_jobs=-1, \n",
        "    n_iter=50, \n",
        "    scoring=f1_scorer\n",
        ")\n",
        "\n",
        "rs.fit(X_train, y_train)"
      ],
      "metadata": {
        "colab": {
          "base_uri": "https://localhost:8080/",
          "height": 173
        },
        "id": "TnAbdJBwTx_j",
        "outputId": "b4186d78-ea3a-4ceb-a5ea-1135ce385f4e"
      },
      "execution_count": 17,
      "outputs": [
        {
          "output_type": "stream",
          "name": "stdout",
          "text": [
            "Fitting 3 folds for each of 50 candidates, totalling 150 fits\n",
            "CPU times: user 13min 16s, sys: 1min 33s, total: 14min 50s\n",
            "Wall time: 1h 28min 29s\n"
          ]
        },
        {
          "output_type": "execute_result",
          "data": {
            "text/plain": [
              "RandomizedSearchCV(cv=3,\n",
              "                   estimator=CRF(algorithm='lbfgs',\n",
              "                                 all_possible_transitions=True,\n",
              "                                 max_iterations=100),\n",
              "                   n_iter=50, n_jobs=-1,\n",
              "                   param_distributions={'c1': <scipy.stats._distn_infrastructure.rv_continuous_frozen object at 0x7f4340460670>,\n",
              "                                        'c2': <scipy.stats._distn_infrastructure.rv_continuous_frozen object at 0x7f43403e7580>},\n",
              "                   scoring=make_scorer(flat_f1_score, average=weighted, labels=['I-ORG', 'I-MISC', 'I-PER', 'I-LOC', 'B-LOC', 'B-MISC', 'B-ORG']),\n",
              "                   verbose=1)"
            ],
            "text/html": [
              "<style>#sk-container-id-2 {color: black;background-color: white;}#sk-container-id-2 pre{padding: 0;}#sk-container-id-2 div.sk-toggleable {background-color: white;}#sk-container-id-2 label.sk-toggleable__label {cursor: pointer;display: block;width: 100%;margin-bottom: 0;padding: 0.3em;box-sizing: border-box;text-align: center;}#sk-container-id-2 label.sk-toggleable__label-arrow:before {content: \"▸\";float: left;margin-right: 0.25em;color: #696969;}#sk-container-id-2 label.sk-toggleable__label-arrow:hover:before {color: black;}#sk-container-id-2 div.sk-estimator:hover label.sk-toggleable__label-arrow:before {color: black;}#sk-container-id-2 div.sk-toggleable__content {max-height: 0;max-width: 0;overflow: hidden;text-align: left;background-color: #f0f8ff;}#sk-container-id-2 div.sk-toggleable__content pre {margin: 0.2em;color: black;border-radius: 0.25em;background-color: #f0f8ff;}#sk-container-id-2 input.sk-toggleable__control:checked~div.sk-toggleable__content {max-height: 200px;max-width: 100%;overflow: auto;}#sk-container-id-2 input.sk-toggleable__control:checked~label.sk-toggleable__label-arrow:before {content: \"▾\";}#sk-container-id-2 div.sk-estimator input.sk-toggleable__control:checked~label.sk-toggleable__label {background-color: #d4ebff;}#sk-container-id-2 div.sk-label input.sk-toggleable__control:checked~label.sk-toggleable__label {background-color: #d4ebff;}#sk-container-id-2 input.sk-hidden--visually {border: 0;clip: rect(1px 1px 1px 1px);clip: rect(1px, 1px, 1px, 1px);height: 1px;margin: -1px;overflow: hidden;padding: 0;position: absolute;width: 1px;}#sk-container-id-2 div.sk-estimator {font-family: monospace;background-color: #f0f8ff;border: 1px dotted black;border-radius: 0.25em;box-sizing: border-box;margin-bottom: 0.5em;}#sk-container-id-2 div.sk-estimator:hover {background-color: #d4ebff;}#sk-container-id-2 div.sk-parallel-item::after {content: \"\";width: 100%;border-bottom: 1px solid gray;flex-grow: 1;}#sk-container-id-2 div.sk-label:hover label.sk-toggleable__label {background-color: #d4ebff;}#sk-container-id-2 div.sk-serial::before {content: \"\";position: absolute;border-left: 1px solid gray;box-sizing: border-box;top: 0;bottom: 0;left: 50%;z-index: 0;}#sk-container-id-2 div.sk-serial {display: flex;flex-direction: column;align-items: center;background-color: white;padding-right: 0.2em;padding-left: 0.2em;position: relative;}#sk-container-id-2 div.sk-item {position: relative;z-index: 1;}#sk-container-id-2 div.sk-parallel {display: flex;align-items: stretch;justify-content: center;background-color: white;position: relative;}#sk-container-id-2 div.sk-item::before, #sk-container-id-2 div.sk-parallel-item::before {content: \"\";position: absolute;border-left: 1px solid gray;box-sizing: border-box;top: 0;bottom: 0;left: 50%;z-index: -1;}#sk-container-id-2 div.sk-parallel-item {display: flex;flex-direction: column;z-index: 1;position: relative;background-color: white;}#sk-container-id-2 div.sk-parallel-item:first-child::after {align-self: flex-end;width: 50%;}#sk-container-id-2 div.sk-parallel-item:last-child::after {align-self: flex-start;width: 50%;}#sk-container-id-2 div.sk-parallel-item:only-child::after {width: 0;}#sk-container-id-2 div.sk-dashed-wrapped {border: 1px dashed gray;margin: 0 0.4em 0.5em 0.4em;box-sizing: border-box;padding-bottom: 0.4em;background-color: white;}#sk-container-id-2 div.sk-label label {font-family: monospace;font-weight: bold;display: inline-block;line-height: 1.2em;}#sk-container-id-2 div.sk-label-container {text-align: center;}#sk-container-id-2 div.sk-container {/* jupyter's `normalize.less` sets `[hidden] { display: none; }` but bootstrap.min.css set `[hidden] { display: none !important; }` so we also need the `!important` here to be able to override the default hidden behavior on the sphinx rendered scikit-learn.org. See: https://github.com/scikit-learn/scikit-learn/issues/21755 */display: inline-block !important;position: relative;}#sk-container-id-2 div.sk-text-repr-fallback {display: none;}</style><div id=\"sk-container-id-2\" class=\"sk-top-container\"><div class=\"sk-text-repr-fallback\"><pre>RandomizedSearchCV(cv=3,\n",
              "                   estimator=CRF(algorithm=&#x27;lbfgs&#x27;,\n",
              "                                 all_possible_transitions=True,\n",
              "                                 max_iterations=100),\n",
              "                   n_iter=50, n_jobs=-1,\n",
              "                   param_distributions={&#x27;c1&#x27;: &lt;scipy.stats._distn_infrastructure.rv_continuous_frozen object at 0x7f4340460670&gt;,\n",
              "                                        &#x27;c2&#x27;: &lt;scipy.stats._distn_infrastructure.rv_continuous_frozen object at 0x7f43403e7580&gt;},\n",
              "                   scoring=make_scorer(flat_f1_score, average=weighted, labels=[&#x27;I-ORG&#x27;, &#x27;I-MISC&#x27;, &#x27;I-PER&#x27;, &#x27;I-LOC&#x27;, &#x27;B-LOC&#x27;, &#x27;B-MISC&#x27;, &#x27;B-ORG&#x27;]),\n",
              "                   verbose=1)</pre><b>In a Jupyter environment, please rerun this cell to show the HTML representation or trust the notebook. <br />On GitHub, the HTML representation is unable to render, please try loading this page with nbviewer.org.</b></div><div class=\"sk-container\" hidden><div class=\"sk-item sk-dashed-wrapped\"><div class=\"sk-label-container\"><div class=\"sk-label sk-toggleable\"><input class=\"sk-toggleable__control sk-hidden--visually\" id=\"sk-estimator-id-2\" type=\"checkbox\" ><label for=\"sk-estimator-id-2\" class=\"sk-toggleable__label sk-toggleable__label-arrow\">RandomizedSearchCV</label><div class=\"sk-toggleable__content\"><pre>RandomizedSearchCV(cv=3,\n",
              "                   estimator=CRF(algorithm=&#x27;lbfgs&#x27;,\n",
              "                                 all_possible_transitions=True,\n",
              "                                 max_iterations=100),\n",
              "                   n_iter=50, n_jobs=-1,\n",
              "                   param_distributions={&#x27;c1&#x27;: &lt;scipy.stats._distn_infrastructure.rv_continuous_frozen object at 0x7f4340460670&gt;,\n",
              "                                        &#x27;c2&#x27;: &lt;scipy.stats._distn_infrastructure.rv_continuous_frozen object at 0x7f43403e7580&gt;},\n",
              "                   scoring=make_scorer(flat_f1_score, average=weighted, labels=[&#x27;I-ORG&#x27;, &#x27;I-MISC&#x27;, &#x27;I-PER&#x27;, &#x27;I-LOC&#x27;, &#x27;B-LOC&#x27;, &#x27;B-MISC&#x27;, &#x27;B-ORG&#x27;]),\n",
              "                   verbose=1)</pre></div></div></div><div class=\"sk-parallel\"><div class=\"sk-parallel-item\"><div class=\"sk-item\"><div class=\"sk-label-container\"><div class=\"sk-label sk-toggleable\"><input class=\"sk-toggleable__control sk-hidden--visually\" id=\"sk-estimator-id-3\" type=\"checkbox\" ><label for=\"sk-estimator-id-3\" class=\"sk-toggleable__label sk-toggleable__label-arrow\">estimator: CRF</label><div class=\"sk-toggleable__content\"><pre>CRF(algorithm=&#x27;lbfgs&#x27;, all_possible_transitions=True, max_iterations=100)</pre></div></div></div><div class=\"sk-serial\"><div class=\"sk-item\"><div class=\"sk-estimator sk-toggleable\"><input class=\"sk-toggleable__control sk-hidden--visually\" id=\"sk-estimator-id-4\" type=\"checkbox\" ><label for=\"sk-estimator-id-4\" class=\"sk-toggleable__label sk-toggleable__label-arrow\">CRF</label><div class=\"sk-toggleable__content\"><pre>CRF(algorithm=&#x27;lbfgs&#x27;, all_possible_transitions=True, max_iterations=100)</pre></div></div></div></div></div></div></div></div></div></div>"
            ]
          },
          "metadata": {},
          "execution_count": 17
        }
      ]
    },
    {
      "cell_type": "code",
      "source": [
        "print('best params:', rs.best_params_)\n",
        "print('best CV score:', rs.best_score_)\n",
        "print('model size: {:0.2f}M'.format(rs.best_estimator_.size_ / 1000000))"
      ],
      "metadata": {
        "colab": {
          "base_uri": "https://localhost:8080/"
        },
        "id": "a9Ndwu9dT_UI",
        "outputId": "b7f0a201-c454-4a14-c46a-369dd5d9dd12"
      },
      "execution_count": 18,
      "outputs": [
        {
          "output_type": "stream",
          "name": "stdout",
          "text": [
            "best params: {'c1': 0.010029012775409568, 'c2': 0.008364141984784803}\n",
            "best CV score: 0.8646890591997062\n",
            "model size: 4.10M\n"
          ]
        }
      ]
    },
    {
      "cell_type": "markdown",
      "source": [
        "### Visualize parameter space"
      ],
      "metadata": {
        "id": "SQoralW_W_kA"
      }
    },
    {
      "cell_type": "code",
      "source": [
        "rs.cv_results_"
      ],
      "metadata": {
        "colab": {
          "base_uri": "https://localhost:8080/"
        },
        "id": "ck4fV97NoR2B",
        "outputId": "4ecbb7b2-c8d2-47ab-c616-0676a93f77df"
      },
      "execution_count": 19,
      "outputs": [
        {
          "output_type": "execute_result",
          "data": {
            "text/plain": [
              "{'mean_fit_time': array([68.2450858 , 67.80299457, 68.41943558, 68.43861198, 67.9520479 ,\n",
              "        66.79955355, 63.85548536, 61.96898826, 62.19432608, 58.81479526,\n",
              "        59.0412159 , 58.96159983, 60.95325788, 60.7336607 , 59.20995005,\n",
              "        60.07738511, 58.86902014, 61.16866191, 59.57398629, 60.25752775,\n",
              "        58.63062215, 61.52501186, 60.47810594, 59.96968691, 63.812977  ,\n",
              "        59.61794146, 60.51773938, 61.33904624, 64.46386806, 64.85921327,\n",
              "        68.82925518, 69.18700345, 69.29359929, 73.35335294, 62.35595926,\n",
              "        62.5009702 , 61.34446232, 62.37624351, 61.65433526, 61.7156326 ,\n",
              "        60.51364295, 59.38689558, 59.10955691, 59.51269635, 62.07210716,\n",
              "        62.83765093, 60.63622244, 62.09839781, 61.06899865, 55.96699484]),\n",
              " 'std_fit_time': array([3.47226247, 6.36591669, 3.04548495, 7.11084989, 5.11464527,\n",
              "        6.50226437, 7.27822239, 4.91877775, 4.80440044, 4.58468373,\n",
              "        3.79630157, 5.1388931 , 3.88309341, 5.81784906, 1.90163441,\n",
              "        5.5680909 , 5.17460007, 4.47609022, 4.96891271, 3.64276891,\n",
              "        4.40122143, 4.89488103, 4.93384893, 4.72832494, 5.37046871,\n",
              "        4.71575465, 2.94143439, 5.16059084, 5.78447731, 6.16638654,\n",
              "        4.58321893, 4.55471807, 5.15551064, 1.33690492, 4.2444216 ,\n",
              "        5.05515998, 4.78845212, 5.01097471, 4.03490345, 4.19121144,\n",
              "        4.44493159, 3.21035481, 3.65482681, 4.79720607, 2.57258681,\n",
              "        6.1475649 , 3.72300647, 3.80503689, 3.13154699, 8.56589657]),\n",
              " 'mean_score_time': array([3.54322306, 3.12237708, 3.23290563, 3.9350214 , 2.39536277,\n",
              "        2.2575891 , 3.40972424, 2.19823623, 2.46692562, 2.57407554,\n",
              "        2.16996352, 2.9058032 , 2.41259329, 2.33553267, 2.27062861,\n",
              "        2.12725623, 2.14260848, 2.6373659 , 2.52911313, 2.16769425,\n",
              "        2.19465939, 2.21259729, 2.1744101 , 2.59490267, 2.47253442,\n",
              "        2.14710037, 2.34168092, 3.16051825, 2.79744935, 3.62998748,\n",
              "        2.38463386, 2.45509505, 3.39598314, 3.0450534 , 2.20330008,\n",
              "        2.19056042, 2.69968677, 2.60141738, 2.11506756, 2.1734906 ,\n",
              "        2.27479529, 2.62236619, 2.28913069, 2.63649519, 3.43927526,\n",
              "        2.62120779, 2.18189669, 2.25298603, 3.38777884, 2.39036989]),\n",
              " 'std_score_time': array([1.08641352, 1.19603756, 1.26049154, 0.21820602, 0.22252722,\n",
              "        0.21271251, 1.50423473, 0.260714  , 0.26241962, 0.5319948 ,\n",
              "        0.16120703, 1.25086742, 0.35081915, 0.37369655, 0.11987846,\n",
              "        0.21074723, 0.18343593, 0.7603822 , 0.44953871, 0.21447788,\n",
              "        0.18451706, 0.22495368, 0.20157367, 0.16374709, 0.4680487 ,\n",
              "        0.1643176 , 0.21715275, 1.1977555 , 0.46746919, 1.14932539,\n",
              "        0.15697807, 0.37115279, 0.84195646, 0.45270159, 0.21628914,\n",
              "        0.18146198, 0.71334105, 0.84661449, 0.15624292, 0.16434584,\n",
              "        0.1966094 , 0.42364199, 0.19090733, 0.68874477, 0.45174242,\n",
              "        0.8226777 , 0.13816156, 0.15237572, 0.17316712, 0.46824631]),\n",
              " 'param_c1': masked_array(data=[2.2574679661881802, 1.3648786404510316,\n",
              "                    0.7647241406301244, 0.24101460722086968,\n",
              "                    1.5296037625984793, 0.12719627954179738,\n",
              "                    0.24975293613449975, 0.19810143662739696,\n",
              "                    0.18400674764528596, 0.6617029403991295,\n",
              "                    0.11873514204807632, 0.2495728009388029,\n",
              "                    0.5696561382524785, 0.31935946471135473,\n",
              "                    0.7106630458085398, 1.1101756649358394,\n",
              "                    1.150385606074146, 0.14595171090924094,\n",
              "                    0.4293801905926132, 0.4001725183218407,\n",
              "                    1.0010141778914197, 0.1962292024525297,\n",
              "                    0.48966501492747044, 1.0827774056015937,\n",
              "                    0.8260387202895122, 0.6149829462127447,\n",
              "                    0.16071831568219952, 0.006149609729897203,\n",
              "                    0.5589312462385683, 0.7395629332118048,\n",
              "                    0.20789636742112239, 0.2142737780157616,\n",
              "                    0.2554535877161087, 2.9070635488442744,\n",
              "                    0.053219517013360654, 0.2128088997789274,\n",
              "                    0.010029012775409568, 0.19417579965926926,\n",
              "                    1.740477560779506, 0.3573142257671651,\n",
              "                    0.22459567734267039, 0.0030696561422002004,\n",
              "                    0.06731154264688495, 1.9107891643208155,\n",
              "                    0.2906448716301685, 0.4229230514170532,\n",
              "                    0.6015609752618595, 0.18621487572957957,\n",
              "                    0.7148341871458032, 0.14353101345087982],\n",
              "              mask=[False, False, False, False, False, False, False, False,\n",
              "                    False, False, False, False, False, False, False, False,\n",
              "                    False, False, False, False, False, False, False, False,\n",
              "                    False, False, False, False, False, False, False, False,\n",
              "                    False, False, False, False, False, False, False, False,\n",
              "                    False, False, False, False, False, False, False, False,\n",
              "                    False, False],\n",
              "        fill_value='?',\n",
              "             dtype=object),\n",
              " 'param_c2': masked_array(data=[0.061385119095616725, 0.09697226441348333,\n",
              "                    0.0019789007101005144, 0.056036583941296896,\n",
              "                    0.01788862586362565, 0.016227952392521217,\n",
              "                    0.014757756194454836, 0.020111027564127974,\n",
              "                    0.04441147966953743, 0.00226951810359071,\n",
              "                    0.1263046659095782, 0.01858228136043434,\n",
              "                    0.01923245557556287, 0.07918509713240175,\n",
              "                    0.005931095603368696, 0.042258818719288355,\n",
              "                    0.009573750743215795, 0.03933547557091854,\n",
              "                    0.10473734041183858, 0.01817838827501114,\n",
              "                    0.05236941525843989, 0.0011682417830205308,\n",
              "                    0.011494678029997367, 0.12244550455458938,\n",
              "                    0.048335489220805675, 0.004585144232404345,\n",
              "                    0.005023636477634503, 0.01828912089014731,\n",
              "                    0.038148327226119744, 0.11090941064643965,\n",
              "                    0.0026048296989580957, 0.061752587407717933,\n",
              "                    0.09107467092018119, 0.032809138875323766,\n",
              "                    0.0013773226249599573, 0.03544305104020245,\n",
              "                    0.008364141984784803, 0.0036664570507661583,\n",
              "                    0.041944478154371044, 0.01871727802738601,\n",
              "                    0.08125931417620283, 0.08771800023776266,\n",
              "                    0.004849511006991504, 0.012033602917398351,\n",
              "                    0.20770192252749087, 0.05642747577702593,\n",
              "                    0.0056158444850837284, 0.03555443134486672,\n",
              "                    0.03144203986020496, 0.02596416493772573],\n",
              "              mask=[False, False, False, False, False, False, False, False,\n",
              "                    False, False, False, False, False, False, False, False,\n",
              "                    False, False, False, False, False, False, False, False,\n",
              "                    False, False, False, False, False, False, False, False,\n",
              "                    False, False, False, False, False, False, False, False,\n",
              "                    False, False, False, False, False, False, False, False,\n",
              "                    False, False],\n",
              "        fill_value='?',\n",
              "             dtype=object),\n",
              " 'params': [{'c1': 2.2574679661881802, 'c2': 0.061385119095616725},\n",
              "  {'c1': 1.3648786404510316, 'c2': 0.09697226441348333},\n",
              "  {'c1': 0.7647241406301244, 'c2': 0.0019789007101005144},\n",
              "  {'c1': 0.24101460722086968, 'c2': 0.056036583941296896},\n",
              "  {'c1': 1.5296037625984793, 'c2': 0.01788862586362565},\n",
              "  {'c1': 0.12719627954179738, 'c2': 0.016227952392521217},\n",
              "  {'c1': 0.24975293613449975, 'c2': 0.014757756194454836},\n",
              "  {'c1': 0.19810143662739696, 'c2': 0.020111027564127974},\n",
              "  {'c1': 0.18400674764528596, 'c2': 0.04441147966953743},\n",
              "  {'c1': 0.6617029403991295, 'c2': 0.00226951810359071},\n",
              "  {'c1': 0.11873514204807632, 'c2': 0.1263046659095782},\n",
              "  {'c1': 0.2495728009388029, 'c2': 0.01858228136043434},\n",
              "  {'c1': 0.5696561382524785, 'c2': 0.01923245557556287},\n",
              "  {'c1': 0.31935946471135473, 'c2': 0.07918509713240175},\n",
              "  {'c1': 0.7106630458085398, 'c2': 0.005931095603368696},\n",
              "  {'c1': 1.1101756649358394, 'c2': 0.042258818719288355},\n",
              "  {'c1': 1.150385606074146, 'c2': 0.009573750743215795},\n",
              "  {'c1': 0.14595171090924094, 'c2': 0.03933547557091854},\n",
              "  {'c1': 0.4293801905926132, 'c2': 0.10473734041183858},\n",
              "  {'c1': 0.4001725183218407, 'c2': 0.01817838827501114},\n",
              "  {'c1': 1.0010141778914197, 'c2': 0.05236941525843989},\n",
              "  {'c1': 0.1962292024525297, 'c2': 0.0011682417830205308},\n",
              "  {'c1': 0.48966501492747044, 'c2': 0.011494678029997367},\n",
              "  {'c1': 1.0827774056015937, 'c2': 0.12244550455458938},\n",
              "  {'c1': 0.8260387202895122, 'c2': 0.048335489220805675},\n",
              "  {'c1': 0.6149829462127447, 'c2': 0.004585144232404345},\n",
              "  {'c1': 0.16071831568219952, 'c2': 0.005023636477634503},\n",
              "  {'c1': 0.006149609729897203, 'c2': 0.01828912089014731},\n",
              "  {'c1': 0.5589312462385683, 'c2': 0.038148327226119744},\n",
              "  {'c1': 0.7395629332118048, 'c2': 0.11090941064643965},\n",
              "  {'c1': 0.20789636742112239, 'c2': 0.0026048296989580957},\n",
              "  {'c1': 0.2142737780157616, 'c2': 0.061752587407717933},\n",
              "  {'c1': 0.2554535877161087, 'c2': 0.09107467092018119},\n",
              "  {'c1': 2.9070635488442744, 'c2': 0.032809138875323766},\n",
              "  {'c1': 0.053219517013360654, 'c2': 0.0013773226249599573},\n",
              "  {'c1': 0.2128088997789274, 'c2': 0.03544305104020245},\n",
              "  {'c1': 0.010029012775409568, 'c2': 0.008364141984784803},\n",
              "  {'c1': 0.19417579965926926, 'c2': 0.0036664570507661583},\n",
              "  {'c1': 1.740477560779506, 'c2': 0.041944478154371044},\n",
              "  {'c1': 0.3573142257671651, 'c2': 0.01871727802738601},\n",
              "  {'c1': 0.22459567734267039, 'c2': 0.08125931417620283},\n",
              "  {'c1': 0.0030696561422002004, 'c2': 0.08771800023776266},\n",
              "  {'c1': 0.06731154264688495, 'c2': 0.004849511006991504},\n",
              "  {'c1': 1.9107891643208155, 'c2': 0.012033602917398351},\n",
              "  {'c1': 0.2906448716301685, 'c2': 0.20770192252749087},\n",
              "  {'c1': 0.4229230514170532, 'c2': 0.05642747577702593},\n",
              "  {'c1': 0.6015609752618595, 'c2': 0.0056158444850837284},\n",
              "  {'c1': 0.18621487572957957, 'c2': 0.03555443134486672},\n",
              "  {'c1': 0.7148341871458032, 'c2': 0.03144203986020496},\n",
              "  {'c1': 0.14353101345087982, 'c2': 0.02596416493772573}],\n",
              " 'split0_test_score': array([0.81556521, 0.83386929, 0.84698461, 0.85804263, 0.82940574,\n",
              "        0.86020473, 0.85742222, 0.8586738 , 0.85947212, 0.85100511,\n",
              "        0.85933003, 0.85867267, 0.85236384, 0.85481424, 0.8474636 ,\n",
              "        0.8374165 , 0.83819327, 0.860393  , 0.85311587, 0.85621221,\n",
              "        0.84028163, 0.85794769, 0.8539386 , 0.83771711, 0.84557405,\n",
              "        0.85177572, 0.86129993, 0.86930767, 0.85171798, 0.84660046,\n",
              "        0.85940151, 0.85743891, 0.85592755, 0.80557045, 0.86396879,\n",
              "        0.85778007, 0.86890273, 0.85928257, 0.82606807, 0.8560721 ,\n",
              "        0.85713567, 0.86912863, 0.86456699, 0.82186594, 0.85542234,\n",
              "        0.85580961, 0.85203848, 0.85844854, 0.84756098, 0.86011713]),\n",
              " 'split1_test_score': array([0.8348879 , 0.8503223 , 0.86005505, 0.86700419, 0.84820539,\n",
              "        0.87328524, 0.86991604, 0.86977889, 0.86891176, 0.86237728,\n",
              "        0.87076254, 0.8694699 , 0.86168973, 0.86520532, 0.8613971 ,\n",
              "        0.85302806, 0.85227078, 0.87013467, 0.86346725, 0.86621097,\n",
              "        0.85739839, 0.86941099, 0.86094001, 0.8536422 , 0.85721599,\n",
              "        0.86213498, 0.87022312, 0.88059314, 0.86443305, 0.85944638,\n",
              "        0.87069064, 0.86736933, 0.8671117 , 0.82689845, 0.87387215,\n",
              "        0.86710392, 0.88052134, 0.86923467, 0.84584812, 0.86575879,\n",
              "        0.86803834, 0.87799285, 0.87642692, 0.8431896 , 0.8651633 ,\n",
              "        0.86499839, 0.86374128, 0.86986408, 0.85954582, 0.87189772]),\n",
              " 'split2_test_score': array([0.79148376, 0.80848393, 0.8218637 , 0.83512468, 0.80538448,\n",
              "        0.83853544, 0.83492784, 0.83741762, 0.83722654, 0.82460287,\n",
              "        0.8374066 , 0.8358567 , 0.82848592, 0.83212948, 0.82364626,\n",
              "        0.81447891, 0.81479906, 0.83798665, 0.8294059 , 0.83175654,\n",
              "        0.81859552, 0.83890034, 0.83113249, 0.81481741, 0.82202065,\n",
              "        0.82733282, 0.83892898, 0.8434845 , 0.82807923, 0.82250729,\n",
              "        0.83641897, 0.83519641, 0.83525867, 0.77928002, 0.84198952,\n",
              "        0.83619573, 0.84464311, 0.83785579, 0.80107007, 0.83206197,\n",
              "        0.83386531, 0.84357333, 0.84115271, 0.79945847, 0.82965589,\n",
              "        0.8305439 , 0.82697599, 0.83780771, 0.82504299, 0.83796623]),\n",
              " 'mean_test_score': array([0.81397895, 0.83089184, 0.84296779, 0.8533905 , 0.8276652 ,\n",
              "        0.8573418 , 0.8540887 , 0.8552901 , 0.85520348, 0.84599509,\n",
              "        0.85583305, 0.85466642, 0.84751316, 0.85071635, 0.84416899,\n",
              "        0.83497449, 0.83508771, 0.85617144, 0.84866301, 0.85139324,\n",
              "        0.83875851, 0.85541967, 0.84867037, 0.83539224, 0.84160356,\n",
              "        0.84708117, 0.85681734, 0.86446177, 0.84807675, 0.84285138,\n",
              "        0.85550371, 0.85333488, 0.85276597, 0.80391631, 0.85994349,\n",
              "        0.85369324, 0.86468906, 0.85545767, 0.82432875, 0.85129762,\n",
              "        0.85301311, 0.86356493, 0.86071554, 0.82150467, 0.85008051,\n",
              "        0.85045063, 0.84758525, 0.85537344, 0.84404993, 0.85666036]),\n",
              " 'std_test_score': array([0.01775513, 0.01720971, 0.01584815, 0.01342405, 0.01752484,\n",
              "        0.01433026, 0.01447706, 0.01342634, 0.01328293, 0.01582301,\n",
              "        0.01384019, 0.01401188, 0.01398261, 0.01381056, 0.01558679,\n",
              "        0.01583207, 0.01545457, 0.01345957, 0.01425751, 0.01447282,\n",
              "        0.01587777, 0.01258354, 0.01272629, 0.01593518, 0.01464016,\n",
              "        0.01459056, 0.01316311, 0.01553222, 0.01506307, 0.01531156,\n",
              "        0.01426023, 0.01345131, 0.01319471, 0.0194753 , 0.01332361,\n",
              "        0.0129449 , 0.0149472 , 0.01309277, 0.01832189, 0.01416488,\n",
              "        0.01425238, 0.01459205, 0.01465589, 0.01785498, 0.01497989,\n",
              "        0.01456747, 0.01533613, 0.01326637, 0.01430284, 0.01406647]),\n",
              " 'rank_test_score': array([49, 45, 38, 20, 46,  6, 18, 15, 16, 35, 10, 17, 33, 26, 36, 44, 43,\n",
              "         9, 30, 24, 41, 13, 29, 42, 40, 34,  7,  2, 31, 39, 11, 21, 23, 50,\n",
              "         5, 19,  1, 12, 47, 25, 22,  3,  4, 48, 28, 27, 32, 14, 37,  8],\n",
              "       dtype=int32)}"
            ]
          },
          "metadata": {},
          "execution_count": 19
        }
      ]
    },
    {
      "cell_type": "code",
      "source": [
        "%matplotlib inline\n",
        "\n",
        "import matplotlib.pyplot as plt\n",
        "plt.style.use('ggplot')"
      ],
      "metadata": {
        "id": "xkuvRt7LovDm"
      },
      "execution_count": 20,
      "outputs": []
    },
    {
      "cell_type": "code",
      "source": [
        "_x = [s['c1'] for s in rs.cv_results_['params']]\n",
        "_y = [s['c2'] for s in rs.cv_results_['params']]\n",
        "_c = [s for s in rs.cv_results_['mean_test_score']]\n",
        "\n",
        "fig = plt.figure()\n",
        "fig.set_size_inches(12, 12)\n",
        "ax = plt.gca()\n",
        "ax.set_yscale('log')\n",
        "ax.set_xscale('log')\n",
        "ax.set_xlabel('C1')\n",
        "ax.set_ylabel('C2')\n",
        "ax.set_title(\"Randomized Hyperparameter Search CV Results (min={:0.3}, max={:0.3})\".format(\n",
        "    min(_c), max(_c)\n",
        "))\n",
        "\n",
        "ax.scatter(_x, _y, c=_c, s=60, alpha=0.9, edgecolors=[0,0,0])\n",
        "\n",
        "print(\"Dark blue => {:0.4}, dark red => {:0.4}\".format(min(_c), max(_c)))"
      ],
      "metadata": {
        "colab": {
          "base_uri": "https://localhost:8080/",
          "height": 1000
        },
        "id": "h_Ln8o68W5Z7",
        "outputId": "ace025a8-7da1-408d-b7f0-53bf4eb8a972"
      },
      "execution_count": 21,
      "outputs": [
        {
          "output_type": "stream",
          "name": "stdout",
          "text": [
            "Dark blue => 0.8039, dark red => 0.8647\n"
          ]
        },
        {
          "output_type": "display_data",
          "data": {
            "text/plain": [
              "<Figure size 1200x1200 with 1 Axes>"
            ],
            "image/png": "[encoded data removed]"
          },
          "metadata": {}
        }
      ]
    },
    {
      "cell_type": "code",
      "source": [
        "crf = rs.best_estimator_\n",
        "\n",
        "y_pred = crf.predict(X_devel)\n",
        "\n",
        "print(metrics.flat_classification_report(\n",
        "    y_devel, y_pred, labels=sorted_labels, digits=3\n",
        "))"
      ],
      "metadata": {
        "colab": {
          "base_uri": "https://localhost:8080/"
        },
        "id": "p30qN0K-XDtx",
        "outputId": "0742477a-a85b-4794-8623-d76749b1405d"
      },
      "execution_count": 22,
      "outputs": [
        {
          "output_type": "stream",
          "name": "stderr",
          "text": [
            "/usr/local/lib/python3.9/dist-packages/sklearn/metrics/_classification.py:1344: UndefinedMetricWarning: Precision and F-score are ill-defined and being set to 0.0 in labels with no predicted samples. Use `zero_division` parameter to control this behavior.\n",
            "  _warn_prf(average, modifier, msg_start, len(result))\n",
            "/usr/local/lib/python3.9/dist-packages/sklearn/metrics/_classification.py:1344: UndefinedMetricWarning: Recall and F-score are ill-defined and being set to 0.0 in labels with no true samples. Use `zero_division` parameter to control this behavior.\n",
            "  _warn_prf(average, modifier, msg_start, len(result))\n",
            "/usr/local/lib/python3.9/dist-packages/sklearn/metrics/_classification.py:1344: UndefinedMetricWarning: Precision and F-score are ill-defined and being set to 0.0 in labels with no predicted samples. Use `zero_division` parameter to control this behavior.\n",
            "  _warn_prf(average, modifier, msg_start, len(result))\n",
            "/usr/local/lib/python3.9/dist-packages/sklearn/metrics/_classification.py:1344: UndefinedMetricWarning: Recall and F-score are ill-defined and being set to 0.0 in labels with no true samples. Use `zero_division` parameter to control this behavior.\n",
            "  _warn_prf(average, modifier, msg_start, len(result))\n"
          ]
        },
        {
          "output_type": "stream",
          "name": "stdout",
          "text": [
            "              precision    recall  f1-score   support\n",
            "\n",
            "       B-LOC      0.000     0.000     0.000         0\n",
            "       I-LOC      0.915     0.884     0.900      2094\n",
            "      B-MISC      0.250     0.250     0.250         4\n",
            "      I-MISC      0.910     0.828     0.867      1264\n",
            "       B-ORG      0.000     0.000     0.000         0\n",
            "       I-ORG      0.874     0.833     0.853      2092\n",
            "       I-PER      0.942     0.925     0.934      3149\n",
            "\n",
            "   micro avg      0.914     0.878     0.896      8603\n",
            "   macro avg      0.556     0.532     0.543      8603\n",
            "weighted avg      0.914     0.878     0.896      8603\n",
            "\n"
          ]
        },
        {
          "output_type": "stream",
          "name": "stderr",
          "text": [
            "/usr/local/lib/python3.9/dist-packages/sklearn/metrics/_classification.py:1344: UndefinedMetricWarning: Precision and F-score are ill-defined and being set to 0.0 in labels with no predicted samples. Use `zero_division` parameter to control this behavior.\n",
            "  _warn_prf(average, modifier, msg_start, len(result))\n",
            "/usr/local/lib/python3.9/dist-packages/sklearn/metrics/_classification.py:1344: UndefinedMetricWarning: Recall and F-score are ill-defined and being set to 0.0 in labels with no true samples. Use `zero_division` parameter to control this behavior.\n",
            "  _warn_prf(average, modifier, msg_start, len(result))\n"
          ]
        }
      ]
    }
  ]
}