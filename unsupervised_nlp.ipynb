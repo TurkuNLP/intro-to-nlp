{
  "cells": [
    {
      "cell_type": "markdown",
      "metadata": {
        "id": "view-in-github",
        "colab_type": "text"
      },
      "source": [
        "<a href=\"https://colab.research.google.com/github/TurkuNLP/intro-to-nlp/blob/master/unsupervised_nlp.ipynb\" target=\"_parent\"><img src=\"https://colab.research.google.com/assets/colab-badge.svg\" alt=\"Open In Colab\"/></a>"
      ]
    },
    {
      "cell_type": "markdown",
      "metadata": {
        "id": "32xQBnkw5wsp"
      },
      "source": [
        "# Unsupervised methods in NLP\n",
        "\n",
        "\n",
        "\n",
        "### Themes:\n",
        "- Part I: Analyzing topics (unsupervised NLP basics)\n",
        "    - Term weighting with TF-IDF\n",
        "    - Document clustering\n",
        "- Part II: Transfer learning (modern NLP)\n",
        "    - Word vectors (word2vec)\n",
        "    - Pre-trained language models (ELMo, BERT)\n",
        "\n"
      ]
    },
    {
      "cell_type": "markdown",
      "metadata": {
        "id": "meZuXD275wst"
      },
      "source": [
        "## Overview\n",
        "\n",
        "- Goal: identify meaningful relationships in raw text *internally*\n",
        "    - No need for manual annotation (as in supervised learning)\n",
        "- Unsupervised methods involve:\n",
        "    - Counting frequencies of word occurence in different contexts\n",
        "    - Counting/estimating frequencies of word co-occurrence in different contexts\n",
        "    - Machine learning methods for clustering objects (e.g. documents)\n",
        "    - Machine learning methods for modeling word sequences (language modeling)\n"
      ]
    },
    {
      "cell_type": "markdown",
      "metadata": {
        "id": "eHePwQzM5wst"
      },
      "source": [
        "# Part I: Analyzing topics (unsupervised NLP basics)"
      ]
    },
    {
      "cell_type": "markdown",
      "metadata": {
        "id": "rmhbDofw5wsu"
      },
      "source": [
        "## Term weighting with TF-IDF\n",
        "\n",
        "### Recap from \"Basic NLP\" lecture: _tf-idf weighting_\n",
        "\n",
        "* TF = term frequency *tf(t, d)*, how many times the term _t_ appears in document *d*\n",
        "* DF = document frequency *df(t)*, in how many documents the term *t* appears\n",
        "* IDF = inverse document frequency, *m/df(t)*, where *m* is the total number of documents in your collection\n",
        "* TF-IDF = **tf(t, d) * idf(t)**\n",
        "    * Usually calculated using logaritmic (sublinear) scale --> tf(t, d) * log(idf(t))\n",
        "    \n",
        "* common in information retrieval, also used in document classification and clustering\n",
        "* scale down the impact of tokens that occur very frequently in many documents and are hence empirically less informative/distinctive than words that occur in a small fraction of the documents"
      ]
    },
    {
      "cell_type": "markdown",
      "metadata": {
        "id": "21Ek2aZl5wsv"
      },
      "source": [
        "More reading on [tf-idf](https://nlp.stanford.edu/IR-book/html/htmledition/term-frequency-and-weighting-1.html) and [scaling and normalization variations](https://nlp.stanford.edu/IR-book/html/htmledition/variant-tf-idf-functions-1.html) (in the context of information retrieval)."
      ]
    },
    {
      "cell_type": "code",
      "execution_count": null,
      "metadata": {
        "id": "ibtk6kaY5wsv",
        "outputId": "55ad1fee-cc17-4af7-9d54-7c668b696923"
      },
      "outputs": [
        {
          "data": {
            "text/plain": [
              "(13990, 5000)"
            ]
          },
          "execution_count": 2,
          "metadata": {},
          "output_type": "execute_result"
        }
      ],
      "source": [
        "### Calculate TF-IDF scores on a corpus\n",
        "\n",
        "import json\n",
        "from sklearn.feature_extraction.text import TfidfVectorizer\n",
        "\n",
        "with open(\"Data/patents.txt\", \"rt\", encoding=\"utf-8\") as f:\n",
        "    documents = [line.strip() for line in f.readlines()]\n",
        "\n",
        "# Set parameters and initialize\n",
        "tfidf_vectorizer = TfidfVectorizer(min_df=2, use_idf=True, sublinear_tf=True, max_df=1.0, max_features=5000)\n",
        "# Tip: the vectorizer also supports extracting n-gram features (common short sequences of words), which may be more descriptive but also much less frequent\n",
        "\n",
        "# Calcualate term-document matrix with tf-idf scores\n",
        "tfidf_matrix = tfidf_vectorizer.fit_transform(documents)\n",
        "\n",
        "# Check matrix shape\n",
        "tfidf_matrix.toarray().shape # N_docs x N_terms"
      ]
    },
    {
      "cell_type": "code",
      "execution_count": null,
      "metadata": {
        "id": "clmIZqpf5ws0",
        "outputId": "c64aa103-2cd9-4eaa-c7a4-6cdb3099802c"
      },
      "outputs": [
        {
          "data": {
            "text/plain": [
              "\"A fund-raising computer network and method for simplifying and inducing the giving of monetary contributions by a multiplicity of prospective contributors consisting of a computer with communication circuitry for communicating over a computer network data sets comprised of requests soliciting the making of monetary contributions to a plurality of remote prospective contributors' computers and, a means for receiving data sets comprised of contributions from the remote contributors' respective computers communicated over a computer network. The network and method induces and simplifies the making of contributions. Contributions include political contributions, charitable contributions, and religious contributions. Requests for contributions include multi-media presentations communicated to prospective contributors' computers which are networked to computer networks.\""
            ]
          },
          "execution_count": 3,
          "metadata": {},
          "output_type": "execute_result"
        }
      ],
      "source": [
        "documents[0]"
      ]
    },
    {
      "cell_type": "code",
      "execution_count": null,
      "metadata": {
        "id": "YeaV0Tay5ws1",
        "outputId": "693e7a39-76a3-4e50-f692-d3978d4a53e9"
      },
      "outputs": [
        {
          "name": "stdout",
          "output_type": "stream",
          "text": [
            "['00', '000', '10', '100', '101', '102', '103', '104', '105', '106']\n",
            "['yen', 'yet', 'yield', 'yields', 'you', 'your', 'zero', 'zip', 'zone', 'zones']\n"
          ]
        }
      ],
      "source": [
        "# Inspect terms in vocabulary\n",
        "print(tfidf_vectorizer.get_feature_names()[:10])\n",
        "print(tfidf_vectorizer.get_feature_names()[-10:])"
      ]
    },
    {
      "cell_type": "code",
      "execution_count": null,
      "metadata": {
        "id": "txavg8BF5ws2",
        "outputId": "ca470c7d-1579-4b07-cadc-f020fe4e8793"
      },
      "outputs": [
        {
          "data": {
            "text/plain": [
              "array([[0.        ],\n",
              "       [0.        ],\n",
              "       [0.        ],\n",
              "       ...,\n",
              "       [0.16807321],\n",
              "       [0.        ],\n",
              "       [0.        ]])"
            ]
          },
          "execution_count": 5,
          "metadata": {},
          "output_type": "execute_result"
        }
      ],
      "source": [
        "tfidf_matrix[:,tfidf_vectorizer.get_feature_names().index('record')].toarray() # Get doc vector for term"
      ]
    },
    {
      "cell_type": "code",
      "execution_count": null,
      "metadata": {
        "id": "_DMS0s795ws3",
        "outputId": "ea47c8ec-33de-4a58-a603-9ae608e65aa7"
      },
      "outputs": [
        {
          "name": "stdout",
          "output_type": "stream",
          "text": [
            "13656\tthe\n",
            "13433\tand\n",
            "12903\tto\n",
            "12876\tof\n",
            "11967\tfor\n",
            "9739\tin\n",
            "9380\tis\n",
            "9316\tan\n",
            "7418\tor\n",
            "7404\tsystem\n",
            "7262\twith\n",
            "7213\tmethod\n",
            "6626\tby\n",
            "6495\ton\n",
            "6194\tthat\n",
            "6152\tfrom\n",
            "5997\tare\n",
            "5601\tbe\n",
            "5312\tone\n",
            "5000\tat\n"
          ]
        }
      ],
      "source": [
        "## Inspect document frequencies (counts) of terms\n",
        "\n",
        "from collections import Counter\n",
        "terms_in_docs = tfidf_vectorizer.inverse_transform(tfidf_matrix)\n",
        "token_counter = Counter()\n",
        "for terms in terms_in_docs:\n",
        "    token_counter.update(terms)\n",
        "\n",
        "for term, count in token_counter.most_common(20):\n",
        "    print(\"%d\\t%s\" % (count, term))"
      ]
    },
    {
      "cell_type": "code",
      "execution_count": null,
      "metadata": {
        "id": "dkwieSM25ws3",
        "outputId": "af711faa-f5d9-4c2d-b313-b73cb0577ff6"
      },
      "outputs": [
        {
          "name": "stdout",
          "output_type": "stream",
          "text": [
            "[('the', 1.0241620550548614), ('and', 1.040625458906476), ('to', 1.080876924928241), ('of', 1.0829714914595021), ('for', 1.1561778445190274), ('in', 1.3621731480967052), ('is', 1.399727898607335), ('an', 1.406573577282861), ('or', 1.6343699885437601), ('system', 1.6362588180313868), ('with', 1.6556212991271178), ('method', 1.6623906832698014), ('by', 1.747262052645059), ('on', 1.767227662891772), ('that', 1.8146717506700432), ('from', 1.8214744979927957), ('are', 1.8469881854243315), ('be', 1.9152905889132321), ('one', 1.9682576182823426), ('at', 2.028776373314382)]\n"
          ]
        }
      ],
      "source": [
        "# Alternatively: Inspect IDF values directly\n",
        "features = tfidf_vectorizer.get_feature_names()\n",
        "print(sorted(zip(features,tfidf_vectorizer._tfidf.idf_),key=lambda x:x[1])[:20])"
      ]
    },
    {
      "cell_type": "code",
      "execution_count": null,
      "metadata": {
        "id": "0t99bMe75ws4",
        "outputId": "89f52b19-6660-4e54-c0e0-fc4a72d0baf1"
      },
      "outputs": [
        {
          "name": "stdout",
          "output_type": "stream",
          "text": [
            "\n",
            "Document 0, top terms by TF-IDF\n",
            "0.41\tcontributions\n",
            "0.36\tcontributors\n",
            "0.23\tprospective\n",
            "0.23\tcomputers\n",
            "0.22\tcomprised\n",
            "\n",
            "Document 1, top terms by TF-IDF\n",
            "0.40\tchecking\n",
            "0.37\tname\n",
            "0.24\tcode\n",
            "0.24\treal\n",
            "0.23\tbank\n",
            "\n",
            "Document 2, top terms by TF-IDF\n",
            "0.32\tadditional\n",
            "0.26\tbasic\n",
            "0.25\tserver\n",
            "0.25\tdepending\n",
            "0.24\tselected\n",
            "\n",
            "Document 3, top terms by TF-IDF\n",
            "0.37\ttaxable\n",
            "0.28\tperson\n",
            "0.28\tsum\n",
            "0.25\tperiodic\n",
            "0.24\tmoney\n",
            "\n",
            "Document 4, top terms by TF-IDF\n",
            "0.32\ttranslation\n",
            "0.29\tcurrency\n",
            "0.17\toptimal\n",
            "0.16\ttarget\n",
            "0.16\tdynamic\n"
          ]
        }
      ],
      "source": [
        "## Inspect top terms per document\n",
        "\n",
        "features = tfidf_vectorizer.get_feature_names()\n",
        "for doc_i in range(5):\n",
        "    print(\"\\nDocument %d, top terms by TF-IDF\" % doc_i)\n",
        "    for term, score in sorted(list(zip(features,tfidf_matrix.toarray()[doc_i])), key=lambda x:-x[1])[:5]:\n",
        "        print(\"%.2f\\t%s\" % (score, term))"
      ]
    },
    {
      "cell_type": "markdown",
      "metadata": {
        "id": "66YbQYaC5ws4"
      },
      "source": [
        "## Document clustering\n",
        "\n",
        "- Clustering: grouping of similar objects in order to structure a set\n",
        "    - E.g., clustering documents in a corpus -> reveal common topics and provide overview\n",
        "- TF-IDF weighting for extracting meaningful *features* of documents, highlighting descriptive terms\n",
        "- Goal: Given features, calculate similarities between documents and assign them into clusters"
      ]
    },
    {
      "cell_type": "markdown",
      "metadata": {
        "id": "Ac0nCJk15ws5"
      },
      "source": [
        "- The term-document matrix (`tfidf_matrix`) represents the corpus as tf-idf weights (features)\n",
        "    - Each document represented as a (row) vector\n",
        "    - Document vectors are sparse:\n",
        "        - Dimensionality equal to the number of terms extracted from the corpus\n",
        "        - Non-zero values only for the fraction of terms in document"
      ]
    },
    {
      "cell_type": "code",
      "execution_count": null,
      "metadata": {
        "id": "C-zLseAH5ws5",
        "outputId": "fa87b2de-8e43-466c-d068-1ced2dafc2a9"
      },
      "outputs": [
        {
          "name": "stdout",
          "output_type": "stream",
          "text": [
            "[[0. 0. 0. ... 0. 0. 0.]\n",
            " [0. 0. 0. ... 0. 0. 0.]\n",
            " [0. 0. 0. ... 0. 0. 0.]\n",
            " ...\n",
            " [0. 0. 0. ... 0. 0. 0.]\n",
            " [0. 0. 0. ... 0. 0. 0.]\n",
            " [0. 0. 0. ... 0. 0. 0.]]\n"
          ]
        }
      ],
      "source": [
        "print(tfidf_matrix.toarray())"
      ]
    },
    {
      "cell_type": "code",
      "execution_count": null,
      "metadata": {
        "id": "SO-q4Tcl5ws5",
        "outputId": "e5176cfe-5c05-4665-e623-4d202b93b1f2"
      },
      "outputs": [
        {
          "name": "stdout",
          "output_type": "stream",
          "text": [
            "Document vector length: 5000\n",
            "Non-zero dimensions for document 0: 46\n",
            "Non-zero dimensions for document 1: 45\n",
            "Non-zero dimensions for document 2: 41\n",
            "Non-zero dimensions for document 3: 56\n",
            "Non-zero dimensions for document 4: 94\n"
          ]
        }
      ],
      "source": [
        "print(\"Document vector length:\", tfidf_matrix.shape[1])\n",
        "for i in range(5):\n",
        "    print(\"Non-zero dimensions for document %d: %d\" % (i, len([x for x in tfidf_matrix.toarray()[i] if x > 0])))"
      ]
    },
    {
      "cell_type": "code",
      "execution_count": null,
      "metadata": {
        "id": "1ZNJIEVr5ws6",
        "outputId": "9a2d0689-dd4c-4091-a178-3a9bcccb17cb"
      },
      "outputs": [
        {
          "name": "stdout",
          "output_type": "stream",
          "text": [
            "Sample word: confirmation\n",
            "Occurs in 80 documents\n",
            "out of 13990 documents\n"
          ]
        }
      ],
      "source": [
        "print(\"Sample word:\", features[1000])\n",
        "print(\"Occurs in %d documents\" % len([x for x in tfidf_matrix.toarray()[:][1000] if x > 0]))\n",
        "print(\"out of %d documents\" % len(tfidf_matrix.toarray()))"
      ]
    },
    {
      "cell_type": "markdown",
      "metadata": {
        "id": "z_2PXvWj5ws6"
      },
      "source": [
        "### Vector space model\n",
        "\n",
        "- A vector space model encodes meaning as coordinates in a high-dimensional space\n",
        "    - E.g., tf-idf term vectors describe the topic of a document\n",
        "- Semantic similarities are measured as distances in the space:\n",
        "    - For vectors *x* and _y_:\n",
        "        - Euclidean distance: $$d = \\sqrt{ (x_1 - y_1)^2 + (x_2 - y_2)^2 + ... + (x_n - y_n)^2 }$$\n",
        "        - Cosine similarity (distance = 1-similarity): $$s = cos(\\sigma) = \\frac{x \\cdot y}{|x||y|}$$"
      ]
    },
    {
      "cell_type": "markdown",
      "metadata": {
        "id": "lbrtwBKX5ws6"
      },
      "source": [
        "- We use vector space notion of semantic similarity to group documents into clusters\n",
        "    - Find common topics, go from many documents to fewer clusters "
      ]
    },
    {
      "cell_type": "markdown",
      "metadata": {
        "id": "aDN36jWp5ws7"
      },
      "source": [
        "More reading on the [vector space model](https://nlp.stanford.edu/IR-book/html/htmledition/the-vector-space-model-for-scoring-1.html)."
      ]
    },
    {
      "cell_type": "markdown",
      "metadata": {
        "id": "n1KUwyYb5ws7"
      },
      "source": [
        "### k-means clustering\n",
        "\n",
        "- We will cluster documents based on their tf-idf vectors \n",
        "- and the relatively simple and widely used *k-means* method\n",
        "    - Takes as argument *k* number of clusters to be found\n",
        "    - Uses a random initialization (i.e., results can vary between runs)\n",
        "    - Works according to this pseudo code (from the [Mining Massive Datasets book](http://infolab.stanford.edu/~ullman/mmds/ch7.pdf)):\n",
        "\n",
        "<code>Initially choose k points that are likely to be in different clusters;\n",
        "Make these points the centroids of their clusters;\n",
        "FOR each remaining point p DO \n",
        "    find the centroid to which p is closest;\n",
        "    Add p to the cluster of that centroid;\n",
        "    Adjust the centroid of that cluster to account for p;\n",
        "END;</code>"
      ]
    },
    {
      "cell_type": "code",
      "execution_count": null,
      "metadata": {
        "id": "LguU_p8s5ws7"
      },
      "outputs": [],
      "source": [
        "# We use a subset of the documents in clustering for faster calculation and easier interpretation of results\n",
        "matrix_sample = tfidf_matrix[:1000]"
      ]
    },
    {
      "cell_type": "code",
      "execution_count": null,
      "metadata": {
        "id": "SwRwFOBM5ws7",
        "outputId": "6c633b19-c266-4b61-8876-b003e4600cb1"
      },
      "outputs": [
        {
          "data": {
            "text/plain": [
              "KMeans(algorithm='auto', copy_x=True, init='k-means++', max_iter=300,\n",
              "       n_clusters=30, n_init=10, n_jobs=None, precompute_distances='auto',\n",
              "       random_state=123, tol=0.0001, verbose=0)"
            ]
          },
          "execution_count": 13,
          "metadata": {},
          "output_type": "execute_result"
        }
      ],
      "source": [
        "from sklearn.cluster import KMeans\n",
        "\n",
        "# Do clustering\n",
        "km = KMeans(n_clusters=30, random_state=123, verbose=0)\n",
        "km.fit(matrix_sample)"
      ]
    },
    {
      "cell_type": "code",
      "execution_count": null,
      "metadata": {
        "id": "ZcxLR5wi5ws8"
      },
      "outputs": [],
      "source": [
        "import heapq, numpy as np\n",
        "\n",
        "# Custom function to print top keywords for each cluster\n",
        "def print_clusters(matrix, clusters, n_keywords=10):\n",
        "    for cluster in range(min(clusters), max(clusters)+1):\n",
        "        cluster_docs = [i for i, c in enumerate(clusters) if c == cluster]\n",
        "        print(\"Cluster: %d (%d docs)\" % (cluster, len(cluster_docs)))\n",
        "        \n",
        "        # Keep scores for top n terms\n",
        "        new_matrix = np.zeros((len(cluster_docs), matrix.shape[1]))\n",
        "        for cluster_i, doc_vec in enumerate(matrix[cluster_docs].toarray()):\n",
        "            for idx, score in heapq.nlargest(n_keywords, enumerate(doc_vec), key=lambda x:x[1]):\n",
        "                new_matrix[cluster_i][idx] = score\n",
        "\n",
        "        # Aggregate scores for kept top terms\n",
        "        keywords = heapq.nlargest(n_keywords, zip(new_matrix.sum(axis=0), features))\n",
        "        print(', '.join([w for s,w in keywords]))\n",
        "        print()\n"
      ]
    },
    {
      "cell_type": "code",
      "execution_count": null,
      "metadata": {
        "id": "kWkLvNZz5ws8",
        "outputId": "a72f8635-233c-4254-e8b5-1f2d61b63c5e"
      },
      "outputs": [
        {
          "data": {
            "text/plain": [
              "array([27, 27, 22, 14, 21, 14,  3, 10,  5,  1,  0, 24, 21, 26,  0,  8, 25,\n",
              "       20, 15, 15, 17, 21, 21,  2, 28, 21,  7, 12, 19,  2, 19, 15, 21, 12,\n",
              "       20,  6,  8, 10, 11, 27, 15, 17,  5,  4, 14,  0, 28,  4, 29, 24, 27,\n",
              "        1, 17,  6, 12, 27, 21,  6, 18, 20, 21,  9,  9,  6,  9, 12,  7,  0,\n",
              "       13, 19, 15, 21, 21,  4, 10,  0,  9,  9,  1,  9, 18, 12,  0,  3,  0,\n",
              "       10, 18,  6, 12,  0, 15,  6, 20,  0, 10, 10, 10, 18, 15,  6, 25,  9,\n",
              "       23,  8,  0, 14, 26, 12,  5, 24,  0, 27, 26,  6, 10, 21,  3, 15, 26,\n",
              "        9,  9,  0, 20, 27, 18, 19, 27,  7, 20, 22,  8,  9, 17, 24, 15, 27,\n",
              "       23,  0, 18, 14,  7,  8,  1,  8, 29,  7, 24,  0,  5,  1,  4,  6,  1,\n",
              "       13, 18,  0, 15, 20,  3, 10, 22, 27, 12,  4,  8, 23,  9, 18,  0,  0,\n",
              "       17,  6, 15,  5,  6,  6,  6,  5,  3, 17,  8,  8,  7,  6, 25, 15,  0,\n",
              "       26, 23, 15, 24,  4, 20, 27, 17,  7, 18,  8, 14, 25, 22, 14,  8, 16,\n",
              "       17,  8,  0, 28, 24, 19,  7,  4, 19, 18, 14, 17, 26,  0,  6, 18, 22,\n",
              "       15,  8,  4, 27,  0, 10,  0, 12, 28, 27,  8, 25,  6, 27,  6, 29, 20,\n",
              "       14,  8, 27, 26, 19, 29, 17, 15,  4, 25, 11, 26, 25, 26,  6,  0,  0,\n",
              "        2, 28,  0, 29,  8, 25, 21, 11, 11,  8,  0, 15,  1,  1,  0, 28,  8,\n",
              "       20, 21, 10, 11,  2, 20, 12, 18, 12, 14,  9,  0, 17,  9, 20,  0, 24,\n",
              "        0, 17, 12, 10,  4, 27, 25, 14,  6, 28, 25,  6, 20, 21, 28,  1, 23,\n",
              "       26, 22,  3,  7, 25, 18, 28,  7, 12, 23,  4, 14, 25,  7, 21,  7, 29,\n",
              "        0,  5, 15, 25,  8, 23, 20, 19,  4, 10,  8, 10,  7, 25, 18,  8, 19,\n",
              "        0, 26, 17,  6,  1, 20,  4, 22, 17,  1,  4, 17, 21, 21, 12, 12, 20,\n",
              "       11,  8, 21, 23, 12, 26,  0,  4, 26,  8, 26,  4, 29, 18, 19, 15,  7,\n",
              "       28, 26, 12, 25, 10,  9, 13, 14, 27, 20, 15,  6, 12, 23, 27, 26, 26,\n",
              "        2, 16, 22,  1,  6,  6, 13, 16,  6, 26,  4,  6, 20, 12, 10,  8, 10,\n",
              "       12, 25, 20,  8, 12,  4,  1,  8,  6, 25, 20, 27, 10, 21,  4,  0, 15,\n",
              "        3, 10, 21, 10, 22,  0,  6, 22, 14, 12, 13, 13,  4,  9,  8, 10, 25,\n",
              "       15, 13,  3,  9, 26, 23, 15, 26, 15, 27,  4, 22, 24, 13,  1, 12, 21,\n",
              "       22,  0, 11,  0, 18, 21, 15, 10,  8, 19, 28, 12, 18,  0,  5, 23, 18,\n",
              "       14,  1,  4, 23,  4, 23, 27, 15,  6, 18, 21,  9,  6, 15, 26, 17,  9,\n",
              "       13, 25, 14, 19,  0, 15,  9, 25, 10,  7,  2, 26, 17,  3, 19, 27, 18,\n",
              "       25,  0,  0,  8, 21,  4, 20, 27, 16, 20,  0, 29, 10,  1, 20, 20,  1,\n",
              "        1,  5, 18, 25,  4, 25, 22, 23, 13, 20,  5, 19, 20, 11, 29, 17, 23,\n",
              "        1,  6, 20, 25, 18, 24, 29, 25,  1, 16,  9,  6,  5, 14, 21, 29, 19,\n",
              "        2, 24, 15,  0, 16, 19, 10, 26,  7,  7,  7, 12, 20, 29, 26,  5, 27,\n",
              "        6,  8, 26, 27,  8,  1, 21,  3,  0,  5, 26, 27, 13,  4, 21,  9, 11,\n",
              "       20,  4, 20,  1, 18,  0, 22,  6,  4,  4, 23,  2, 25,  8, 15, 21, 27,\n",
              "       24,  7,  1, 27, 12,  0, 17, 15, 14, 25,  3, 27,  6,  1,  7,  4, 21,\n",
              "       15, 23, 25, 20, 27, 28, 11,  8, 12,  2, 25, 26, 14, 15, 29, 13, 17,\n",
              "       29, 24, 26, 10, 15,  5, 25,  6,  6, 12,  9,  7, 29, 27, 25, 14, 15,\n",
              "        8,  0,  7,  4, 26, 16, 20,  9, 25, 25, 18, 26, 18,  4, 24,  0,  2,\n",
              "       21, 11, 27, 12,  6,  4, 21, 17, 10, 20, 17,  0,  2, 15, 25, 13,  2,\n",
              "       13,  3, 24, 16,  4, 25, 15, 17, 14, 20,  1, 25,  2, 23,  4, 24, 16,\n",
              "       16, 16,  4,  6, 13, 16, 10, 13,  3, 21, 11,  0, 14, 25,  3, 19, 10,\n",
              "       12,  4,  1, 20, 27, 24, 20, 16, 14,  0,  6,  9, 19, 11, 23, 23, 15,\n",
              "        6, 24, 14,  0,  7, 14,  6, 20,  0, 27,  3, 14,  8, 26, 10, 16, 20,\n",
              "        0, 29,  3, 22,  4,  2,  5, 25,  5,  4, 10, 27, 20, 18, 12, 26,  0,\n",
              "       27, 17,  3, 23,  2, 28, 24, 26,  8, 15,  0, 19, 24, 27,  9, 17, 21,\n",
              "       21, 25, 27,  1,  8, 29, 13, 26, 12, 20,  0, 28,  2, 26, 28, 27,  6,\n",
              "       11, 25, 20, 25,  7, 17,  2,  8,  1, 12, 26,  5, 25, 11, 27,  1, 11,\n",
              "        8, 13, 27,  2, 23,  2,  2,  2,  2,  2, 12, 24,  5, 11,  1, 29, 17,\n",
              "        5, 14, 29,  6, 13,  8,  4,  8,  4,  6, 17, 11,  6, 12,  6, 28, 26,\n",
              "       26, 14,  6,  8,  5, 26, 26,  1, 23, 18, 29, 24,  0, 20, 14, 26,  6,\n",
              "       27, 23,  0, 15, 12,  4, 15, 17, 17, 15, 12, 20, 23, 20, 17, 21, 22,\n",
              "       15, 21, 22, 24,  6, 14,  5, 18,  8,  4, 21,  3,  4,  2,  8, 21, 26,\n",
              "       12, 27, 20, 17, 14, 27,  3, 15, 13,  0,  7,  0,  6, 10, 23,  9, 28,\n",
              "       25, 27,  2, 13,  3, 25, 21, 27,  8, 20, 23, 21, 26,  8, 12,  6, 28,\n",
              "        4, 17, 23, 27, 18, 20, 11, 21, 15, 15, 17,  1, 10, 19,  6,  6,  6,\n",
              "       13, 22,  8, 20, 14,  9, 16,  3,  3,  8,  8, 24,  0,  0,  8, 16,  1,\n",
              "        1,  6, 13,  7,  4,  6,  1,  6, 25, 10, 12,  6, 25, 10],\n",
              "      dtype=int32)"
            ]
          },
          "execution_count": 15,
          "metadata": {},
          "output_type": "execute_result"
        }
      ],
      "source": [
        "km.labels_"
      ]
    },
    {
      "cell_type": "code",
      "execution_count": null,
      "metadata": {
        "id": "DHDegXEp5ws9",
        "outputId": "ac7a6316-fff7-466b-e756-b0557c2d5ff4"
      },
      "outputs": [
        {
          "name": "stdout",
          "output_type": "stream",
          "text": [
            "Cluster: 0 (63 docs)\n",
            "network, content, maintaining, users, lease, process, portal, server, probability, devices\n",
            "\n",
            "Cluster: 1 (35 docs)\n",
            "group, master, accounts, account, dependent, strategy, level, scope, parameter, linking\n",
            "\n",
            "Cluster: 2 (25 docs)\n",
            "firm, fee, organization, patent, charge, pocket, trademark, client, separate, bills\n",
            "\n",
            "Cluster: 3 (22 docs)\n",
            "note, stock, forward, holder, unit, contract, remarketing, structuring, trustee, obligation\n",
            "\n",
            "Cluster: 4 (46 docs)\n",
            "capital, business, tax, cost, company, intellectual, equity, profit, enterprise, evaluation\n",
            "\n",
            "Cluster: 5 (21 docs)\n",
            "goods, term, products, working, unit, attributes, services, retrieving, upgraded, reached\n",
            "\n",
            "Cluster: 6 (59 docs)\n",
            "card, account, credit, transaction, customer, rebate, financial, second, device, revolve\n",
            "\n",
            "Cluster: 7 (26 docs)\n",
            "member, valid, telephone, non, members, validity, number, companies, details, identifier\n",
            "\n",
            "Cluster: 8 (50 docs)\n",
            "instrument, company, agreement, party, order, financial, vehicle, parameters, date, underwriter\n",
            "\n",
            "Cluster: 9 (27 docs)\n",
            "asset, assets, valuation, ip, values, license, technology, classification, patent, title\n",
            "\n",
            "Cluster: 10 (35 docs)\n",
            "management, remote, deal, business, machine, investment, client, databases, entitlement, application\n",
            "\n",
            "Cluster: 11 (19 docs)\n",
            "pool, investments, annuity, assets, beneficiary, investment, annuitant, income, term, liabilities\n",
            "\n",
            "Cluster: 12 (40 docs)\n",
            "plan, retirement, benefit, provider, participant, employer, employee, service, health, corporate\n",
            "\n",
            "Cluster: 13 (23 docs)\n",
            "marketing, datasets, privacy, ah, shari, collection, correlations, analysis, television, box\n",
            "\n",
            "Cluster: 14 (32 docs)\n",
            "life, plan, contracts, invested, insured, assets, insurance, plans, policy, interest\n",
            "\n",
            "Cluster: 15 (45 docs)\n",
            "collection, compliance, receipt, code, terminal, status, specific, reports, display, source\n",
            "\n",
            "Cluster: 16 (16 docs)\n",
            "receivable, accounts, server, module, electrically, business, database, computers, vouchers, journal\n",
            "\n",
            "Cluster: 17 (34 docs)\n",
            "module, storage, reconciler, terminal, server, integration, mobile, synchronization, layer, bank\n",
            "\n",
            "Cluster: 18 (29 docs)\n",
            "page, web, rule, pages, statement, trend, intelligence, file, customer, appraisal\n",
            "\n",
            "Cluster: 19 (20 docs)\n",
            "bonds, bond, interests, private, loss, proposed, without, dda, limit, subsidiary\n",
            "\n",
            "Cluster: 20 (48 docs)\n",
            "product, products, supply, financial, flows, chain, institution, end, customers, front\n",
            "\n",
            "Cluster: 21 (41 docs)\n",
            "currency, target, objects, numeric, rate, conversion, currencies, dynamically, exchange, fluctuations\n",
            "\n",
            "Cluster: 22 (18 docs)\n",
            "annuity, contract, death, additional, individual, vehicle, quality, delinquent, selected, annuities\n",
            "\n",
            "Cluster: 23 (28 docs)\n",
            "instruments, exchangeable, transaction, servicing, convertible, quasi, themselves, financial, networks, parties\n",
            "\n",
            "Cluster: 24 (24 docs)\n",
            "check, image, electronic, responsive, batch, checks, adjustment, institution, customer, digital\n",
            "\n",
            "Cluster: 25 (46 docs)\n",
            "merchant, flow, cash, recipient, gift, income, fuel, model, equity, expression\n",
            "\n",
            "Cluster: 26 (43 docs)\n",
            "entity, entities, sub, activities, records, identity, identification, tag, secret, shares\n",
            "\n",
            "Cluster: 27 (47 docs)\n",
            "unit, monetary, risk, real, debt, application, amount, program, business, bank\n",
            "\n",
            "Cluster: 28 (18 docs)\n",
            "fund, mutual, open, end, securities, funds, investors, security, investment, linked\n",
            "\n",
            "Cluster: 29 (20 docs)\n",
            "factors, risk, value, performance, said, elements, business, measuring, enterprise, tangible\n",
            "\n"
          ]
        }
      ],
      "source": [
        "print_clusters(matrix_sample, km.labels_)"
      ]
    },
    {
      "cell_type": "code",
      "execution_count": null,
      "metadata": {
        "id": "8RzT2s-e5ws9",
        "outputId": "1d00e8c4-65e5-4396-b0f6-fd68c566cb7a"
      },
      "outputs": [
        {
          "data": {
            "image/png": "[encoded data removed]",
            "text/plain": [
              "<Figure size 432x288 with 1 Axes>"
            ]
          },
          "metadata": {
            "needs_background": "light"
          },
          "output_type": "display_data"
        }
      ],
      "source": [
        "### Hierarchical clustering (alternative approach)\n",
        "\n",
        "from scipy.cluster.hierarchy import dendrogram, linkage, fcluster\n",
        "\n",
        "Z = linkage(matrix_sample.todense(), metric='cosine', method='complete')\n",
        "_ = dendrogram(Z, no_labels=True) # Plot dentrogram chart"
      ]
    },
    {
      "cell_type": "code",
      "execution_count": null,
      "metadata": {
        "id": "IznMBTYc5ws9",
        "outputId": "30659c8c-d56b-42be-f5f6-1d66b0ad0021"
      },
      "outputs": [
        {
          "data": {
            "image/png": "[encoded data removed]",
            "text/plain": [
              "<Figure size 432x288 with 1 Axes>"
            ]
          },
          "metadata": {
            "needs_background": "light"
          },
          "output_type": "display_data"
        }
      ],
      "source": [
        "# View dendrogram for subset\n",
        "Z_ = linkage(matrix_sample.todense()[:25], metric='cosine', method='complete')\n",
        "_ = dendrogram(Z_, no_labels=True) # Plot dentrogram chart"
      ]
    },
    {
      "cell_type": "code",
      "execution_count": null,
      "metadata": {
        "scrolled": false,
        "id": "44BhzWnA5ws-",
        "outputId": "eb21170f-180a-4a6c-fbc6-3026cff6b7d7"
      },
      "outputs": [
        {
          "name": "stdout",
          "output_type": "stream",
          "text": [
            "Cluster: 1 (17 docs)\n",
            "records, organization, presentation, instrument, entity, future, employee, financial, maintaining, predictions\n",
            "\n",
            "Cluster: 2 (6 docs)\n",
            "health, savings, care, expenses, premium, techniques, modeling, icon, modeled, methodologies\n",
            "\n",
            "Cluster: 3 (27 docs)\n",
            "business, entity, object, case, inter, measuring, value, strategic, performance, model\n",
            "\n",
            "Cluster: 4 (10 docs)\n",
            "content, debt, collection, node, debtors, nodes, debtor, strategies, behavioral, deals\n",
            "\n",
            "Cluster: 5 (120 docs)\n",
            "capital, instrument, firm, money, investment, intellectual, added, issuer, securities, unit\n",
            "\n",
            "Cluster: 6 (30 docs)\n",
            "account, funds, assessment, bank, eps, virtual, day, intelligence, customer, delinquent\n",
            "\n",
            "Cluster: 7 (153 docs)\n",
            "asset, estate, parameter, agreement, real, investment, aggregated, charitable, risk, budget\n",
            "\n",
            "Cluster: 8 (3 docs)\n",
            "structuring, index, obligation, credit, convertible, bearing, method, complex, liquidity, operating\n",
            "\n",
            "Cluster: 9 (10 docs)\n",
            "rebate, card, revolve, expenditures, category, spending, billing, member, status, said\n",
            "\n",
            "Cluster: 10 (35 docs)\n",
            "plan, retirement, stable, participant, investments, housing, investment, benefit, reward, value\n",
            "\n",
            "Cluster: 11 (33 docs)\n",
            "server, terminal, processor, projects, customer, equity, kiosk, content, 11, service\n",
            "\n",
            "Cluster: 12 (62 docs)\n",
            "property, lease, objects, patent, customer, right, numeric, leasing, valid, telephone\n",
            "\n",
            "Cluster: 13 (19 docs)\n",
            "unit, project, risk, factors, equity, forward, estimating, calculating, contract, base\n",
            "\n",
            "Cluster: 14 (44 docs)\n",
            "instruments, software, financial, web, exchangeable, servicing, convertible, transaction, product, commercial\n",
            "\n",
            "Cluster: 15 (45 docs)\n",
            "annuity, buyer, seller, accounting, targets, initial, material, financing, contract, consent\n",
            "\n",
            "Cluster: 16 (77 docs)\n",
            "investor, assets, products, retirement, probability, clearing, score, securities, utility, dealer\n",
            "\n",
            "Cluster: 17 (69 docs)\n",
            "check, terminal, vehicle, image, transaction, portal, equipment, jurisdiction, synchronization, business\n",
            "\n",
            "Cluster: 18 (79 docs)\n",
            "module, layer, customer, recipient, datasets, analysis, receivable, accounts, server, donor\n",
            "\n",
            "Cluster: 19 (161 docs)\n",
            "currency, entity, merchant, service, documents, expression, certificate, memory, stock, savings\n",
            "\n"
          ]
        }
      ],
      "source": [
        "## Get flat clusters from cluster hierarchy\n",
        "\n",
        "#clusters = fcluster(Z, 50, criterion='maxclust') # Create fix number of flat clusters\n",
        "clusters = fcluster(Z, 0.99, criterion='distance') # Create flat clusters by distance threshold\n",
        "\n",
        "print_clusters(matrix_sample, clusters)"
      ]
    },
    {
      "cell_type": "markdown",
      "metadata": {
        "id": "dchTDsUD5ws-"
      },
      "source": [
        "### Probabilistic topic modeling\n",
        "\n",
        "- Various machine learning methods for *topic modeling* extend the idea of topic clustering\n",
        "- The most popular: [Latent Dirichlet Allocation (LDA) method](https://dl.acm.org/doi/pdf/10.1145/2133806.2133826) (see also [gensim library](https://radimrehurek.com/gensim/models/ldamodel.html))\n",
        "- LDA performs a type of fuzzy clustering into *k* topics:"
      ]
    },
    {
      "cell_type": "markdown",
      "metadata": {
        "id": "ivLzg-iz5ws-"
      },
      "source": [
        "- \n",
        "    - A document can be assigned to *serveral topics*, according to a probability distribution\n",
        "        - E.g., 68% Topic 6, 21% Topic 5, 11% Topic 2"
      ]
    },
    {
      "cell_type": "markdown",
      "metadata": {
        "id": "W6dA2rIg5ws-"
      },
      "source": [
        "-     - A topic is described by a *weighting of terms* (probability distribution)\n",
        "        - The terms reflect term frequencies in documents assigned to the topic\n",
        "        - The top-10 are often inspected, after some filtering/reranking"
      ]
    },
    {
      "cell_type": "code",
      "execution_count": null,
      "metadata": {
        "id": "FndJK9mA5ws-"
      },
      "outputs": [],
      "source": [
        "## Topic modeling demo\n",
        "#!pip3 install gensim\n",
        "\n",
        "# Fast and simple tokenization\n",
        "new_vectorizer = TfidfVectorizer()\n",
        "word_tokenizer = new_vectorizer.build_tokenizer()\n",
        "tokenized_text = [word_tokenizer(doc) for doc in documents]\n",
        "\n",
        "# Train LDA model\n",
        "from gensim import corpora, models\n",
        "dictionary = corpora.Dictionary(tokenized_text)\n",
        "lda_corpus = [dictionary.doc2bow(text) for text in tokenized_text]\n",
        "lda_model = models.LdaModel(lda_corpus, id2word=dictionary, num_topics=10)"
      ]
    },
    {
      "cell_type": "code",
      "execution_count": null,
      "metadata": {
        "id": "OsV9YU825ws_",
        "outputId": "b5b69232-0282-48a2-8bbb-6917c420dbaa"
      },
      "outputs": [
        {
          "name": "stdout",
          "output_type": "stream",
          "text": [
            "Topic 0\n",
            "0.0512\tand\n",
            "0.0413\tthe\n",
            "0.0377\tto\n",
            "0.0312\tloan\n",
            "0.0245\tof\n",
            "0.0213\tfor\n",
            "0.0152\tThe\n",
            "0.0123\tis\n",
            "0.0104\tsystem\n",
            "0.0097\tin\n",
            "\n",
            "Topic 1\n",
            "0.0480\tand\n",
            "0.0369\tthe\n",
            "0.0368\tto\n",
            "0.0299\tof\n",
            "0.0210\tsystem\n",
            "0.0206\tor\n",
            "0.0155\tone\n",
            "0.0154\tfor\n",
            "0.0150\tdata\n",
            "0.0149\ttrading\n",
            "\n",
            "Topic 2\n",
            "0.0552\tthe\n",
            "0.0338\texchange\n",
            "0.0336\tmoney\n",
            "0.0285\tcontract\n",
            "0.0213\tto\n",
            "0.0182\tprimary\n",
            "0.0173\tof\n",
            "0.0169\tparticipant\n",
            "0.0160\tsystem\n",
            "0.0144\tsettlement\n",
            "\n",
            "Topic 3\n",
            "0.0586\tthe\n",
            "0.0313\tto\n",
            "0.0283\tand\n",
            "0.0277\tis\n",
            "0.0224\tof\n",
            "0.0198\tbe\n",
            "0.0144\tthat\n",
            "0.0143\tfor\n",
            "0.0127\tin\n",
            "0.0111\tThe\n",
            "\n",
            "Topic 4\n",
            "0.0970\tthe\n",
            "0.0400\tof\n",
            "0.0346\tto\n",
            "0.0299\tand\n",
            "0.0211\tfor\n",
            "0.0164\tThe\n",
            "0.0155\taccount\n",
            "0.0152\tis\n",
            "0.0126\tan\n",
            "0.0119\tin\n",
            "\n",
            "Topic 5\n",
            "0.0428\tcredit\n",
            "0.0316\tof\n",
            "0.0300\tand\n",
            "0.0300\tvirtual\n",
            "0.0285\treal\n",
            "0.0231\tthe\n",
            "0.0227\tproperty\n",
            "0.0214\tin\n",
            "0.0178\tfor\n",
            "0.0165\tto\n",
            "\n",
            "Topic 6\n",
            "0.0462\tthe\n",
            "0.0322\tand\n",
            "0.0317\tof\n",
            "0.0294\trisk\n",
            "0.0293\tdata\n",
            "0.0290\tfor\n",
            "0.0210\tto\n",
            "0.0166\tfinancial\n",
            "0.0151\tscore\n",
            "0.0125\tan\n",
            "\n",
            "Topic 7\n",
            "0.0906\tthe\n",
            "0.0578\tof\n",
            "0.0309\tto\n",
            "0.0271\tand\n",
            "0.0188\tfor\n",
            "0.0158\tis\n",
            "0.0135\tin\n",
            "0.0132\tor\n",
            "0.0125\tan\n",
            "0.0122\tThe\n",
            "\n",
            "Topic 8\n",
            "0.0627\tthe\n",
            "0.0441\tand\n",
            "0.0406\tto\n",
            "0.0244\tof\n",
            "0.0222\tfor\n",
            "0.0179\tor\n",
            "0.0139\tsystem\n",
            "0.0134\tThe\n",
            "0.0128\tis\n",
            "0.0121\twith\n",
            "\n",
            "Topic 9\n",
            "0.0768\ttransaction\n",
            "0.0522\tdevice\n",
            "0.0487\tthe\n",
            "0.0298\tpayment\n",
            "0.0275\tcard\n",
            "0.0264\tdata\n",
            "0.0233\tto\n",
            "0.0220\tmobile\n",
            "0.0190\twith\n",
            "0.0183\tfinancial\n",
            "\n"
          ]
        }
      ],
      "source": [
        "# Inspect topics\n",
        "for i, topic in lda_model.show_topics(num_words=10, formatted=False):\n",
        "    print(\"Topic\", i)\n",
        "    for term, score in topic:\n",
        "        print(\"%.4f\\t%s\" % (score,term))\n",
        "    print()"
      ]
    },
    {
      "cell_type": "code",
      "execution_count": null,
      "metadata": {
        "id": "nfBTw4Yq5ws_",
        "outputId": "0dd5db4c-258c-42af-eb0c-6f418aee1c94"
      },
      "outputs": [
        {
          "data": {
            "text/plain": [
              "['fund',\n",
              " 'raising',\n",
              " 'computer',\n",
              " 'network',\n",
              " 'and',\n",
              " 'method',\n",
              " 'for',\n",
              " 'simplifying',\n",
              " 'and',\n",
              " 'inducing',\n",
              " 'the',\n",
              " 'giving',\n",
              " 'of',\n",
              " 'monetary',\n",
              " 'contributions',\n",
              " 'by',\n",
              " 'multiplicity',\n",
              " 'of',\n",
              " 'prospective',\n",
              " 'contributors',\n",
              " 'consisting',\n",
              " 'of',\n",
              " 'computer',\n",
              " 'with',\n",
              " 'communication',\n",
              " 'circuitry',\n",
              " 'for',\n",
              " 'communicating',\n",
              " 'over',\n",
              " 'computer',\n",
              " 'network',\n",
              " 'data',\n",
              " 'sets',\n",
              " 'comprised',\n",
              " 'of',\n",
              " 'requests',\n",
              " 'soliciting',\n",
              " 'the',\n",
              " 'making',\n",
              " 'of',\n",
              " 'monetary',\n",
              " 'contributions',\n",
              " 'to',\n",
              " 'plurality',\n",
              " 'of',\n",
              " 'remote',\n",
              " 'prospective',\n",
              " 'contributors',\n",
              " 'computers',\n",
              " 'and',\n",
              " 'means',\n",
              " 'for',\n",
              " 'receiving',\n",
              " 'data',\n",
              " 'sets',\n",
              " 'comprised',\n",
              " 'of',\n",
              " 'contributions',\n",
              " 'from',\n",
              " 'the',\n",
              " 'remote',\n",
              " 'contributors',\n",
              " 'respective',\n",
              " 'computers',\n",
              " 'communicated',\n",
              " 'over',\n",
              " 'computer',\n",
              " 'network',\n",
              " 'The',\n",
              " 'network',\n",
              " 'and',\n",
              " 'method',\n",
              " 'induces',\n",
              " 'and',\n",
              " 'simplifies',\n",
              " 'the',\n",
              " 'making',\n",
              " 'of',\n",
              " 'contributions',\n",
              " 'Contributions',\n",
              " 'include',\n",
              " 'political',\n",
              " 'contributions',\n",
              " 'charitable',\n",
              " 'contributions',\n",
              " 'and',\n",
              " 'religious',\n",
              " 'contributions',\n",
              " 'Requests',\n",
              " 'for',\n",
              " 'contributions',\n",
              " 'include',\n",
              " 'multi',\n",
              " 'media',\n",
              " 'presentations',\n",
              " 'communicated',\n",
              " 'to',\n",
              " 'prospective',\n",
              " 'contributors',\n",
              " 'computers',\n",
              " 'which',\n",
              " 'are',\n",
              " 'networked',\n",
              " 'to',\n",
              " 'computer',\n",
              " 'networks']"
            ]
          },
          "execution_count": 23,
          "metadata": {},
          "output_type": "execute_result"
        }
      ],
      "source": [
        "tokenized_text[0]"
      ]
    },
    {
      "cell_type": "code",
      "execution_count": null,
      "metadata": {
        "scrolled": false,
        "id": "NIeezrUX5ws_",
        "outputId": "85d06234-2b7f-42e9-ac6f-ebfb9bcab4a6"
      },
      "outputs": [
        {
          "name": "stdout",
          "output_type": "stream",
          "text": [
            "Topic 0\n",
            "0.0312\tloan\n",
            "0.0104\tsystem\n",
            "0.0095\tthat\n",
            "0.0085\tmortgage\n",
            "0.0083\tborrower\n",
            "0.0080\tinvention\n",
            "0.0075\tmethod\n",
            "0.0058\tpresent\n",
            "0.0056\tlender\n",
            "0.0052\tinformation\n",
            "\n",
            "Topic 1\n",
            "0.0210\tsystem\n",
            "0.0155\tone\n",
            "0.0150\tdata\n",
            "0.0149\ttrading\n",
            "0.0115\torder\n",
            "0.0093\torders\n",
            "0.0092\tmore\n",
            "0.0086\ttransaction\n",
            "0.0081\tmarket\n",
            "0.0080\tfinancial\n",
            "\n",
            "Topic 2\n",
            "0.0338\texchange\n",
            "0.0336\tmoney\n",
            "0.0285\tcontract\n",
            "0.0182\tprimary\n",
            "0.0169\tparticipant\n",
            "0.0160\tsystem\n",
            "0.0144\tsettlement\n",
            "0.0140\tproduct\n",
            "0.0135\tsecondary\n",
            "0.0132\torder\n",
            "\n",
            "Topic 3\n",
            "0.0144\tthat\n",
            "0.0072\tsystem\n",
            "0.0062\tprocessing\n",
            "0.0056\ttransactions\n",
            "0.0052\tIn\n",
            "0.0052\telectronic\n",
            "0.0049\ttransaction\n",
            "0.0048\tprocess\n",
            "0.0047\tcheck\n",
            "0.0047\tpayment\n",
            "\n",
            "Topic 4\n",
            "0.0155\taccount\n",
            "0.0119\tinformation\n",
            "0.0103\tuser\n",
            "0.0101\tsystem\n",
            "0.0082\tmethod\n",
            "0.0081\tdata\n",
            "0.0079\tfirst\n",
            "0.0071\tpayment\n",
            "0.0066\tone\n",
            "0.0061\tcard\n",
            "\n",
            "Topic 5\n",
            "0.0428\tcredit\n",
            "0.0300\tvirtual\n",
            "0.0285\treal\n",
            "0.0227\tproperty\n",
            "0.0147\testate\n",
            "0.0143\tworld\n",
            "0.0138\ttransactions\n",
            "0.0113\tsystem\n",
            "0.0097\tembodiments\n",
            "0.0078\tIn\n",
            "\n",
            "Topic 6\n",
            "0.0294\trisk\n",
            "0.0293\tdata\n",
            "0.0166\tfinancial\n",
            "0.0151\tscore\n",
            "0.0117\tcomponent\n",
            "0.0110\tinstrument\n",
            "0.0105\tmethod\n",
            "0.0091\tbased\n",
            "0.0084\ttransaction\n",
            "0.0077\tperformance\n",
            "\n",
            "Topic 7\n",
            "0.0095\tone\n",
            "0.0084\tprice\n",
            "0.0075\tmethod\n",
            "0.0064\tthat\n",
            "0.0060\tvalue\n",
            "0.0056\tleast\n",
            "0.0054\tsystem\n",
            "0.0054\tfinancial\n",
            "0.0050\tplurality\n",
            "0.0050\teach\n",
            "\n",
            "Topic 8\n",
            "0.0139\tsystem\n",
            "0.0081\tservice\n",
            "0.0081\tinformation\n",
            "0.0068\tauction\n",
            "0.0065\tthat\n",
            "0.0059\tservices\n",
            "0.0058\tmethod\n",
            "0.0057\tconsumer\n",
            "0.0049\tsuch\n",
            "0.0048\tbuyer\n",
            "\n",
            "Topic 9\n",
            "0.0768\ttransaction\n",
            "0.0522\tdevice\n",
            "0.0298\tpayment\n",
            "0.0275\tcard\n",
            "0.0264\tdata\n",
            "0.0220\tmobile\n",
            "0.0183\tfinancial\n",
            "0.0171\tidentifier\n",
            "0.0141\tmessage\n",
            "0.0133\tmerchant\n",
            "\n"
          ]
        }
      ],
      "source": [
        "# Inspect topics\n",
        "for i, topic in lda_model.show_topics(num_words=50, formatted=False):\n",
        "    print(\"Topic\", i)\n",
        "    printed_terms = 0\n",
        "    for term, score in topic:\n",
        "        if printed_terms >= 10:\n",
        "            break\n",
        "        elif term in \"the of and to for in or The is be may an a with at are on by as from can\".split():\n",
        "            continue\n",
        "        printed_terms += 1\n",
        "        print(\"%.4f\\t%s\" % (score,term))\n",
        "    print()"
      ]
    },
    {
      "cell_type": "markdown",
      "metadata": {
        "id": "w0cRKEvZ5wtA"
      },
      "source": [
        "For visualization of topic models, see, for instance, [pyLDAvis](https://github.com/bmabey/pyLDAvis)."
      ]
    },
    {
      "cell_type": "markdown",
      "metadata": {
        "id": "k_RjbN6v5wtA"
      },
      "source": [
        "# Part II: Transfer learning (modern NLP)"
      ]
    },
    {
      "cell_type": "markdown",
      "metadata": {
        "id": "2L0yqYls5wtA"
      },
      "source": [
        "# Word vectors\n",
        "\n",
        "- Recap: We used the term-document matrix to understand semantic similarities *between documents* based on overlapping keywords\n",
        "- Now, we study similarities *between words*, by comparing the close contexts in which they appear\n",
        "- The comparison is also done in a vector space, see illustration (with only 3 dimensions):\n",
        "\n",
        "![semantic_space](figs/semspace.svg \"Illustration of words embedded in a semantic vector space\")"
      ]
    },
    {
      "cell_type": "markdown",
      "metadata": {
        "id": "WcB6fWsQ5wtA"
      },
      "source": [
        "**Simple demo, document context:**\n",
        "- We can also inspect the term-document matrix vertically, by extracting *column vectors* for terms\n",
        "- Meaning by context: A term is described by the documents in which it occurs\n",
        "- The tf-idf scores of the term vector (or word vector) define coordinates in a high-dimensional space\n",
        "    - Distances can be measured, commonly by the cosine similarity function\n"
      ]
    },
    {
      "cell_type": "code",
      "execution_count": null,
      "metadata": {
        "id": "VErtSMDg5wtA"
      },
      "outputs": [],
      "source": [
        "from sklearn.metrics.pairwise import cosine_similarity\n",
        "\n",
        "term_index = 1000\n",
        "print(\"Similar terms to:\", features[term_index])\n",
        "# Get most similar terms according to the cosine similarity of their vectors (columns in the term-document matrix)\n",
        "heapq.nlargest(10, zip(cosine_similarity(tfidf_matrix[:,term_index].todense().T, tfidf_matrix.todense().T)[0], features))\n"
      ]
    },
    {
      "cell_type": "markdown",
      "metadata": {
        "id": "yOMle8JZ5wtA"
      },
      "source": [
        "### Better approach: Word co-occurrence matrix\n",
        "\n",
        "- Look at a more immediate context of word use, e.g., +/- 5 words\n",
        "- Count word co-occurrence statistics (--> word-word matrix)"
      ]
    },
    {
      "cell_type": "markdown",
      "metadata": {
        "id": "Xt65VpfH5wtB"
      },
      "source": [
        "**Analyzing word combinations (first-order co-occurrence):**\n",
        "- Strongly associated pairs of words can be identified using the *pointwise mutual information* (PMI) score:\n",
        "    - For words x and y: $$pmi(x,y) = \\log \\frac{p(x,y)}{p(x)p(y)} $$\n",
        "\n",
        "    - where p(x,y) is estimated as the co-occurrence frequency and p(x) and p(y) as the independent occurence frequencies\n",
        "- PMI can highlight common combinations of words and topics (e.g., \"poor\"-\"service\"; \"handsome\"-\"man\" / \"beautiful\"-\"woman\")"
      ]
    },
    {
      "cell_type": "markdown",
      "metadata": {
        "id": "1P2LnPWd5wtB"
      },
      "source": [
        "More reading on: [PMI](https://en.wikipedia.org/wiki/Pointwise_mutual_information) and [other association measures](http://collocations.de/AM/index.html)."
      ]
    },
    {
      "cell_type": "markdown",
      "metadata": {
        "id": "FpcRyRgF5wtB"
      },
      "source": [
        "**Analyzing word similarity (second-order co-occurrence):**\n",
        "\n",
        "- \"You shall know a word by the company it keeps\" (J.R. Firth)\n",
        "    - The meaning of a word can be understood by the distribution of words it tends to appear in (= distributional hypothesis)\n",
        "    - Words may be similar although they to not directly co-occur (but share context words) --> 2nd order co-occurrence\n",
        "- Cosine function between word vectors gives word pair similarity"
      ]
    },
    {
      "cell_type": "markdown",
      "metadata": {
        "id": "NGRno_k05wtB"
      },
      "source": [
        "- Vectors are very sparse: \n",
        "    - Vocabulary (dimensionality) grows with corpus size, while context size is small and fixed\n",
        "    - Similarity can be estimated only when there is an overlap in terms\n",
        "    - Many rare terms / sparse vectors --> very big corpora needed for good models --> huge memory usage and scalability issues"
      ]
    },
    {
      "cell_type": "markdown",
      "metadata": {
        "id": "97uqzLAi5wtB"
      },
      "source": [
        "### Learning dense vectors\n",
        "\n",
        "More useful vectors through:\n",
        "- Matrix decomposition approach:\n",
        "    - Reduce the number of dimensions of the semantic vector space, for instance, using Singular Value Decomposition (SVD)\n",
        "        - Dimensionality reduction, e.g., from 10k or 100k to 100\n",
        "    - Also used in Latent Semantic Analysis (LSA), applied to term-document matrix"
      ]
    },
    {
      "cell_type": "markdown",
      "metadata": {
        "id": "Lf81QY7N5wtC"
      },
      "source": [
        "- Neural network approach:\n",
        "    - Learning *distributed representations* of concepts explored first by Hinton (1986)\n",
        "    - word2vec, from 2013, is an important milestone in NLP:\n",
        "        - Efficient estimation of dense word vectors, enabling fast training\n",
        "        - Provides high precision vectors when applied to large corpora\n",
        "\n",
        "- word2vec skip-gram model:\n",
        "<img src=\"https://github.com/TurkuNLP/intro-to-nlp/blob/master/figs/skipgram_model.svg?raw=1\" alt=\"skip-gram model\" width=\"800\"/>"
      ]
    },
    {
      "cell_type": "markdown",
      "metadata": {
        "id": "WZJtCkqZ5wtC"
      },
      "source": [
        "More reading on [counting vs. predicting word vectors](https://www.aclweb.org/anthology/P14-1023.pdf)."
      ]
    },
    {
      "cell_type": "code",
      "execution_count": null,
      "metadata": {
        "id": "KSLcTdL45wtC"
      },
      "outputs": [],
      "source": [
        "### Train word vectors\n",
        "\n",
        "import gensim # Make sure you also have cython installed to accelerate computation!\n",
        "\n",
        "import logging\n",
        "logging.basicConfig(format='%(asctime)s : %(levelname)s : %(message)s', level=logging.INFO)\n",
        "\n",
        "# Train word2vec model\n",
        "vectors = gensim.models.Word2Vec(tokenized_text, size=100, window=5, min_count=5, workers=4)"
      ]
    },
    {
      "cell_type": "code",
      "execution_count": null,
      "metadata": {
        "id": "qTk6t6h75wtC"
      },
      "outputs": [],
      "source": [
        "# Inspect a word vector\n",
        "vectors.wv['process']"
      ]
    },
    {
      "cell_type": "code",
      "execution_count": null,
      "metadata": {
        "id": "r5exY-7w5wtC"
      },
      "outputs": [],
      "source": [
        "# Inspect words with vectors most similar to a given word\n",
        "print(\"Most similar to:\", 'process')\n",
        "print(vectors.wv.most_similar('process'))\n",
        "print()"
      ]
    },
    {
      "cell_type": "code",
      "execution_count": null,
      "metadata": {
        "id": "ndI7KM615wtC"
      },
      "outputs": [],
      "source": [
        "# ...or combination or words (average vector)\n",
        "print(\"Most similar to:\", ['process', 'payment'])\n",
        "print(vectors.wv.most_similar(['process', 'payment']))"
      ]
    },
    {
      "cell_type": "code",
      "execution_count": null,
      "metadata": {
        "id": "ygSUkMgD5wtD"
      },
      "outputs": [],
      "source": [
        "# Inspect cosine similarities between specific words\n",
        "print(vectors.wv.similarity('technology', 'infrastructure'))\n",
        "print(vectors.wv.similarity('technology', 'system'))\n",
        "print(vectors.wv.similarity('technology', 'consumer'))\n",
        "print(vectors.wv.similarity('technology', 'advanced'))"
      ]
    },
    {
      "cell_type": "code",
      "execution_count": null,
      "metadata": {
        "id": "D_psVY655wtD"
      },
      "outputs": [],
      "source": [
        "## Test for analogies and syntactic regularities (when trained on a large and suitable corpus)\n",
        "\n",
        "\"\"\"\n",
        "# Man is to King as Woman is to ...\n",
        "# vec(woman)+vec(king)-vec(man)\n",
        "print(vectors.most_similar(['woman','king'], negative=['man']))\n",
        "print()\n",
        "\n",
        "# Fall is to Fell as Watch is to ...\n",
        "print(vectors.most_similar(['wear','fell'], negative=['fall']))\n",
        "print()\n",
        "\n",
        "print(vectors.most_similar(['Moscow','France'], negative=['Paris']))\n",
        "print()\n",
        "\n",
        "print(vectors.most_similar(['London','France'], negative=['Paris']))\n",
        "\"\"\""
      ]
    },
    {
      "cell_type": "markdown",
      "metadata": {
        "id": "agtLbh8O5wtD"
      },
      "source": [
        "### Pre-trained word vectors\n",
        "- Word vectors trained on large corpora achieve more accurate results\n",
        "- For instance, word2vec vectors pre-trained on 100B words of Google News text can be [downloaded](https://drive.google.com/file/d/0B7XkCwpI5KDYNlNUTTlSS21pQmM/edit?usp=sharing) (1.5GB) and used in the same way as self-trained vectors\n",
        "- word2vec is also efficient for training your own vectors on mid-sized corpora (e.g., 1B words)\n",
        "    - Online demo [available here](http://bionlp-www.utu.fi/wv_demo/)."
      ]
    },
    {
      "cell_type": "markdown",
      "metadata": {
        "id": "_Q7EUKJ95wtD"
      },
      "source": [
        "### Vectors as features\n",
        "\n",
        "- Dense vectors are practical to use especially in neural network models for downstream tasks (e.g., text classification)\n",
        "- Word vectors (often _word embeddings_) estimated on large amounts of raw text:\n",
        "    - Embedding layer can serve as an abstraction of text input\n",
        "    - Reduces reliance on (limited) annotated data in supervised tasks\n",
        "    - Pre-trained word vectors can make NLP models more accurate and robust\n",
        "    - This transfer of knowledge about language is called *transfer learning*\n",
        "\n",
        "<img src=\"https://github.com/TurkuNLP/intro-to-nlp/blob/master/figs/simple_lstm.svg?raw=1\" alt=\"Neural network with word embeddings\" width=\"400\"/>\n",
        "\n"
      ]
    },
    {
      "cell_type": "markdown",
      "metadata": {
        "id": "CbUXrIdy5wtD"
      },
      "source": [
        "### Limitations\n",
        "\n",
        "- Problem: Word vectors produced by word2vec are static with respect to the word\n",
        "    - I.e., a term always has the same vector representation regardless of how it is used\n",
        "    - Multiple senses of a word are not distinguished\n",
        "    - Difficult to capture meaning of sentences (unless fine-tuned on some task)"
      ]
    },
    {
      "cell_type": "code",
      "execution_count": null,
      "metadata": {
        "id": "bCd9hbe05wtE"
      },
      "outputs": [],
      "source": [
        "# Ambiguous word vector examples\n",
        "\n",
        "print(\"Most similar to:\", 'data')\n",
        "print(vectors.wv.most_similar('data'))\n",
        "print()\n",
        "\n",
        "# Are the below average vectors less ambiguous?\n",
        "print(\"Most similar to:\", ['data','transfer'])\n",
        "print(vectors.wv.most_similar(['data','transfer']))\n",
        "print()\n",
        "\n",
        "print(\"Most similar to:\", ['data','storage'])\n",
        "print(vectors.wv.most_similar(['data','storage']))\n",
        "print()"
      ]
    },
    {
      "cell_type": "markdown",
      "metadata": {
        "id": "49OPtb0-5wtE"
      },
      "source": [
        "## Contextualized word vectors with language modeling\n",
        "\n",
        "- Word meaning can be disambiguated from the context in an instance of use\n",
        "    - Compare:\n",
        "        - \"He wrote the **play** himself.\"\n",
        "        - \"He did **play** with the kids.\"\n",
        "        \n",
        "- Recent methods build on *language modeling* to provide *contextualized* word vectors"
      ]
    },
    {
      "cell_type": "markdown",
      "metadata": {
        "id": "NX7gviNW5wtE"
      },
      "source": [
        "- Recap: A language model estimates the probability *P(x)* of seeing a word _x_ following a context, such as:\n",
        "\n",
        "$$P(\\ x\\ |\\ the\\ students\\ opened\\ their\\ )$$\n",
        "\n",
        "![language modeling (source: mc.ai)](figs/language_modeling.png \"Language modeling illustration\")\n",
        "The above suggestions would be deemed much more likely than, e.g., *P(x=keyboard)*, _P(x=follows)_ or *P(x=the)*."
      ]
    },
    {
      "cell_type": "markdown",
      "metadata": {
        "id": "Hz8Ft8Cg5wtE"
      },
      "source": [
        "<font color=\"grey\">Lanugage modeling recap: Consider a simple statistical model that estimates the probability of a word given a number of previous words in a text. For instance, given the words *the dog loved to*, the model would deem it much more likely that the next word is _play_ than any word that does not fit semantically or syntactically (e.g., *green*, _played_ or *code*). The probability _p(play | the dog loved to)_ is much higher than for most other words. Such a model can be implemented as a machine learning model, typically a neural network that can take into account a long context, and be trained over large amounts of text. Language models that have a large number of internal trainable parameters can learn complicated regularities of natural language, by learning to accurately predict the next word in a sequence.</font>\n"
      ]
    },
    {
      "cell_type": "markdown",
      "metadata": {
        "id": "g0bxAasK5wtE"
      },
      "source": [
        "For instance, [ELMo](https://allennlp.org/elmo) (released early 2018) uses recurrent neural networks (LSTM) for learning contextualized word vectors through language modeling.\n",
        "\n",
        "<img src=\"https://github.com/TurkuNLP/intro-to-nlp/blob/master/figs/elmo-language-modeling.png?raw=1\" width=\"400\" alt=\"Source: https://jalammar.github.io/illustrated-bert/\"/>\n",
        "\n"
      ]
    },
    {
      "cell_type": "markdown",
      "metadata": {
        "id": "T2B32Wao5wtF"
      },
      "source": [
        "- ELMo holds internal vector representations as it traverses the word sequence, which can be aggregated to:\n",
        "    - Contextualized word vectors\n",
        "    - A sentence vector, reflecting composite meaning\n",
        "\n",
        "<img src=\"https://github.com/TurkuNLP/intro-to-nlp/blob/master/figs/elmo-embedding.png?raw=1\" width=\"550\" alt=\"Source: https://jalammar.github.io/illustrated-bert/\"/>"
      ]
    },
    {
      "cell_type": "code",
      "execution_count": null,
      "metadata": {
        "id": "aGxdR6IP5wtF"
      },
      "outputs": [],
      "source": [
        "#!pip install tensorflow==1.15\n",
        "#!pip install \"tensorflow_hub>=0.6.0\"\n",
        "#!pip3 install tensorflow_text==1.15\n",
        "\n",
        "import tensorflow_hub as hub\n",
        "import tensorflow as tf\n",
        "\n",
        "# Load ELMo model (takes a little while)\n",
        "elmo = hub.Module(\"https://tfhub.dev/google/elmo/3\", trainable=True)\n",
        "\n",
        "def elmo_vectors(sents):\n",
        "    embeddings = elmo(sents, signature=\"default\", as_dict=True)[\"elmo\"]\n",
        "    with tf.Session() as sess:\n",
        "        sess.run(tf.global_variables_initializer())\n",
        "        return sess.run(embeddings)\n",
        "        #sess.run(tf.tables_initializer())\n",
        "        # return average of ELMo features as sentence vector\n",
        "        #return sess.run(tf.reduce_mean(embeddings,1))"
      ]
    },
    {
      "cell_type": "code",
      "execution_count": null,
      "metadata": {
        "id": "PlWsvJFi5wtF"
      },
      "outputs": [],
      "source": [
        "# Get contextualized vectors for target word in different sentences\n",
        "\n",
        "sents = \"\"\"He wrote the play himself .\n",
        "He did play with the kids .\n",
        "His excuse didn't play well .\n",
        "I saw the play with him .\n",
        "He can play it by ear .\"\"\".split('\\n')\n",
        "\n",
        "target = 'play'\n",
        "\n",
        "elmo_vecs = elmo_vectors(sents)\n",
        "word_vecs = []\n",
        "for i, sent in enumerate(sents):\n",
        "    word_vecs.append(elmo_vecs[i][sent.split().index(target)])\n",
        "    print(\"Sentence:\", sent)\n",
        "    print(\"Vector for '%s':\" % target, word_vecs[-1])\n",
        "    print()\n",
        "\n",
        "print(\"Word vector size:\", word_vecs[0].shape)"
      ]
    },
    {
      "cell_type": "code",
      "execution_count": null,
      "metadata": {
        "id": "RTxDTb5L5wtF"
      },
      "outputs": [],
      "source": [
        "from sklearn.metrics.pairwise import cosine_similarity\n",
        "\n",
        "vec_size = word_vecs[0].shape[0]\n",
        "print(\"Similarities between '%s' vector in sentences:\" % target)\n",
        "for i in range(1, len(sents)):\n",
        "    print(\"Sent 0-%d:\" % i, cosine_similarity(word_vecs[0].reshape((1,vec_size)), \n",
        "                                              word_vecs[i].reshape((1,vec_size)))[0][0])"
      ]
    },
    {
      "cell_type": "markdown",
      "metadata": {
        "id": "vZVyMKJ75wtF"
      },
      "source": [
        "### Even bigger pre-trained models: BERT etc.\n",
        "\n",
        "- In late 2018, a new, much larger pre-trained language model was released called *BERT* (Bidirectional Encoder Representations from Transformers)\n",
        "- Transformers can be better parallelized than recurrent network architectures\n",
        "    - --> Enables training of much larger models than before (on GPU/TPU)\n",
        "- BERT Large model: 340M parameters ~ 24 Transformer layers x 1024 hidden units x 16 attention heads\n",
        "    - Compared with ELMo (93.6M parameters), BERT Base (110M)"
      ]
    },
    {
      "cell_type": "markdown",
      "metadata": {
        "id": "naaebaUn5wtG"
      },
      "source": [
        "- Language modeling by learning to predict individual masked words\n",
        "    - Tricky task that benefits from sophisticated \"understanding\" of sentences\n",
        "    - Transformers are good at modeling long-range dependencies"
      ]
    },
    {
      "cell_type": "markdown",
      "metadata": {
        "id": "Z-hLEfbG5wtG"
      },
      "source": [
        "- Computationally very demaning to train (compute cost ~$10k per run, trained on 3.3B words)\n",
        "- But, fine-tuning model for downstream task (e.g., classification) is quick\n",
        "- BERT was able to beat the best performing models in a range of NLP tasks at once"
      ]
    },
    {
      "cell_type": "markdown",
      "metadata": {
        "id": "mx2WtP1b5wtG"
      },
      "source": [
        "Simple BERT model illustration. Each token position is connected to each position in the next layer.\n",
        "<img src=\"https://github.com/TurkuNLP/intro-to-nlp/blob/master/figs/bert.png?raw=1\" width=\"400\"/>\n",
        "More illustrated reading on the [Transformer architecture](https://jalammar.github.io/illustrated-transformer/)."
      ]
    },
    {
      "cell_type": "markdown",
      "metadata": {
        "id": "ky2nlW2F5wtG"
      },
      "source": [
        "Visualization of token-token activations for a sentence per layer and attention head.\n",
        "<img src=\"https://github.com/TurkuNLP/intro-to-nlp/blob/master/figs/bertvis.png?raw=1\" source=\"Jesse Vig\"/>"
      ]
    },
    {
      "cell_type": "markdown",
      "metadata": {
        "id": "MjpwQZEr5wtG"
      },
      "source": [
        "- BERT has been particularly successful at *natural language understanding (NLU)* tasks, e.g.:\n",
        "    - Sentence acceptability\n",
        "    - Sentiment\n",
        "    - Paraphrase identification\n",
        "    - Natural language inference\n",
        "    - Question answering\n",
        "    \n",
        "\n",
        "- Note, however, these models risk learning spurious statistical patterns, rather than real inference (cf. [[1]](https://www.technologyreview.com/s/615126/ai-common-sense-reads-human-language-ai2/)[[2]](https://www.aclweb.org/anthology/P19-1459.pdf))!"
      ]
    },
    {
      "cell_type": "markdown",
      "metadata": {
        "id": "TmwM5JAY5wtG"
      },
      "source": [
        "BERT has inspired a never-ending stream of successors. See [GLUE (NLU tasks) leaderboard](https://gluebenchmark.com/leaderboard).\n",
        "<img alt=\"Map of the BERTology landscape\" src=\"https://github.com/TurkuNLP/intro-to-nlp/blob/master/figs/bertology_map.png?raw=1\"/>\n"
      ]
    },
    {
      "cell_type": "markdown",
      "metadata": {
        "id": "PV3ojJuT5wtH"
      },
      "source": [
        "Getting started with Transformer-based language models (GPU highly recommended): [huggingface transformers library](https://huggingface.co/transformers/pretrained_models.html)\n",
        "\n",
        "<code>import torch\n",
        "from transformers import BertTokenizer, BertModel\n",
        "tokenizer = BertTokenizer.from_pretrained('bert-base-uncased')\n",
        "model = BertModel.from_pretrained('bert-base-uncased')\n",
        "...</code>\n",
        "\n",
        "or with `bert-base-finnish-cased-v1` model from TurkuNLP!\n"
      ]
    },
    {
      "cell_type": "markdown",
      "metadata": {
        "id": "tdViYiPA5wtH"
      },
      "source": [
        "Multilingual models include Multilingual BERT `bert-base-multilingual-cased` and the more recent XLM-RoBERTa (XLM-R) `xlm-roberta-base` or `xlm-roberta-large`."
      ]
    },
    {
      "cell_type": "code",
      "execution_count": null,
      "metadata": {
        "id": "Ji_vG3-S5wtH"
      },
      "outputs": [],
      "source": [
        ""
      ]
    }
  ],
  "metadata": {
    "kernelspec": {
      "display_name": "Python 3",
      "language": "python",
      "name": "python3"
    },
    "language_info": {
      "codemirror_mode": {
        "name": "ipython",
        "version": 3
      },
      "file_extension": ".py",
      "mimetype": "text/x-python",
      "name": "python",
      "nbconvert_exporter": "python",
      "pygments_lexer": "ipython3",
      "version": "3.6.9"
    },
    "colab": {
      "name": "unsupervised_nlp.ipynb",
      "provenance": [],
      "include_colab_link": true
    }
  },
  "nbformat": 4,
  "nbformat_minor": 0
}