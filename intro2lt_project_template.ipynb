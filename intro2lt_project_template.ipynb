{
 "cells": [
  {
   "cell_type": "markdown",
   "metadata": {
    "colab_type": "text",
    "id": "view-in-github"
   },
   "source": [
    "<a href=\"https://colab.research.google.com/github/TurkuNLP/intro-to-nlp/blob/master/intro2lt_project_template.ipynb\" target=\"_parent\"><img src=\"https://colab.research.google.com/assets/colab-badge.svg\" alt=\"Open In Colab\"/></a>"
   ]
  },
  {
   "cell_type": "markdown",
   "metadata": {
    "id": "3mvdzdpexOZu"
   },
   "source": [
    "# Introduction\n",
    "\n",
    "This notebook is the template for the **Introduction to Language Technology** course project. The notebook contains four sections, the first three of which are mandatory and the last optional."
   ]
  },
  {
   "cell_type": "markdown",
   "metadata": {},
   "source": [
    "## Contributions\n",
    "\n",
    "List all of the members of the group contributing to this project and briefly describe the contributions of each to this project here:\n",
    "\n",
    "* Names:\n",
    "* Contributions: "
   ]
  },
  {
   "cell_type": "markdown",
   "metadata": {},
   "source": [
    "---"
   ]
  },
  {
   "cell_type": "markdown",
   "metadata": {},
   "source": [
    "## Sub-assignment 1: Annotation\n",
    "\n",
    "Provide a short summary of the annotation work (about 0.5 pages) describing your personal impression of the annotation task, including e.g. task difficulty, borderline cases, annotation speed, agreement, or anything else you found interesting.\n",
    "\n",
    "(This sub-assignment corresponds to the assigment 1 you completed previously.)"
   ]
  },
  {
   "cell_type": "markdown",
   "metadata": {},
   "source": [
    "#### (your description for sub-assignment 1 goes here.)"
   ]
  },
  {
   "cell_type": "markdown",
   "metadata": {},
   "source": [
    "---"
   ]
  },
  {
   "cell_type": "markdown",
   "metadata": {
    "id": "DNZ3yCmG1z7s"
   },
   "source": [
    "## Sub-assignment 2: Dataset Analysis\n",
    "\n",
    "Provide a Python implementation loading and analyzing basic statistics of the dataset, including e.g. observations of the label distribution, vocabulary, word frequencies, and annotation agreement. Include a brief description of key results.\n",
    "\n",
    "(This sub-assignment corresponds to the assigment 3 you completed previously. You are encouraged to use your initial submission here. If you revise your submission based on the presented solutions, please include a description of how your initial submission was improved.)"
   ]
  },
  {
   "cell_type": "code",
   "execution_count": 13,
   "metadata": {
    "id": "PuYaWdzhb485"
   },
   "outputs": [],
   "source": [
    "# Your code for sub-assignment 2 goes here, divided to as many cells as you like."
   ]
  },
  {
   "cell_type": "markdown",
   "metadata": {},
   "source": [
    "#### (your description for sub-assignment 2 goes here.)"
   ]
  },
  {
   "cell_type": "markdown",
   "metadata": {},
   "source": [
    "---"
   ]
  },
  {
   "cell_type": "markdown",
   "metadata": {},
   "source": [
    "## Sub-assignment 3: Sentiment target classifier\n",
    "\n",
    "Provide a Python implementation of an off-the-shelf classifier (e.g. from the sklearn library) trained and evaluated on the dataset. Include a brief description of how hyperparameters were selected, what features are used, how the `TARGET` is represented in the input of the classifier, and summarize evaluation results.\n",
    "\n",
    "(This sub-assignment corresponds to the assigment 3 you completed previously. You are encouraged to use your initial submission here. If you revise your submission based on the presented solutions, please include a description of how your initial submission was improved.)"
   ]
  },
  {
   "cell_type": "code",
   "execution_count": 12,
   "metadata": {},
   "outputs": [],
   "source": [
    "# Your code for sub-assignment 3 goes here, divided to as many cells as you like."
   ]
  },
  {
   "cell_type": "markdown",
   "metadata": {},
   "source": [
    "#### (your description for sub-assignment 3 goes here.)"
   ]
  },
  {
   "cell_type": "markdown",
   "metadata": {},
   "source": [
    "---"
   ]
  },
  {
   "cell_type": "markdown",
   "metadata": {
    "id": "EJgwlHOYvdtW"
   },
   "source": [
    "## Sub-assignment 4: Improved sentiment target classifier (Optional)\n",
    "\n",
    "Provide a Python implementation of a sentiment target classifier that improves on the basic classifier you introduced in sub-assignment 3. Your improvements should be non-trivial, evaluated on the data, and a description of the results included.\n",
    "\n",
    "Options for improving the classifier include (but are not restricted to) careful exploration of the hyperparameter space and feature representation (e.g. length of N-grams), more detailed study of how different representations of the `TARGET` impact performance, and use of advanced classification methods. (One fully studied improvement is enough.)"
   ]
  },
  {
   "cell_type": "code",
   "execution_count": 11,
   "metadata": {
    "id": "k0fRtIeOHIuB"
   },
   "outputs": [],
   "source": [
    "# Your code for optional sub-assignment 4 goes here, divided to as many cells as you like."
   ]
  },
  {
   "cell_type": "markdown",
   "metadata": {},
   "source": [
    "#### (your description for optional sub-assignment 4 goes here.)"
   ]
  },
  {
   "cell_type": "markdown",
   "metadata": {
    "id": "mb47GSKrEOdL"
   },
   "source": [
    "## Submission information\n",
    "\n",
    "**Please submit a .ipynb version of the notebook to Moodle.** (**NOTE:** not PDF.). Please check that the submission is of reasonable quality representing your effort, e.g. that all the cells are executed and their outputs are visible."
   ]
  }
 ],
 "metadata": {
  "colab": {
   "collapsed_sections": [],
   "include_colab_link": true,
   "name": "intro2lt_assignment_5.ipynb",
   "provenance": []
  },
  "kernelspec": {
   "display_name": "Python 3 (ipykernel)",
   "language": "python",
   "name": "python3"
  },
  "language_info": {
   "codemirror_mode": {
    "name": "ipython",
    "version": 3
   },
   "file_extension": ".py",
   "mimetype": "text/x-python",
   "name": "python",
   "nbconvert_exporter": "python",
   "pygments_lexer": "ipython3",
   "version": "3.9.7"
  }
 },
 "nbformat": 4,
 "nbformat_minor": 1
}
