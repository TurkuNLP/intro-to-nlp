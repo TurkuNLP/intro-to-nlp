{
  "nbformat": 4,
  "nbformat_minor": 0,
  "metadata": {
    "colab": {
      "name": "intro2lt_assignment_4.ipynb",
      "provenance": [],
      "collapsed_sections": [],
      "include_colab_link": true
    },
    "kernelspec": {
      "name": "python3",
      "display_name": "Python 3"
    },
    "language_info": {
      "name": "python"
    }
  },
  "cells": [
    {
      "cell_type": "markdown",
      "metadata": {
        "id": "view-in-github",
        "colab_type": "text"
      },
      "source": [
        "<a href=\"https://colab.research.google.com/github/TurkuNLP/intro-to-nlp/blob/master/intro2lt_assignment_4.ipynb\" target=\"_parent\"><img src=\"https://colab.research.google.com/assets/colab-badge.svg\" alt=\"Open In Colab\"/></a>"
      ]
    },
    {
      "cell_type": "markdown",
      "source": [
        "<h3>Introduction</h3>\n",
        "\n",
        "This notebook is the template for **project assignment 4**. Please base your submission on this template. Further information on submission is at the end of the notebook.\n",
        "\n",
        "In this assignment, we will continue to use the dataset from the previous assignments. There are three mandatory exercises:\n",
        "\n",
        "*  Data loading\n",
        "*  Incorporate N-grams (for N>1) into the SVC classifier\n",
        "*  Look at the important features of the SVC classifier\n",
        "\n",
        "In addition, there is an optional exercise:\n",
        "*   Train a neural bag-of-words classifier\n",
        "\n",
        "We provide textual guidelines for the tasks and your task is to turn these instructions into code. In many cases, there are many ways a task can be achieved. Our tips and instructions are for beginning coders, and if you know what you are doing, you can choose whatever methods that you are comfortable with. Please ask for help in case you run into issues.\n",
        "\n",
        "### Data\n",
        "\n",
        "**Finnish:** you use the data created in week 1 as usual, there is enough of it\n",
        "**English:** use the data created in week 1 and mix it with this additional data to have enough for decent results, remember to shuffle! http://dl.turkunlp.org/ABSA16/ABSA16_Restaurants_Train_SB1_v2.tsv\n",
        "\n",
        "### Contributions\n",
        "\n",
        "In case the assignment is completed as **group work**, list all students and their contributions here.\n",
        "\n",
        "* Names:\n",
        "* Contributions: "
      ],
      "metadata": {
        "id": "3mvdzdpexOZu"
      }
    },
    {
      "cell_type": "markdown",
      "source": [
        "<h2>Questions 1-3: Data loading and classification</h2> \n",
        "\n",
        "(1) **Load the data**: As with the previous assignments, load the data. It is an advantage to load the data such that texts and labels are in two same-length lists. This is the format in which many of the `sklearn` functions need the data. Since you will be classifying the data, you should split it randomly to train and test sections.\n",
        "\n",
        "(2) **Vary the ngrams features for the SVC classifier**: Experiment with varying number of ngram features fed into the classifier (hint: read the documentation of sklearn CountVectorizer https://scikit-learn.org/stable/modules/generated/sklearn.feature_extraction.text.CountVectorizer.html). The classifier is a linear SVC classifier. What ngram range works best, and what is the performance of the best classifier?\n",
        "\n",
        "(3) **Look at the important features**: Look at the important features of the best performing classifier from Question 2. Hint: refer to the notebook https://github.com/TurkuNLP/intro-to-nlp/blob/master/feature_interpretation.ipynb. Do they make sense?"
      ],
      "metadata": {
        "id": "DNZ3yCmG1z7s"
      }
    },
    {
      "cell_type": "markdown",
      "source": [
        "## Answers to questions (1-3)\n",
        "\n",
        "Summarize what you learned from the ngram feature experiments and the important features. How do you interpret these results?"
      ],
      "metadata": {
        "id": "LRciFeyHb8t5"
      }
    },
    {
      "cell_type": "code",
      "source": [
        "# Your code for (1-3) goes here, divided to as many cells as you like"
      ],
      "metadata": {
        "id": "PuYaWdzhb485"
      },
      "execution_count": null,
      "outputs": []
    },
    {
      "cell_type": "markdown",
      "source": [
        "<h1> Question 4: (Optional)</h1>\n",
        "\n",
        "In the videos *Neural Network Primer* and *Neural network based bag of words classifier*, the basics of neural network have been explained. Build a neural bag-of-words classifier from this data. Hint: you can use the code in this notebook: https://github.com/TurkuNLP/intro-to-nlp/blob/master/nn_bow_classifier.ipynb How do the results compare to the non-neural models? How does the accuracy for the training and validation sets change as the model trains?\n",
        "\n",
        "<h1> Answer to question 4:</h1>"
      ],
      "metadata": {
        "id": "EJgwlHOYvdtW"
      }
    },
    {
      "cell_type": "markdown",
      "source": [
        "Your answer to Question 4 goes here."
      ],
      "metadata": {
        "id": "ONMLzCJYwySw"
      }
    },
    {
      "cell_type": "markdown",
      "source": [
        "<h3>Submission information</h3>\n",
        "\n",
        "**Please submit a .ipynb or .pdf version of the notebook to Moodle.** You can obtain pdf on Colab through File > Print > Save to pdf, but you can also submit an .ipynb (note: we won't execute the code). Please check that the submission is of reasonable quality representing your effort. E.g. all the cells are executed and their outputs are visible (this holds for both .pdf and .ipynb)"
      ],
      "metadata": {
        "id": "mb47GSKrEOdL"
      }
    }
  ]
}